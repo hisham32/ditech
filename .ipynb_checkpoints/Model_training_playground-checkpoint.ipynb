{
 "cells": [
  {
   "cell_type": "code",
   "execution_count": 1,
   "metadata": {
    "collapsed": false
   },
   "outputs": [],
   "source": [
    "y_true = []\n",
    "row = []\n",
    "data = []\n",
    "\n",
    "date = []\n",
    "slot = []\n",
    "dist = []\n",
    "\n",
    "with open(\"training_data\", 'r') as fr:\n",
    "    while True:\n",
    "        event = fr.readline().strip()\n",
    "        if not event: break;\n",
    "        \n",
    "        event = event.split(' ')\n",
    "        y_true.append(int(event[0]))\n",
    "        date.append(int(event[1]))\n",
    "        slot.append(int(event[2]))\n",
    "        dist.append(int(event[3]))\n",
    "        \n",
    "        vidx = []\n",
    "        vdata = []\n",
    "        for itm in event[4:]:\n",
    "            idx, val = itm.split(':')\n",
    "            vidx.append(int(idx))\n",
    "            vdata.append(float(val))\n",
    "        row.append(vidx)\n",
    "        data.append(vdata)"
   ]
  },
  {
   "cell_type": "code",
   "execution_count": 2,
   "metadata": {
    "collapsed": false
   },
   "outputs": [],
   "source": [
    "from extend_feature import *"
   ]
  },
  {
   "cell_type": "code",
   "execution_count": 3,
   "metadata": {
    "collapsed": false
   },
   "outputs": [],
   "source": [
    "for i, (r, d) in enumerate(zip(row, data)):\n",
    "    r, d = extend_2dfeature(r, d)\n",
    "    row[i]=r\n",
    "    data[i]=d"
   ]
  },
  {
   "cell_type": "code",
   "execution_count": 4,
   "metadata": {
    "collapsed": false
   },
   "outputs": [],
   "source": [
    "col = []\n",
    "for i in xrange(len(row)):\n",
    "    col.append([i]*len(row[i]))"
   ]
  },
  {
   "cell_type": "code",
   "execution_count": 5,
   "metadata": {
    "collapsed": false
   },
   "outputs": [],
   "source": [
    "from scipy.sparse import coo_matrix\n",
    "X = coo_matrix((np.hstack(data), (np.hstack(col), np.hstack(row))), shape=(len(y_true), ext[-1]))\n",
    "X = X.tocsr()"
   ]
  },
  {
   "cell_type": "code",
   "execution_count": 6,
   "metadata": {
    "collapsed": false
   },
   "outputs": [
    {
     "data": {
      "text/plain": [
       "<84693x20969 sparse matrix of type '<type 'numpy.float64'>'\n",
       "\twith 1207340 stored elements in Compressed Sparse Row format>"
      ]
     },
     "execution_count": 6,
     "metadata": {},
     "output_type": "execute_result"
    }
   ],
   "source": [
    "X"
   ]
  },
  {
   "cell_type": "code",
   "execution_count": 6,
   "metadata": {
    "collapsed": true
   },
   "outputs": [],
   "source": [
    "Y = np.asarray(y_true)"
   ]
  },
  {
   "cell_type": "code",
   "execution_count": 7,
   "metadata": {
    "collapsed": true
   },
   "outputs": [],
   "source": [
    "weight = np.zeros(Y.shape)\n",
    "for i, y in enumerate(Y):\n",
    "    if y==0:\n",
    "        weight[i]=1\n",
    "    else:\n",
    "        weight[i]=1/y"
   ]
  },
  {
   "cell_type": "code",
   "execution_count": 20,
   "metadata": {
    "collapsed": true
   },
   "outputs": [],
   "source": [
    "y_true = []\n",
    "col = []\n",
    "data = []\n",
    "\n",
    "date = []\n",
    "slotv = []\n",
    "distv = []\n",
    "\n",
    "with open(\"validation_data\", 'r') as fr:\n",
    "    while True:\n",
    "        event = fr.readline().strip()\n",
    "        if not event: break;\n",
    "        \n",
    "        event = event.split(' ')\n",
    "        y_true.append(int(event[0]))\n",
    "        date.append(int(event[1]))\n",
    "        slotv.append(int(event[2]))\n",
    "        distv.append(int(event[3]))\n",
    "        \n",
    "        vidx = []\n",
    "        vdata = []\n",
    "        for itm in event[4:]:\n",
    "            idx, val = itm.split(':')\n",
    "            vidx.append(int(idx))\n",
    "            vdata.append(float(val))\n",
    "        col.append(vidx)\n",
    "        data.append(vdata)"
   ]
  },
  {
   "cell_type": "code",
   "execution_count": null,
   "metadata": {
    "collapsed": true
   },
   "outputs": [],
   "source": []
  },
  {
   "cell_type": "code",
   "execution_count": 13,
   "metadata": {
    "collapsed": false
   },
   "outputs": [],
   "source": [
    "for i, (c, d) in enumerate(zip(col, data)):\n",
    "    c, d = extend_2dfeature(c, d)\n",
    "    col[i]=c\n",
    "    data[i]=d"
   ]
  },
  {
   "cell_type": "code",
   "execution_count": 14,
   "metadata": {
    "collapsed": false
   },
   "outputs": [],
   "source": [
    "row = []\n",
    "for i in xrange(len(col)):\n",
    "    row.append([i]*len(col[i]))"
   ]
  },
  {
   "cell_type": "code",
   "execution_count": 15,
   "metadata": {
    "collapsed": false
   },
   "outputs": [],
   "source": [
    "Xv = coo_matrix((np.hstack(data), (np.hstack(row), np.hstack(col))), shape=(len(y_true), ext[-1]))\n",
    "Xv = Xv.tocsr()\n",
    "Yv = np.asarray(y_true)"
   ]
  },
  {
   "cell_type": "code",
   "execution_count": 8,
   "metadata": {
    "collapsed": false
   },
   "outputs": [
    {
     "data": {
      "text/plain": [
       "Ridge(alpha=10, copy_X=True, fit_intercept=True, max_iter=None,\n",
       "   normalize=False, random_state=None, solver='auto', tol=0.001)"
      ]
     },
     "execution_count": 8,
     "metadata": {},
     "output_type": "execute_result"
    }
   ],
   "source": [
    "from sklearn.linear_model import Ridge\n",
    "lr = Ridge(alpha=10)\n",
    "lr.fit(X, Y, weight)"
   ]
  },
  {
   "cell_type": "code",
   "execution_count": 9,
   "metadata": {
    "collapsed": true
   },
   "outputs": [],
   "source": [
    "Y_pred = lr.predict(X)"
   ]
  },
  {
   "cell_type": "code",
   "execution_count": 14,
   "metadata": {
    "collapsed": false
   },
   "outputs": [
    {
     "data": {
      "text/plain": [
       "array([ 8.37986386,  5.08294088,  5.6898639 , ..., -0.09732153,\n",
       "       -0.43269772, -0.43170051])"
      ]
     },
     "execution_count": 14,
     "metadata": {},
     "output_type": "execute_result"
    }
   ],
   "source": [
    "Y_pred"
   ]
  },
  {
   "cell_type": "code",
   "execution_count": 10,
   "metadata": {
    "collapsed": false
   },
   "outputs": [],
   "source": [
    "Y_pred[Y_pred<0]=0"
   ]
  },
  {
   "cell_type": "code",
   "execution_count": 23,
   "metadata": {
    "collapsed": false
   },
   "outputs": [
    {
     "data": {
      "text/plain": [
       "array([4, 7, 7, ..., 0, 1, 0])"
      ]
     },
     "execution_count": 23,
     "metadata": {},
     "output_type": "execute_result"
    }
   ],
   "source": [
    "Yv"
   ]
  },
  {
   "cell_type": "code",
   "execution_count": 16,
   "metadata": {
    "collapsed": false
   },
   "outputs": [],
   "source": [
    "Yv_pred = lr.predict(Xv)"
   ]
  },
  {
   "cell_type": "code",
   "execution_count": 17,
   "metadata": {
    "collapsed": false
   },
   "outputs": [],
   "source": [
    "Yv_pred[Yv_pred<0]=0"
   ]
  },
  {
   "cell_type": "code",
   "execution_count": 10,
   "metadata": {
    "collapsed": false
   },
   "outputs": [
    {
     "data": {
      "text/plain": [
       "[275, 18125, 20699, 20969]"
      ]
     },
     "execution_count": 10,
     "metadata": {},
     "output_type": "execute_result"
    }
   ],
   "source": [
    "ext"
   ]
  },
  {
   "cell_type": "code",
   "execution_count": 1,
   "metadata": {
    "collapsed": true
   },
   "outputs": [],
   "source": [
    "def mape(y_true, y_pred, slot, dist):\n",
    "    loss = np.zeros((144, 66))\n",
    "    for i, (s, d) in enumerate(slot, dist):\n",
    "        d -=1\n",
    "        if y_true!=0:\n",
    "            loss[s, d] = np.abs(1-y_pred[i]/y_true[i])\n",
    "    l = np.sum(loss, axis=0)/144\n",
    "    return np.sum(l)/66"
   ]
  },
  {
   "cell_type": "code",
   "execution_count": 16,
   "metadata": {
    "collapsed": true
   },
   "outputs": [],
   "source": [
    "loss = np.zeros((144, 66))"
   ]
  },
  {
   "cell_type": "code",
   "execution_count": 19,
   "metadata": {
    "collapsed": false
   },
   "outputs": [
    {
     "data": {
      "text/plain": [
       "(66,)"
      ]
     },
     "execution_count": 19,
     "metadata": {},
     "output_type": "execute_result"
    }
   ],
   "source": [
    "np.sum(loss, axis=0).shape"
   ]
  },
  {
   "cell_type": "code",
   "execution_count": 21,
   "metadata": {
    "collapsed": false
   },
   "outputs": [
    {
     "data": {
      "text/plain": [
       "0.24000297358666692"
      ]
     },
     "execution_count": 21,
     "metadata": {},
     "output_type": "execute_result"
    }
   ],
   "source": [
    "mape(Yv, Yv_pred, slotv, distv)"
   ]
  },
  {
   "cell_type": "code",
   "execution_count": 17,
   "metadata": {
    "collapsed": false
   },
   "outputs": [
    {
     "data": {
      "text/plain": [
       "array([ 1.        ,  0.5       ,  0.33333333,  0.25      ])"
      ]
     },
     "execution_count": 17,
     "metadata": {},
     "output_type": "execute_result"
    }
   ],
   "source": [
    "np.ones(4)/np.arange(1,5)"
   ]
  },
  {
   "cell_type": "code",
   "execution_count": 24,
   "metadata": {
    "collapsed": true
   },
   "outputs": [],
   "source": [
    "record = []\n",
    "with open(\"season_1/test_set_1/read_me_1.txt\", 'r') as fr:\n",
    "    while True:\n",
    "        r = fr.readline().strip()\n",
    "        if not r: break;\n",
    "        \n",
    "        for i in xrange(1,67):\n",
    "            record.append((i, r))"
   ]
  },
  {
   "cell_type": "code",
   "execution_count": 3,
   "metadata": {
    "collapsed": false
   },
   "outputs": [
    {
     "data": {
      "text/plain": [
       "2838"
      ]
     },
     "execution_count": 3,
     "metadata": {},
     "output_type": "execute_result"
    }
   ],
   "source": [
    "len(record)"
   ]
  },
  {
   "cell_type": "code",
   "execution_count": 4,
   "metadata": {
    "collapsed": true
   },
   "outputs": [],
   "source": [
    "col = []\n",
    "data = []\n",
    "with open(\"test_data\") as fr:\n",
    "    while True:\n",
    "        r = fr.readline().strip()\n",
    "        if not r: break;\n",
    "        r = r.split(\" \")\n",
    "        \n",
    "        vidx = []\n",
    "        vdata = []\n",
    "        for x in r:\n",
    "            idx, val = x.split(\":\")\n",
    "            vidx.append(int(idx))\n",
    "            vdata.append(float(val))\n",
    "        \n",
    "        col.append(vidx)\n",
    "        data.append(vdata)"
   ]
  },
  {
   "cell_type": "code",
   "execution_count": 6,
   "metadata": {
    "collapsed": true
   },
   "outputs": [],
   "source": [
    "from evaluation import *"
   ]
  },
  {
   "cell_type": "code",
   "execution_count": 8,
   "metadata": {
    "collapsed": false
   },
   "outputs": [],
   "source": [
    "X, Y, slot, dist = getdata(\"training_data_total\")"
   ]
  },
  {
   "cell_type": "code",
   "execution_count": 9,
   "metadata": {
    "collapsed": false
   },
   "outputs": [
    {
     "data": {
      "text/plain": [
       "Ridge(alpha=10, copy_X=True, fit_intercept=True, max_iter=None,\n",
       "   normalize=False, random_state=None, solver='auto', tol=0.001)"
      ]
     },
     "execution_count": 9,
     "metadata": {},
     "output_type": "execute_result"
    }
   ],
   "source": [
    "from sklearn.linear_model import Ridge\n",
    "\n",
    "\n",
    "weight = np.zeros(Y.shape)\n",
    "for i, y in enumerate(Y):\n",
    "    if y==0:\n",
    "        weight[i]=1\n",
    "    else:\n",
    "        weight[i]=1/y\n",
    "\n",
    "lr = Ridge(alpha=10)\n",
    "lr.fit(X, Y, weight)"
   ]
  },
  {
   "cell_type": "code",
   "execution_count": 10,
   "metadata": {
    "collapsed": true
   },
   "outputs": [],
   "source": [
    "Xt, recs = gettestdata(\"test_data\", \"season_1/test_set_1/read_me_1.txt\")"
   ]
  },
  {
   "cell_type": "code",
   "execution_count": 17,
   "metadata": {
    "collapsed": true
   },
   "outputs": [],
   "source": [
    "Y_pred = lr.predict(X)"
   ]
  },
  {
   "cell_type": "code",
   "execution_count": 18,
   "metadata": {
    "collapsed": false
   },
   "outputs": [],
   "source": [
    "Y[Y<0]=0"
   ]
  },
  {
   "cell_type": "code",
   "execution_count": 14,
   "metadata": {
    "collapsed": false
   },
   "outputs": [
    {
     "data": {
      "text/plain": [
       "array([ 0.50515934,  0.18966589,  0.0744843 , ...,  0.17523388,\n",
       "        0.32034611,  0.13346256])"
      ]
     },
     "execution_count": 14,
     "metadata": {},
     "output_type": "execute_result"
    }
   ],
   "source": [
    "Yt"
   ]
  },
  {
   "cell_type": "code",
   "execution_count": 16,
   "metadata": {
    "collapsed": true
   },
   "outputs": [],
   "source": [
    "with open(\"result.csv\", \"w\") as fw:\n",
    "    for i, (r, s) in enumerate(recs):\n",
    "        fw.write(\"{0},{1},{2}\\n\".format(r, s, Yt[i]))"
   ]
  },
  {
   "cell_type": "code",
   "execution_count": 19,
   "metadata": {
    "collapsed": false
   },
   "outputs": [
    {
     "data": {
      "text/plain": [
       "0.10702183890449453"
      ]
     },
     "execution_count": 19,
     "metadata": {},
     "output_type": "execute_result"
    }
   ],
   "source": [
    "mape(Y, Y_pred, slot, dist)"
   ]
  },
  {
   "cell_type": "code",
   "execution_count": 3,
   "metadata": {
    "collapsed": false
   },
   "outputs": [
    {
     "data": {
      "text/plain": [
       "(56985, 278)"
      ]
     },
     "execution_count": 3,
     "metadata": {},
     "output_type": "execute_result"
    }
   ],
   "source": [
    "X.shape"
   ]
  },
  {
   "cell_type": "code",
   "execution_count": 2,
   "metadata": {
    "collapsed": false
   },
   "outputs": [],
   "source": [
    "from evaluation import *\n",
    "\n",
    "X, Y, slot_train, dist_train = getdata('training_data')"
   ]
  },
  {
   "cell_type": "code",
   "execution_count": 3,
   "metadata": {
    "collapsed": false
   },
   "outputs": [],
   "source": [
    "X1, Y1, slot1, dist1 = getdata(\"validation_data\")"
   ]
  },
  {
   "cell_type": "code",
   "execution_count": 4,
   "metadata": {
    "collapsed": false
   },
   "outputs": [],
   "source": [
    "weight = np.zeros(Y.shape)\n",
    "for i, y in enumerate(Y):\n",
    "    if y==0:\n",
    "        weight[i]=0\n",
    "    else:\n",
    "        weight[i]=1.0/y"
   ]
  },
  {
   "cell_type": "code",
   "execution_count": 4,
   "metadata": {
    "collapsed": false
   },
   "outputs": [
    {
     "data": {
      "text/plain": [
       "Ridge(alpha=20, copy_X=True, fit_intercept=True, max_iter=None,\n",
       "   normalize=False, random_state=None, solver='auto', tol=0.001)"
      ]
     },
     "execution_count": 4,
     "metadata": {},
     "output_type": "execute_result"
    }
   ],
   "source": [
    "from sklearn.linear_model import Ridge\n",
    "lr = Ridge(alpha=20)\n",
    "lr.fit(X, Y, weight)"
   ]
  },
  {
   "cell_type": "code",
   "execution_count": 25,
   "metadata": {
    "collapsed": false
   },
   "outputs": [
    {
     "data": {
      "text/plain": [
       "(12818,)"
      ]
     },
     "execution_count": 25,
     "metadata": {},
     "output_type": "execute_result"
    }
   ],
   "source": [
    "lr.coef_.shape"
   ]
  },
  {
   "cell_type": "code",
   "execution_count": 32,
   "metadata": {
    "collapsed": false
   },
   "outputs": [
    {
     "data": {
      "application/javascript": [
       "/* Put everything inside the global mpl namespace */\n",
       "window.mpl = {};\n",
       "\n",
       "mpl.get_websocket_type = function() {\n",
       "    if (typeof(WebSocket) !== 'undefined') {\n",
       "        return WebSocket;\n",
       "    } else if (typeof(MozWebSocket) !== 'undefined') {\n",
       "        return MozWebSocket;\n",
       "    } else {\n",
       "        alert('Your browser does not have WebSocket support.' +\n",
       "              'Please try Chrome, Safari or Firefox ≥ 6. ' +\n",
       "              'Firefox 4 and 5 are also supported but you ' +\n",
       "              'have to enable WebSockets in about:config.');\n",
       "    };\n",
       "}\n",
       "\n",
       "mpl.figure = function(figure_id, websocket, ondownload, parent_element) {\n",
       "    this.id = figure_id;\n",
       "\n",
       "    this.ws = websocket;\n",
       "\n",
       "    this.supports_binary = (this.ws.binaryType != undefined);\n",
       "\n",
       "    if (!this.supports_binary) {\n",
       "        var warnings = document.getElementById(\"mpl-warnings\");\n",
       "        if (warnings) {\n",
       "            warnings.style.display = 'block';\n",
       "            warnings.textContent = (\n",
       "                \"This browser does not support binary websocket messages. \" +\n",
       "                    \"Performance may be slow.\");\n",
       "        }\n",
       "    }\n",
       "\n",
       "    this.imageObj = new Image();\n",
       "\n",
       "    this.context = undefined;\n",
       "    this.message = undefined;\n",
       "    this.canvas = undefined;\n",
       "    this.rubberband_canvas = undefined;\n",
       "    this.rubberband_context = undefined;\n",
       "    this.format_dropdown = undefined;\n",
       "\n",
       "    this.image_mode = 'full';\n",
       "\n",
       "    this.root = $('<div/>');\n",
       "    this._root_extra_style(this.root)\n",
       "    this.root.attr('style', 'display: inline-block');\n",
       "\n",
       "    $(parent_element).append(this.root);\n",
       "\n",
       "    this._init_header(this);\n",
       "    this._init_canvas(this);\n",
       "    this._init_toolbar(this);\n",
       "\n",
       "    var fig = this;\n",
       "\n",
       "    this.waiting = false;\n",
       "\n",
       "    this.ws.onopen =  function () {\n",
       "            fig.send_message(\"supports_binary\", {value: fig.supports_binary});\n",
       "            fig.send_message(\"send_image_mode\", {});\n",
       "            fig.send_message(\"refresh\", {});\n",
       "        }\n",
       "\n",
       "    this.imageObj.onload = function() {\n",
       "            if (fig.image_mode == 'full') {\n",
       "                // Full images could contain transparency (where diff images\n",
       "                // almost always do), so we need to clear the canvas so that\n",
       "                // there is no ghosting.\n",
       "                fig.context.clearRect(0, 0, fig.canvas.width, fig.canvas.height);\n",
       "            }\n",
       "            fig.context.drawImage(fig.imageObj, 0, 0);\n",
       "        };\n",
       "\n",
       "    this.imageObj.onunload = function() {\n",
       "        this.ws.close();\n",
       "    }\n",
       "\n",
       "    this.ws.onmessage = this._make_on_message_function(this);\n",
       "\n",
       "    this.ondownload = ondownload;\n",
       "}\n",
       "\n",
       "mpl.figure.prototype._init_header = function() {\n",
       "    var titlebar = $(\n",
       "        '<div class=\"ui-dialog-titlebar ui-widget-header ui-corner-all ' +\n",
       "        'ui-helper-clearfix\"/>');\n",
       "    var titletext = $(\n",
       "        '<div class=\"ui-dialog-title\" style=\"width: 100%; ' +\n",
       "        'text-align: center; padding: 3px;\"/>');\n",
       "    titlebar.append(titletext)\n",
       "    this.root.append(titlebar);\n",
       "    this.header = titletext[0];\n",
       "}\n",
       "\n",
       "\n",
       "\n",
       "mpl.figure.prototype._canvas_extra_style = function(canvas_div) {\n",
       "\n",
       "}\n",
       "\n",
       "\n",
       "mpl.figure.prototype._root_extra_style = function(canvas_div) {\n",
       "\n",
       "}\n",
       "\n",
       "mpl.figure.prototype._init_canvas = function() {\n",
       "    var fig = this;\n",
       "\n",
       "    var canvas_div = $('<div/>');\n",
       "\n",
       "    canvas_div.attr('style', 'position: relative; clear: both; outline: 0');\n",
       "\n",
       "    function canvas_keyboard_event(event) {\n",
       "        return fig.key_event(event, event['data']);\n",
       "    }\n",
       "\n",
       "    canvas_div.keydown('key_press', canvas_keyboard_event);\n",
       "    canvas_div.keyup('key_release', canvas_keyboard_event);\n",
       "    this.canvas_div = canvas_div\n",
       "    this._canvas_extra_style(canvas_div)\n",
       "    this.root.append(canvas_div);\n",
       "\n",
       "    var canvas = $('<canvas/>');\n",
       "    canvas.addClass('mpl-canvas');\n",
       "    canvas.attr('style', \"left: 0; top: 0; z-index: 0; outline: 0\")\n",
       "\n",
       "    this.canvas = canvas[0];\n",
       "    this.context = canvas[0].getContext(\"2d\");\n",
       "\n",
       "    var rubberband = $('<canvas/>');\n",
       "    rubberband.attr('style', \"position: absolute; left: 0; top: 0; z-index: 1;\")\n",
       "\n",
       "    var pass_mouse_events = true;\n",
       "\n",
       "    canvas_div.resizable({\n",
       "        start: function(event, ui) {\n",
       "            pass_mouse_events = false;\n",
       "        },\n",
       "        resize: function(event, ui) {\n",
       "            fig.request_resize(ui.size.width, ui.size.height);\n",
       "        },\n",
       "        stop: function(event, ui) {\n",
       "            pass_mouse_events = true;\n",
       "            fig.request_resize(ui.size.width, ui.size.height);\n",
       "        },\n",
       "    });\n",
       "\n",
       "    function mouse_event_fn(event) {\n",
       "        if (pass_mouse_events)\n",
       "            return fig.mouse_event(event, event['data']);\n",
       "    }\n",
       "\n",
       "    rubberband.mousedown('button_press', mouse_event_fn);\n",
       "    rubberband.mouseup('button_release', mouse_event_fn);\n",
       "    // Throttle sequential mouse events to 1 every 20ms.\n",
       "    rubberband.mousemove('motion_notify', mouse_event_fn);\n",
       "\n",
       "    rubberband.mouseenter('figure_enter', mouse_event_fn);\n",
       "    rubberband.mouseleave('figure_leave', mouse_event_fn);\n",
       "\n",
       "    canvas_div.on(\"wheel\", function (event) {\n",
       "        event = event.originalEvent;\n",
       "        event['data'] = 'scroll'\n",
       "        if (event.deltaY < 0) {\n",
       "            event.step = 1;\n",
       "        } else {\n",
       "            event.step = -1;\n",
       "        }\n",
       "        mouse_event_fn(event);\n",
       "    });\n",
       "\n",
       "    canvas_div.append(canvas);\n",
       "    canvas_div.append(rubberband);\n",
       "\n",
       "    this.rubberband = rubberband;\n",
       "    this.rubberband_canvas = rubberband[0];\n",
       "    this.rubberband_context = rubberband[0].getContext(\"2d\");\n",
       "    this.rubberband_context.strokeStyle = \"#000000\";\n",
       "\n",
       "    this._resize_canvas = function(width, height) {\n",
       "        // Keep the size of the canvas, canvas container, and rubber band\n",
       "        // canvas in synch.\n",
       "        canvas_div.css('width', width)\n",
       "        canvas_div.css('height', height)\n",
       "\n",
       "        canvas.attr('width', width);\n",
       "        canvas.attr('height', height);\n",
       "\n",
       "        rubberband.attr('width', width);\n",
       "        rubberband.attr('height', height);\n",
       "    }\n",
       "\n",
       "    // Set the figure to an initial 600x600px, this will subsequently be updated\n",
       "    // upon first draw.\n",
       "    this._resize_canvas(600, 600);\n",
       "\n",
       "    // Disable right mouse context menu.\n",
       "    $(this.rubberband_canvas).bind(\"contextmenu\",function(e){\n",
       "        return false;\n",
       "    });\n",
       "\n",
       "    function set_focus () {\n",
       "        canvas.focus();\n",
       "        canvas_div.focus();\n",
       "    }\n",
       "\n",
       "    window.setTimeout(set_focus, 100);\n",
       "}\n",
       "\n",
       "mpl.figure.prototype._init_toolbar = function() {\n",
       "    var fig = this;\n",
       "\n",
       "    var nav_element = $('<div/>')\n",
       "    nav_element.attr('style', 'width: 100%');\n",
       "    this.root.append(nav_element);\n",
       "\n",
       "    // Define a callback function for later on.\n",
       "    function toolbar_event(event) {\n",
       "        return fig.toolbar_button_onclick(event['data']);\n",
       "    }\n",
       "    function toolbar_mouse_event(event) {\n",
       "        return fig.toolbar_button_onmouseover(event['data']);\n",
       "    }\n",
       "\n",
       "    for(var toolbar_ind in mpl.toolbar_items) {\n",
       "        var name = mpl.toolbar_items[toolbar_ind][0];\n",
       "        var tooltip = mpl.toolbar_items[toolbar_ind][1];\n",
       "        var image = mpl.toolbar_items[toolbar_ind][2];\n",
       "        var method_name = mpl.toolbar_items[toolbar_ind][3];\n",
       "\n",
       "        if (!name) {\n",
       "            // put a spacer in here.\n",
       "            continue;\n",
       "        }\n",
       "        var button = $('<button/>');\n",
       "        button.addClass('ui-button ui-widget ui-state-default ui-corner-all ' +\n",
       "                        'ui-button-icon-only');\n",
       "        button.attr('role', 'button');\n",
       "        button.attr('aria-disabled', 'false');\n",
       "        button.click(method_name, toolbar_event);\n",
       "        button.mouseover(tooltip, toolbar_mouse_event);\n",
       "\n",
       "        var icon_img = $('<span/>');\n",
       "        icon_img.addClass('ui-button-icon-primary ui-icon');\n",
       "        icon_img.addClass(image);\n",
       "        icon_img.addClass('ui-corner-all');\n",
       "\n",
       "        var tooltip_span = $('<span/>');\n",
       "        tooltip_span.addClass('ui-button-text');\n",
       "        tooltip_span.html(tooltip);\n",
       "\n",
       "        button.append(icon_img);\n",
       "        button.append(tooltip_span);\n",
       "\n",
       "        nav_element.append(button);\n",
       "    }\n",
       "\n",
       "    var fmt_picker_span = $('<span/>');\n",
       "\n",
       "    var fmt_picker = $('<select/>');\n",
       "    fmt_picker.addClass('mpl-toolbar-option ui-widget ui-widget-content');\n",
       "    fmt_picker_span.append(fmt_picker);\n",
       "    nav_element.append(fmt_picker_span);\n",
       "    this.format_dropdown = fmt_picker[0];\n",
       "\n",
       "    for (var ind in mpl.extensions) {\n",
       "        var fmt = mpl.extensions[ind];\n",
       "        var option = $(\n",
       "            '<option/>', {selected: fmt === mpl.default_extension}).html(fmt);\n",
       "        fmt_picker.append(option)\n",
       "    }\n",
       "\n",
       "    // Add hover states to the ui-buttons\n",
       "    $( \".ui-button\" ).hover(\n",
       "        function() { $(this).addClass(\"ui-state-hover\");},\n",
       "        function() { $(this).removeClass(\"ui-state-hover\");}\n",
       "    );\n",
       "\n",
       "    var status_bar = $('<span class=\"mpl-message\"/>');\n",
       "    nav_element.append(status_bar);\n",
       "    this.message = status_bar[0];\n",
       "}\n",
       "\n",
       "mpl.figure.prototype.request_resize = function(x_pixels, y_pixels) {\n",
       "    // Request matplotlib to resize the figure. Matplotlib will then trigger a resize in the client,\n",
       "    // which will in turn request a refresh of the image.\n",
       "    this.send_message('resize', {'width': x_pixels, 'height': y_pixels});\n",
       "}\n",
       "\n",
       "mpl.figure.prototype.send_message = function(type, properties) {\n",
       "    properties['type'] = type;\n",
       "    properties['figure_id'] = this.id;\n",
       "    this.ws.send(JSON.stringify(properties));\n",
       "}\n",
       "\n",
       "mpl.figure.prototype.send_draw_message = function() {\n",
       "    if (!this.waiting) {\n",
       "        this.waiting = true;\n",
       "        this.ws.send(JSON.stringify({type: \"draw\", figure_id: this.id}));\n",
       "    }\n",
       "}\n",
       "\n",
       "\n",
       "mpl.figure.prototype.handle_save = function(fig, msg) {\n",
       "    var format_dropdown = fig.format_dropdown;\n",
       "    var format = format_dropdown.options[format_dropdown.selectedIndex].value;\n",
       "    fig.ondownload(fig, format);\n",
       "}\n",
       "\n",
       "\n",
       "mpl.figure.prototype.handle_resize = function(fig, msg) {\n",
       "    var size = msg['size'];\n",
       "    if (size[0] != fig.canvas.width || size[1] != fig.canvas.height) {\n",
       "        fig._resize_canvas(size[0], size[1]);\n",
       "        fig.send_message(\"refresh\", {});\n",
       "    };\n",
       "}\n",
       "\n",
       "mpl.figure.prototype.handle_rubberband = function(fig, msg) {\n",
       "    var x0 = msg['x0'];\n",
       "    var y0 = fig.canvas.height - msg['y0'];\n",
       "    var x1 = msg['x1'];\n",
       "    var y1 = fig.canvas.height - msg['y1'];\n",
       "    x0 = Math.floor(x0) + 0.5;\n",
       "    y0 = Math.floor(y0) + 0.5;\n",
       "    x1 = Math.floor(x1) + 0.5;\n",
       "    y1 = Math.floor(y1) + 0.5;\n",
       "    var min_x = Math.min(x0, x1);\n",
       "    var min_y = Math.min(y0, y1);\n",
       "    var width = Math.abs(x1 - x0);\n",
       "    var height = Math.abs(y1 - y0);\n",
       "\n",
       "    fig.rubberband_context.clearRect(\n",
       "        0, 0, fig.canvas.width, fig.canvas.height);\n",
       "\n",
       "    fig.rubberband_context.strokeRect(min_x, min_y, width, height);\n",
       "}\n",
       "\n",
       "mpl.figure.prototype.handle_figure_label = function(fig, msg) {\n",
       "    // Updates the figure title.\n",
       "    fig.header.textContent = msg['label'];\n",
       "}\n",
       "\n",
       "mpl.figure.prototype.handle_cursor = function(fig, msg) {\n",
       "    var cursor = msg['cursor'];\n",
       "    switch(cursor)\n",
       "    {\n",
       "    case 0:\n",
       "        cursor = 'pointer';\n",
       "        break;\n",
       "    case 1:\n",
       "        cursor = 'default';\n",
       "        break;\n",
       "    case 2:\n",
       "        cursor = 'crosshair';\n",
       "        break;\n",
       "    case 3:\n",
       "        cursor = 'move';\n",
       "        break;\n",
       "    }\n",
       "    fig.rubberband_canvas.style.cursor = cursor;\n",
       "}\n",
       "\n",
       "mpl.figure.prototype.handle_message = function(fig, msg) {\n",
       "    fig.message.textContent = msg['message'];\n",
       "}\n",
       "\n",
       "mpl.figure.prototype.handle_draw = function(fig, msg) {\n",
       "    // Request the server to send over a new figure.\n",
       "    fig.send_draw_message();\n",
       "}\n",
       "\n",
       "mpl.figure.prototype.handle_image_mode = function(fig, msg) {\n",
       "    fig.image_mode = msg['mode'];\n",
       "}\n",
       "\n",
       "mpl.figure.prototype.updated_canvas_event = function() {\n",
       "    // Called whenever the canvas gets updated.\n",
       "    this.send_message(\"ack\", {});\n",
       "}\n",
       "\n",
       "// A function to construct a web socket function for onmessage handling.\n",
       "// Called in the figure constructor.\n",
       "mpl.figure.prototype._make_on_message_function = function(fig) {\n",
       "    return function socket_on_message(evt) {\n",
       "        if (evt.data instanceof Blob) {\n",
       "            /* FIXME: We get \"Resource interpreted as Image but\n",
       "             * transferred with MIME type text/plain:\" errors on\n",
       "             * Chrome.  But how to set the MIME type?  It doesn't seem\n",
       "             * to be part of the websocket stream */\n",
       "            evt.data.type = \"image/png\";\n",
       "\n",
       "            /* Free the memory for the previous frames */\n",
       "            if (fig.imageObj.src) {\n",
       "                (window.URL || window.webkitURL).revokeObjectURL(\n",
       "                    fig.imageObj.src);\n",
       "            }\n",
       "\n",
       "            fig.imageObj.src = (window.URL || window.webkitURL).createObjectURL(\n",
       "                evt.data);\n",
       "            fig.updated_canvas_event();\n",
       "            fig.waiting = false;\n",
       "            return;\n",
       "        }\n",
       "        else if (typeof evt.data === 'string' && evt.data.slice(0, 21) == \"data:image/png;base64\") {\n",
       "            fig.imageObj.src = evt.data;\n",
       "            fig.updated_canvas_event();\n",
       "            fig.waiting = false;\n",
       "            return;\n",
       "        }\n",
       "\n",
       "        var msg = JSON.parse(evt.data);\n",
       "        var msg_type = msg['type'];\n",
       "\n",
       "        // Call the  \"handle_{type}\" callback, which takes\n",
       "        // the figure and JSON message as its only arguments.\n",
       "        try {\n",
       "            var callback = fig[\"handle_\" + msg_type];\n",
       "        } catch (e) {\n",
       "            console.log(\"No handler for the '\" + msg_type + \"' message type: \", msg);\n",
       "            return;\n",
       "        }\n",
       "\n",
       "        if (callback) {\n",
       "            try {\n",
       "                // console.log(\"Handling '\" + msg_type + \"' message: \", msg);\n",
       "                callback(fig, msg);\n",
       "            } catch (e) {\n",
       "                console.log(\"Exception inside the 'handler_\" + msg_type + \"' callback:\", e, e.stack, msg);\n",
       "            }\n",
       "        }\n",
       "    };\n",
       "}\n",
       "\n",
       "// from http://stackoverflow.com/questions/1114465/getting-mouse-location-in-canvas\n",
       "mpl.findpos = function(e) {\n",
       "    //this section is from http://www.quirksmode.org/js/events_properties.html\n",
       "    var targ;\n",
       "    if (!e)\n",
       "        e = window.event;\n",
       "    if (e.target)\n",
       "        targ = e.target;\n",
       "    else if (e.srcElement)\n",
       "        targ = e.srcElement;\n",
       "    if (targ.nodeType == 3) // defeat Safari bug\n",
       "        targ = targ.parentNode;\n",
       "\n",
       "    // jQuery normalizes the pageX and pageY\n",
       "    // pageX,Y are the mouse positions relative to the document\n",
       "    // offset() returns the position of the element relative to the document\n",
       "    var x = e.pageX - $(targ).offset().left;\n",
       "    var y = e.pageY - $(targ).offset().top;\n",
       "\n",
       "    return {\"x\": x, \"y\": y};\n",
       "};\n",
       "\n",
       "/*\n",
       " * return a copy of an object with only non-object keys\n",
       " * we need this to avoid circular references\n",
       " * http://stackoverflow.com/a/24161582/3208463\n",
       " */\n",
       "function simpleKeys (original) {\n",
       "  return Object.keys(original).reduce(function (obj, key) {\n",
       "    if (typeof original[key] !== 'object')\n",
       "        obj[key] = original[key]\n",
       "    return obj;\n",
       "  }, {});\n",
       "}\n",
       "\n",
       "mpl.figure.prototype.mouse_event = function(event, name) {\n",
       "    var canvas_pos = mpl.findpos(event)\n",
       "\n",
       "    if (name === 'button_press')\n",
       "    {\n",
       "        this.canvas.focus();\n",
       "        this.canvas_div.focus();\n",
       "    }\n",
       "\n",
       "    var x = canvas_pos.x;\n",
       "    var y = canvas_pos.y;\n",
       "\n",
       "    this.send_message(name, {x: x, y: y, button: event.button,\n",
       "                             step: event.step,\n",
       "                             guiEvent: simpleKeys(event)});\n",
       "\n",
       "    /* This prevents the web browser from automatically changing to\n",
       "     * the text insertion cursor when the button is pressed.  We want\n",
       "     * to control all of the cursor setting manually through the\n",
       "     * 'cursor' event from matplotlib */\n",
       "    event.preventDefault();\n",
       "    return false;\n",
       "}\n",
       "\n",
       "mpl.figure.prototype._key_event_extra = function(event, name) {\n",
       "    // Handle any extra behaviour associated with a key event\n",
       "}\n",
       "\n",
       "mpl.figure.prototype.key_event = function(event, name) {\n",
       "\n",
       "    // Prevent repeat events\n",
       "    if (name == 'key_press')\n",
       "    {\n",
       "        if (event.which === this._key)\n",
       "            return;\n",
       "        else\n",
       "            this._key = event.which;\n",
       "    }\n",
       "    if (name == 'key_release')\n",
       "        this._key = null;\n",
       "\n",
       "    var value = '';\n",
       "    if (event.ctrlKey && event.which != 17)\n",
       "        value += \"ctrl+\";\n",
       "    if (event.altKey && event.which != 18)\n",
       "        value += \"alt+\";\n",
       "    if (event.shiftKey && event.which != 16)\n",
       "        value += \"shift+\";\n",
       "\n",
       "    value += 'k';\n",
       "    value += event.which.toString();\n",
       "\n",
       "    this._key_event_extra(event, name);\n",
       "\n",
       "    this.send_message(name, {key: value,\n",
       "                             guiEvent: simpleKeys(event)});\n",
       "    return false;\n",
       "}\n",
       "\n",
       "mpl.figure.prototype.toolbar_button_onclick = function(name) {\n",
       "    if (name == 'download') {\n",
       "        this.handle_save(this, null);\n",
       "    } else {\n",
       "        this.send_message(\"toolbar_button\", {name: name});\n",
       "    }\n",
       "};\n",
       "\n",
       "mpl.figure.prototype.toolbar_button_onmouseover = function(tooltip) {\n",
       "    this.message.textContent = tooltip;\n",
       "};\n",
       "mpl.toolbar_items = [[\"Home\", \"Reset original view\", \"fa fa-home icon-home\", \"home\"], [\"Back\", \"Back to  previous view\", \"fa fa-arrow-left icon-arrow-left\", \"back\"], [\"Forward\", \"Forward to next view\", \"fa fa-arrow-right icon-arrow-right\", \"forward\"], [\"\", \"\", \"\", \"\"], [\"Pan\", \"Pan axes with left mouse, zoom with right\", \"fa fa-arrows icon-move\", \"pan\"], [\"Zoom\", \"Zoom to rectangle\", \"fa fa-square-o icon-check-empty\", \"zoom\"], [\"\", \"\", \"\", \"\"], [\"Download\", \"Download plot\", \"fa fa-floppy-o icon-save\", \"download\"]];\n",
       "\n",
       "mpl.extensions = [\"eps\", \"pdf\", \"png\", \"ps\", \"raw\", \"svg\"];\n",
       "\n",
       "mpl.default_extension = \"png\";var comm_websocket_adapter = function(comm) {\n",
       "    // Create a \"websocket\"-like object which calls the given IPython comm\n",
       "    // object with the appropriate methods. Currently this is a non binary\n",
       "    // socket, so there is still some room for performance tuning.\n",
       "    var ws = {};\n",
       "\n",
       "    ws.close = function() {\n",
       "        comm.close()\n",
       "    };\n",
       "    ws.send = function(m) {\n",
       "        //console.log('sending', m);\n",
       "        comm.send(m);\n",
       "    };\n",
       "    // Register the callback with on_msg.\n",
       "    comm.on_msg(function(msg) {\n",
       "        //console.log('receiving', msg['content']['data'], msg);\n",
       "        // Pass the mpl event to the overriden (by mpl) onmessage function.\n",
       "        ws.onmessage(msg['content']['data'])\n",
       "    });\n",
       "    return ws;\n",
       "}\n",
       "\n",
       "mpl.mpl_figure_comm = function(comm, msg) {\n",
       "    // This is the function which gets called when the mpl process\n",
       "    // starts-up an IPython Comm through the \"matplotlib\" channel.\n",
       "\n",
       "    var id = msg.content.data.id;\n",
       "    // Get hold of the div created by the display call when the Comm\n",
       "    // socket was opened in Python.\n",
       "    var element = $(\"#\" + id);\n",
       "    var ws_proxy = comm_websocket_adapter(comm)\n",
       "\n",
       "    function ondownload(figure, format) {\n",
       "        window.open(figure.imageObj.src);\n",
       "    }\n",
       "\n",
       "    var fig = new mpl.figure(id, ws_proxy,\n",
       "                           ondownload,\n",
       "                           element.get(0));\n",
       "\n",
       "    // Call onopen now - mpl needs it, as it is assuming we've passed it a real\n",
       "    // web socket which is closed, not our websocket->open comm proxy.\n",
       "    ws_proxy.onopen();\n",
       "\n",
       "    fig.parent_element = element.get(0);\n",
       "    fig.cell_info = mpl.find_output_cell(\"<div id='\" + id + \"'></div>\");\n",
       "    if (!fig.cell_info) {\n",
       "        console.error(\"Failed to find cell for figure\", id, fig);\n",
       "        return;\n",
       "    }\n",
       "\n",
       "    var output_index = fig.cell_info[2]\n",
       "    var cell = fig.cell_info[0];\n",
       "\n",
       "};\n",
       "\n",
       "mpl.figure.prototype.handle_close = function(fig, msg) {\n",
       "    fig.root.unbind('remove')\n",
       "\n",
       "    // Update the output cell to use the data from the current canvas.\n",
       "    fig.push_to_output();\n",
       "    var dataURL = fig.canvas.toDataURL();\n",
       "    // Re-enable the keyboard manager in IPython - without this line, in FF,\n",
       "    // the notebook keyboard shortcuts fail.\n",
       "    IPython.keyboard_manager.enable()\n",
       "    $(fig.parent_element).html('<img src=\"' + dataURL + '\">');\n",
       "    fig.close_ws(fig, msg);\n",
       "}\n",
       "\n",
       "mpl.figure.prototype.close_ws = function(fig, msg){\n",
       "    fig.send_message('closing', msg);\n",
       "    // fig.ws.close()\n",
       "}\n",
       "\n",
       "mpl.figure.prototype.push_to_output = function(remove_interactive) {\n",
       "    // Turn the data on the canvas into data in the output cell.\n",
       "    var dataURL = this.canvas.toDataURL();\n",
       "    this.cell_info[1]['text/html'] = '<img src=\"' + dataURL + '\">';\n",
       "}\n",
       "\n",
       "mpl.figure.prototype.updated_canvas_event = function() {\n",
       "    // Tell IPython that the notebook contents must change.\n",
       "    IPython.notebook.set_dirty(true);\n",
       "    this.send_message(\"ack\", {});\n",
       "    var fig = this;\n",
       "    // Wait a second, then push the new image to the DOM so\n",
       "    // that it is saved nicely (might be nice to debounce this).\n",
       "    setTimeout(function () { fig.push_to_output() }, 1000);\n",
       "}\n",
       "\n",
       "mpl.figure.prototype._init_toolbar = function() {\n",
       "    var fig = this;\n",
       "\n",
       "    var nav_element = $('<div/>')\n",
       "    nav_element.attr('style', 'width: 100%');\n",
       "    this.root.append(nav_element);\n",
       "\n",
       "    // Define a callback function for later on.\n",
       "    function toolbar_event(event) {\n",
       "        return fig.toolbar_button_onclick(event['data']);\n",
       "    }\n",
       "    function toolbar_mouse_event(event) {\n",
       "        return fig.toolbar_button_onmouseover(event['data']);\n",
       "    }\n",
       "\n",
       "    for(var toolbar_ind in mpl.toolbar_items){\n",
       "        var name = mpl.toolbar_items[toolbar_ind][0];\n",
       "        var tooltip = mpl.toolbar_items[toolbar_ind][1];\n",
       "        var image = mpl.toolbar_items[toolbar_ind][2];\n",
       "        var method_name = mpl.toolbar_items[toolbar_ind][3];\n",
       "\n",
       "        if (!name) { continue; };\n",
       "\n",
       "        var button = $('<button class=\"btn btn-default\" href=\"#\" title=\"' + name + '\"><i class=\"fa ' + image + ' fa-lg\"></i></button>');\n",
       "        button.click(method_name, toolbar_event);\n",
       "        button.mouseover(tooltip, toolbar_mouse_event);\n",
       "        nav_element.append(button);\n",
       "    }\n",
       "\n",
       "    // Add the status bar.\n",
       "    var status_bar = $('<span class=\"mpl-message\" style=\"text-align:right; float: right;\"/>');\n",
       "    nav_element.append(status_bar);\n",
       "    this.message = status_bar[0];\n",
       "\n",
       "    // Add the close button to the window.\n",
       "    var buttongrp = $('<div class=\"btn-group inline pull-right\"></div>');\n",
       "    var button = $('<button class=\"btn btn-mini btn-primary\" href=\"#\" title=\"Stop Interaction\"><i class=\"fa fa-power-off icon-remove icon-large\"></i></button>');\n",
       "    button.click(function (evt) { fig.handle_close(fig, {}); } );\n",
       "    button.mouseover('Stop Interaction', toolbar_mouse_event);\n",
       "    buttongrp.append(button);\n",
       "    var titlebar = this.root.find($('.ui-dialog-titlebar'));\n",
       "    titlebar.prepend(buttongrp);\n",
       "}\n",
       "\n",
       "mpl.figure.prototype._root_extra_style = function(el){\n",
       "    var fig = this\n",
       "    el.on(\"remove\", function(){\n",
       "\tfig.close_ws(fig, {});\n",
       "    });\n",
       "}\n",
       "\n",
       "mpl.figure.prototype._canvas_extra_style = function(el){\n",
       "    // this is important to make the div 'focusable\n",
       "    el.attr('tabindex', 0)\n",
       "    // reach out to IPython and tell the keyboard manager to turn it's self\n",
       "    // off when our div gets focus\n",
       "\n",
       "    // location in version 3\n",
       "    if (IPython.notebook.keyboard_manager) {\n",
       "        IPython.notebook.keyboard_manager.register_events(el);\n",
       "    }\n",
       "    else {\n",
       "        // location in version 2\n",
       "        IPython.keyboard_manager.register_events(el);\n",
       "    }\n",
       "\n",
       "}\n",
       "\n",
       "mpl.figure.prototype._key_event_extra = function(event, name) {\n",
       "    var manager = IPython.notebook.keyboard_manager;\n",
       "    if (!manager)\n",
       "        manager = IPython.keyboard_manager;\n",
       "\n",
       "    // Check for shift+enter\n",
       "    if (event.shiftKey && event.which == 13) {\n",
       "        this.canvas_div.blur();\n",
       "        event.shiftKey = false;\n",
       "        // Send a \"J\" for go to next cell\n",
       "        event.which = 74;\n",
       "        event.keyCode = 74;\n",
       "        manager.command_mode();\n",
       "        manager.handle_keydown(event);\n",
       "    }\n",
       "}\n",
       "\n",
       "mpl.figure.prototype.handle_save = function(fig, msg) {\n",
       "    fig.ondownload(fig, null);\n",
       "}\n",
       "\n",
       "\n",
       "mpl.find_output_cell = function(html_output) {\n",
       "    // Return the cell and output element which can be found *uniquely* in the notebook.\n",
       "    // Note - this is a bit hacky, but it is done because the \"notebook_saving.Notebook\"\n",
       "    // IPython event is triggered only after the cells have been serialised, which for\n",
       "    // our purposes (turning an active figure into a static one), is too late.\n",
       "    var cells = IPython.notebook.get_cells();\n",
       "    var ncells = cells.length;\n",
       "    for (var i=0; i<ncells; i++) {\n",
       "        var cell = cells[i];\n",
       "        if (cell.cell_type === 'code'){\n",
       "            for (var j=0; j<cell.output_area.outputs.length; j++) {\n",
       "                var data = cell.output_area.outputs[j];\n",
       "                if (data.data) {\n",
       "                    // IPython >= 3 moved mimebundle to data attribute of output\n",
       "                    data = data.data;\n",
       "                }\n",
       "                if (data['text/html'] == html_output) {\n",
       "                    return [cell, data, j];\n",
       "                }\n",
       "            }\n",
       "        }\n",
       "    }\n",
       "}\n",
       "\n",
       "// Register the function which deals with the matplotlib target/channel.\n",
       "// The kernel may be null if the page has been refreshed.\n",
       "if (IPython.notebook.kernel != null) {\n",
       "    IPython.notebook.kernel.comm_manager.register_target('matplotlib', mpl.mpl_figure_comm);\n",
       "}\n"
      ],
      "text/plain": [
       "<IPython.core.display.Javascript object>"
      ]
     },
     "metadata": {},
     "output_type": "display_data"
    },
    {
     "data": {
      "text/html": [
       "<img src=\"data:image/png;base64,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\">"
      ],
      "text/plain": [
       "<IPython.core.display.HTML object>"
      ]
     },
     "metadata": {},
     "output_type": "display_data"
    }
   ],
   "source": [
    "%matplotlib notebook\n",
    "import matplotlib.pyplot as plt\n",
    "\n",
    "plt.plot(lr.coef_[2823:3999])\n",
    "plt.show()"
   ]
  },
  {
   "cell_type": "code",
   "execution_count": 8,
   "metadata": {
    "collapsed": false
   },
   "outputs": [
    {
     "name": "stdout",
     "output_type": "stream",
     "text": [
      "0.470676137095\n"
     ]
    }
   ],
   "source": [
    "Y1_pred = lr.predict(X1)\n",
    "Y1_pred[Y1_pred<0]=0\n",
    "print mape(Y1, Y1_pred, slot1, dist1)"
   ]
  },
  {
   "cell_type": "code",
   "execution_count": 9,
   "metadata": {
    "collapsed": false
   },
   "outputs": [
    {
     "data": {
      "text/plain": [
       "0.43873426957951978"
      ]
     },
     "execution_count": 9,
     "metadata": {},
     "output_type": "execute_result"
    }
   ],
   "source": [
    "Y_pred = lr.predict(X)\n",
    "Y_pred[Y_pred<0]=0\n",
    "mape(Y, Y_pred, slot_train, dist_train)"
   ]
  },
  {
   "cell_type": "code",
   "execution_count": 8,
   "metadata": {
    "collapsed": false
   },
   "outputs": [
    {
     "data": {
      "text/plain": [
       "array([ 2.15119564,  2.29900194,  2.0995028 , ...,  1.031052  ,\n",
       "        0.83814329,  0.80688659])"
      ]
     },
     "execution_count": 8,
     "metadata": {},
     "output_type": "execute_result"
    }
   ],
   "source": [
    "Y_pred"
   ]
  },
  {
   "cell_type": "code",
   "execution_count": 138,
   "metadata": {
    "collapsed": false
   },
   "outputs": [
    {
     "data": {
      "text/plain": [
       "RandomForestRegressor(bootstrap=True, criterion='mse', max_depth=None,\n",
       "           max_features=0.5, max_leaf_nodes=None, min_samples_leaf=24,\n",
       "           min_samples_split=2, min_weight_fraction_leaf=0.0,\n",
       "           n_estimators=50, n_jobs=-1, oob_score=False, random_state=None,\n",
       "           verbose=0, warm_start=False)"
      ]
     },
     "execution_count": 138,
     "metadata": {},
     "output_type": "execute_result"
    }
   ],
   "source": [
    "from sklearn.ensemble import RandomForestRegressor\n",
    "\n",
    "rf = RandomForestRegressor(n_estimators=50, max_features=0.5, min_samples_leaf=24, n_jobs=-1)\n",
    "rf.fit(X, Y, weight)"
   ]
  },
  {
   "cell_type": "code",
   "execution_count": 139,
   "metadata": {
    "collapsed": false
   },
   "outputs": [
    {
     "name": "stdout",
     "output_type": "stream",
     "text": [
      "0.474481374663\n"
     ]
    }
   ],
   "source": [
    "Y1_pred = rf.predict(X1)\n",
    "Y1_pred[Y1_pred<0]=0\n",
    "print mape(Y1, Y1_pred, slot1, dist1)"
   ]
  },
  {
   "cell_type": "code",
   "execution_count": 140,
   "metadata": {
    "collapsed": false
   },
   "outputs": [
    {
     "data": {
      "text/plain": [
       "0.45499976243507589"
      ]
     },
     "execution_count": 140,
     "metadata": {},
     "output_type": "execute_result"
    }
   ],
   "source": [
    "Y_pred = rf.predict(X)\n",
    "Y_pred[Y_pred<0]=0\n",
    "mape(Y, Y_pred, slot_train, dist_train)"
   ]
  },
  {
   "cell_type": "code",
   "execution_count": 20,
   "metadata": {
    "collapsed": false
   },
   "outputs": [
    {
     "name": "stdout",
     "output_type": "stream",
     "text": [
      "0.472960543559\n"
     ]
    }
   ],
   "source": [
    "Y1_pred = (lr.predict(X1)+rf.predict(X1))/2\n",
    "Y2_pred = (lr.predict(X2)+rf.predict(X2))/2\n",
    "Y1_pred[Y1_pred<0]=0\n",
    "Y2_pred[Y2_pred<0]=0\n",
    "print (mape(Y1, Y1_pred, slot1, dist1)+mape(Y2, Y2_pred, slot2, dist2))/2"
   ]
  },
  {
   "cell_type": "markdown",
   "metadata": {},
   "source": [
    "| Method description | Training set | Validation set |\n",
    "|---|---|---|\n",
    "| Rigle, alpha=50, weighted. 144slot+24h+weekday+district+pre7dstatus+weather | 0.5123620179427425 | 0.517201372498 |\n",
    "| Rigle, alpha=50, weighted. 144slot+24h+weekday+district+pre7dstatus+pre1slotstatus+weather | 0.46628984499361303 | 0.486138200681 |\n",
    "| RF, tree=50, min_samples_leaf=16, weighted. 144slot+24h+weekday+district+pre7dstatus+pre1slotstatus+weather | 0.44512307730615425 | 0.483293242609 |\n",
    "| RF, tree=50, min_samples_leaf=20, weighted. 144slot+24h+weekday+district+pre7dstatus+pre1slotstatus+1storderstatus | 0.45543519259309279 | 0.48353572376 |\n",
    "| Rigle, alpha=40, weighted. 144slot+24h+weekday+district+pre7dstatus+pre1slotstatus | 0.46387521799056297 | 0.480073979685 |\n",
    "| Rigle, alpha=30, weighted. 144slot+24h+weekday+district+pre7dstatus+pre1slotstatus+combinedpre2slotstatus | 0.44594466350408518 | 0.47709077919 |\n",
    "| Rigle, alpha=30, weighted. 24h+weekday+district+pre7dstatus+pre1slotstatus+combinedpre2slotstatus | 0.45392775229804522 | 0.465871624974 |"
   ]
  },
  {
   "cell_type": "code",
   "execution_count": 8,
   "metadata": {
    "collapsed": false
   },
   "outputs": [],
   "source": [
    "from evaluation import *\n",
    "\n",
    "X, Y, slot_train, dist_train = getdata('training_data', extent2d=False)"
   ]
  },
  {
   "cell_type": "code",
   "execution_count": 9,
   "metadata": {
    "collapsed": true
   },
   "outputs": [],
   "source": [
    "from pyfm import pylibfm"
   ]
  },
  {
   "cell_type": "code",
   "execution_count": 17,
   "metadata": {
    "collapsed": true
   },
   "outputs": [
    {
     "name": "stdout",
     "output_type": "stream",
     "text": [
      "Creating validation dataset of 0.01 of training for adaptive regularization\n",
      "-- Epoch 1\n",
      "Training MSE: 668.69933\n",
      "-- Epoch 2\n",
      "Training MSE: 587.03424\n",
      "-- Epoch 3\n",
      "Training MSE: 565.73741\n",
      "-- Epoch 4\n",
      "Training MSE: 554.95868\n",
      "-- Epoch 5\n",
      "Training MSE: 534.24467\n",
      "-- Epoch 6\n",
      "Training MSE: 547.04268\n",
      "-- Epoch 7\n",
      "Training MSE: 536.71162\n",
      "-- Epoch 8\n",
      "Training MSE: 527.45903\n",
      "-- Epoch 9\n",
      "Training MSE: 521.03621\n",
      "-- Epoch 10\n",
      "Training MSE: 524.55918\n",
      "-- Epoch 11\n",
      "Training MSE: 521.78020\n",
      "-- Epoch 12\n",
      "Training MSE: 521.57709\n",
      "-- Epoch 13\n",
      "Training MSE: 524.98552\n",
      "-- Epoch 14\n",
      "Training MSE: 519.64303\n",
      "-- Epoch 15\n",
      "Training MSE: 518.28232\n",
      "-- Epoch 16\n",
      "Training MSE: 509.74519\n",
      "-- Epoch 17\n",
      "Training MSE: 512.79782\n",
      "-- Epoch 18\n",
      "Training MSE: 520.99130\n",
      "-- Epoch 19\n",
      "Training MSE: 521.12726\n",
      "-- Epoch 20\n",
      "Training MSE: 517.50709\n",
      "-- Epoch 21\n",
      "Training MSE: 519.21639\n",
      "-- Epoch 22\n",
      "Training MSE: 506.72891\n",
      "-- Epoch 23\n",
      "Training MSE: 514.88534\n",
      "-- Epoch 24\n",
      "Training MSE: 508.70507\n",
      "-- Epoch 25\n",
      "Training MSE: 524.06551\n"
     ]
    }
   ],
   "source": [
    "fm = pylibfm.FM(num_factors=5, initial_learning_rate=0.0001,num_iter=12, task=\"regression\", verbose=True)\n",
    "fm.fit(X.tocsr(), np.require(Y, dtype=np.float))"
   ]
  },
  {
   "cell_type": "code",
   "execution_count": 12,
   "metadata": {
    "collapsed": false
   },
   "outputs": [],
   "source": [
    "X1, Y1, slot1, dist1 = getdata(\"validation1_data\", extent2d=False)"
   ]
  },
  {
   "cell_type": "code",
   "execution_count": 18,
   "metadata": {
    "collapsed": false
   },
   "outputs": [
    {
     "name": "stdout",
     "output_type": "stream",
     "text": [
      "1.11241271011\n"
     ]
    }
   ],
   "source": [
    "Y1_pred = fm.predict(X1.tocsr())\n",
    "Y1_pred[Y1_pred<0]=0\n",
    "print mape(Y1, Y1_pred, slot1, dist1)"
   ]
  },
  {
   "cell_type": "code",
   "execution_count": 29,
   "metadata": {
    "collapsed": false
   },
   "outputs": [],
   "source": [
    "import xgboost as xgb\n",
    "\n",
    "dtrain = xgb.DMatrix(X, label=Y, weight=weight)\n",
    "dvalid = xgb.DMatrix(X1)"
   ]
  },
  {
   "cell_type": "code",
   "execution_count": 201,
   "metadata": {
    "collapsed": false
   },
   "outputs": [],
   "source": [
    "gbdr = xgb.train({\"max_depth\":50,\"objective\":\"reg:linear\", \"eval_metric\":\"mae\", \n",
    "                  \"min_child_weight\":16, 'alpha':5}, dtrain, num_boost_round=3)"
   ]
  },
  {
   "cell_type": "code",
   "execution_count": 202,
   "metadata": {
    "collapsed": false
   },
   "outputs": [
    {
     "name": "stdout",
     "output_type": "stream",
     "text": [
      "0.393472164499\n"
     ]
    }
   ],
   "source": [
    "Y1_pred = gbdr.predict(dvalid)\n",
    "Y1_pred[Y1_pred<0]=0\n",
    "print mape(Y1, Y1_pred, slot1, dist1)"
   ]
  },
  {
   "cell_type": "code",
   "execution_count": 199,
   "metadata": {
    "collapsed": false
   },
   "outputs": [
    {
     "data": {
      "text/plain": [
       "0.38299178471263517"
      ]
     },
     "execution_count": 199,
     "metadata": {},
     "output_type": "execute_result"
    }
   ],
   "source": [
    "Y_pred = gbdr.predict(dtrain)\n",
    "Y_pred[Y_pred<0]=0\n",
    "mape(Y, Y_pred, slot_train, dist_train)"
   ]
  },
  {
   "cell_type": "code",
   "execution_count": 105,
   "metadata": {
    "collapsed": true
   },
   "outputs": [],
   "source": [
    "lr = xgb.train({\"booster\":\"gblinear\", 'lambda':5,'alpha':5}, dtrain)"
   ]
  },
  {
   "cell_type": "code",
   "execution_count": 109,
   "metadata": {
    "collapsed": false
   },
   "outputs": [
    {
     "name": "stdout",
     "output_type": "stream",
     "text": [
      "0.464346584444\n"
     ]
    }
   ],
   "source": [
    "Y1_pred = lr.predict(dvalid)\n",
    "Y1_pred[Y1_pred<0]=0\n",
    "print mape(Y1, Y1_pred, slot1, dist1)"
   ]
  },
  {
   "cell_type": "code",
   "execution_count": 107,
   "metadata": {
    "collapsed": false
   },
   "outputs": [
    {
     "data": {
      "text/plain": [
       "0.44369932301025689"
      ]
     },
     "execution_count": 107,
     "metadata": {},
     "output_type": "execute_result"
    }
   ],
   "source": [
    "Y_pred = lr.predict(dtrain)\n",
    "Y_pred[Y_pred<0]=0\n",
    "mape(Y, Y_pred, slot_train, dist_train)"
   ]
  },
  {
   "cell_type": "code",
   "execution_count": 200,
   "metadata": {
    "collapsed": false
   },
   "outputs": [
    {
     "name": "stdout",
     "output_type": "stream",
     "text": [
      "0.418221556596\n"
     ]
    }
   ],
   "source": [
    "Y1_pred = (lr.predict(dvalid)+gbdr.predict(dvalid))/2\n",
    "Y1_pred[Y1_pred<0]=0\n",
    "print mape(Y1, Y1_pred, slot1, dist1)"
   ]
  },
  {
   "cell_type": "code",
   "execution_count": 110,
   "metadata": {
    "collapsed": false
   },
   "outputs": [
    {
     "data": {
      "text/plain": [
       "array([ 2.57892609,  1.85698223,  4.01777363, ...,  1.19223928,\n",
       "        1.12598944,  1.12238371], dtype=float32)"
      ]
     },
     "execution_count": 110,
     "metadata": {},
     "output_type": "execute_result"
    }
   ],
   "source": [
    "Y1_pred"
   ]
  },
  {
   "cell_type": "markdown",
   "metadata": {},
   "source": [
    "| Method description | Training set | Validation set |\n",
    "|---|---|---|\n",
    "| xgb.gbrt, depth=50, min_child_weight=16, alpha=5, num_boost_round=3, 24h+weekday+66dist+pre7daystatus+pre1slotstatus+combinedpre2slotsstatus, all cross | 0.38299178471263517 | 0.393472164499 |\n"
   ]
  },
  {
   "cell_type": "code",
   "execution_count": null,
   "metadata": {
    "collapsed": true
   },
   "outputs": [],
   "source": []
  }
 ],
 "metadata": {
  "kernelspec": {
   "display_name": "Python 2",
   "language": "python",
   "name": "python2"
  },
  "language_info": {
   "codemirror_mode": {
    "name": "ipython",
    "version": 2
   },
   "file_extension": ".py",
   "mimetype": "text/x-python",
   "name": "python",
   "nbconvert_exporter": "python",
   "pygments_lexer": "ipython2",
   "version": "2.7.11"
  }
 },
 "nbformat": 4,
 "nbformat_minor": 0
}
