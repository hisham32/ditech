{
 "cells": [
  {
   "cell_type": "code",
   "execution_count": 30,
   "metadata": {
    "collapsed": false
   },
   "outputs": [],
   "source": [
    "import pandas as pd\n",
    "\n",
    "order_table = pd.read_table(\"season_1/training_data/order_data/order_data_2016-01-01\", names=['order_id', 'driver_id', \n",
    "               'passenger_id', 'depart_id', 'dest_id', 'price', 'time'], parse_dates=[6])"
   ]
  },
  {
   "cell_type": "code",
   "execution_count": 57,
   "metadata": {
    "collapsed": false
   },
   "outputs": [],
   "source": [
    "import numpy as np\n",
    "import datetime\n",
    "\n",
    "time_slot = np.zeros((order_table.shape[0],),np.int)\n",
    "jour = np.zeros((order_table.shape[0],), datetime.date)\n",
    "for i, t in enumerate(order_table['time']):\n",
    "    time_slot[i] = t.time().hour*6+t.time().minute/10\n",
    "    jour[i] = t.date()"
   ]
  },
  {
   "cell_type": "code",
   "execution_count": 58,
   "metadata": {
    "collapsed": false
   },
   "outputs": [],
   "source": [
    "order_table['time_slot']=time_slot\n",
    "order_table['jour']=jour"
   ]
  },
  {
   "cell_type": "code",
   "execution_count": 51,
   "metadata": {
    "collapsed": false
   },
   "outputs": [
    {
     "data": {
      "text/plain": [
       "1"
      ]
     },
     "execution_count": 51,
     "metadata": {},
     "output_type": "execute_result"
    }
   ],
   "source": [
    "t.date().day"
   ]
  },
  {
   "cell_type": "code",
   "execution_count": 47,
   "metadata": {
    "collapsed": false
   },
   "outputs": [],
   "source": [
    "region_table = pd.read_table(\"season_1/training_data/cluster_map/cluster_map\", index_col=0, names=['hash', 'id'])"
   ]
  },
  {
   "cell_type": "code",
   "execution_count": 14,
   "metadata": {
    "collapsed": false
   },
   "outputs": [
    {
     "data": {
      "text/plain": [
       "pandas.core.series.Series"
      ]
     },
     "execution_count": 14,
     "metadata": {},
     "output_type": "execute_result"
    }
   ],
   "source": [
    "type(Out[13])"
   ]
  },
  {
   "cell_type": "code",
   "execution_count": 15,
   "metadata": {
    "collapsed": false
   },
   "outputs": [
    {
     "data": {
      "text/plain": [
       "2"
      ]
     },
     "execution_count": 15,
     "metadata": {},
     "output_type": "execute_result"
    }
   ],
   "source": [
    "region_table.loc['f2c8c4bb99e6377d21de71275afd6cd2', 'id']"
   ]
  },
  {
   "cell_type": "code",
   "execution_count": 18,
   "metadata": {
    "collapsed": false
   },
   "outputs": [
    {
     "data": {
      "text/plain": [
       "(501287, 9)"
      ]
     },
     "execution_count": 18,
     "metadata": {},
     "output_type": "execute_result"
    }
   ],
   "source": [
    "order_table.shape"
   ]
  },
  {
   "cell_type": "code",
   "execution_count": 32,
   "metadata": {
    "collapsed": false
   },
   "outputs": [],
   "source": [
    "order_table['depart_id'] = order_table['depart_id'].apply(lambda x: region_table.ix[x, 'id'])"
   ]
  },
  {
   "cell_type": "code",
   "execution_count": 60,
   "metadata": {
    "collapsed": true
   },
   "outputs": [],
   "source": [
    "rst = order_table.groupby(by=['jour', 'depart_id', 'time_slot']).size()"
   ]
  },
  {
   "cell_type": "code",
   "execution_count": 47,
   "metadata": {
    "collapsed": false
   },
   "outputs": [],
   "source": [
    "import numpy as np\n",
    "\n",
    "valid_table = order_table[pd.notnull(order_table['driver_id'])]"
   ]
  },
  {
   "cell_type": "code",
   "execution_count": 49,
   "metadata": {
    "collapsed": false,
    "scrolled": true
   },
   "outputs": [
    {
     "data": {
      "text/plain": [
       "depart_id  time_slot\n",
       "1          0            178\n",
       "           1            191\n",
       "           2            182\n",
       "           3            167\n",
       "           4            152\n",
       "           5            131\n",
       "           6            127\n",
       "           7            128\n",
       "           8            114\n",
       "           9            105\n",
       "           10            70\n",
       "           11            70\n",
       "           12            60\n",
       "           13            67\n",
       "           14            56\n",
       "           15            73\n",
       "           16            53\n",
       "           17            47\n",
       "           18            50\n",
       "           19            40\n",
       "           20            39\n",
       "           21            31\n",
       "           22            37\n",
       "           23            22\n",
       "           24            17\n",
       "           25            23\n",
       "           26            24\n",
       "           27            16\n",
       "           28            17\n",
       "           29            12\n",
       "                       ... \n",
       "66         114           11\n",
       "           115           17\n",
       "           116           16\n",
       "           117           13\n",
       "           118           22\n",
       "           119           20\n",
       "           120           21\n",
       "           121           17\n",
       "           122           18\n",
       "           123           16\n",
       "           124           17\n",
       "           125           15\n",
       "           126           12\n",
       "           127           15\n",
       "           128           19\n",
       "           129           10\n",
       "           130            5\n",
       "           131            7\n",
       "           132            8\n",
       "           133            9\n",
       "           134            5\n",
       "           135           11\n",
       "           136            9\n",
       "           137            7\n",
       "           138            2\n",
       "           139            5\n",
       "           140            4\n",
       "           141           10\n",
       "           142            6\n",
       "           143            9\n",
       "dtype: int64"
      ]
     },
     "execution_count": 49,
     "metadata": {},
     "output_type": "execute_result"
    }
   ],
   "source": [
    "valid_table.groupby(by=['depart_id', 'time_slot']).size()"
   ]
  },
  {
   "cell_type": "code",
   "execution_count": 49,
   "metadata": {
    "collapsed": false
   },
   "outputs": [],
   "source": [
    "\n",
    "\n",
    "order_table_list = []\n",
    "for d in datelist:\n",
    "    order_table = pd.read_table(\"season_1/training_data/order_data/order_data_\"+d.isoformat(), \n",
    "                                names=['order_id', 'driver_id', 'passenger_id', 'depart_id', 'dest_id', 'price', 'time'], \n",
    "                                parse_dates=[6])\n",
    "    time_slot = np.zeros((order_table.shape[0],),np.int)\n",
    "    jour = np.zeros((order_table.shape[0],), date)\n",
    "    for i, t in enumerate(order_table['time']):\n",
    "        time_slot[i] = t.time().hour*6+t.time().minute/10\n",
    "        jour[i] = t.date()\n",
    "    order_table['time_slot']=time_slot\n",
    "    order_table['jour']=jour\n",
    "    order_table['depart_id'] = order_table['depart_id'].apply(lambda x: region_table.ix[x, 'id'])\n",
    "    order_table_list.append(order_table)"
   ]
  },
  {
   "cell_type": "code",
   "execution_count": 53,
   "metadata": {
    "collapsed": false
   },
   "outputs": [],
   "source": [
    "order_table = pd.concat(order_table_list).loc[:,['jour', 'depart_id', 'time_slot', 'order_id', 'driver_id']]"
   ]
  },
  {
   "cell_type": "code",
   "execution_count": 55,
   "metadata": {
    "collapsed": false
   },
   "outputs": [],
   "source": [
    "f = order_table.groupby(by=['jour', 'depart_id', 'time_slot'], as_index=False).count()"
   ]
  },
  {
   "cell_type": "code",
   "execution_count": 9,
   "metadata": {
    "collapsed": false
   },
   "outputs": [],
   "source": [
    "import pandas as pd\n",
    "from datetime import date, timedelta\n",
    "\n",
    "startdate = date(2016, 1 ,1)\n",
    "datelist = [startdate+timedelta(days=i) for i in xrange(0,21)]\n"
   ]
  },
  {
   "cell_type": "code",
   "execution_count": 10,
   "metadata": {
    "collapsed": false
   },
   "outputs": [],
   "source": [
    "import numpy as np\n",
    "\n",
    "\n",
    "weatherlist = []\n",
    "for d in datelist:\n",
    "    weather = pd.read_table(\"season_1/training_data/weather_data/weather_data_\"+d.isoformat(), \n",
    "                            names=['time','weather','temperature','pm'], parse_dates=[0])\n",
    "    time_slot = np.zeros((weather.shape[0],),np.int)\n",
    "    jour = np.zeros((weather.shape[0],), date)\n",
    "    for i, t in enumerate(weather['time']):\n",
    "        time_slot[i] = t.time().hour*6+t.time().minute/10\n",
    "        jour[i] = t.date()\n",
    "    weather['slot'] = time_slot\n",
    "    weather['jour'] = jour\n",
    "    weatherlist.append(weather)"
   ]
  },
  {
   "cell_type": "code",
   "execution_count": 44,
   "metadata": {
    "collapsed": false
   },
   "outputs": [],
   "source": [
    "weather_feature = np.zeros((21*144, 9), dtype = np.float)\n",
    "grouped_weatherlist = pd.concat(weatherlist).groupby(['jour', 'slot'])\n",
    "for i in xrange(21):\n",
    "    for j in xrange(144):\n",
    "        try:\n",
    "            rec = grouped_weatherlist.get_group((date(2016,1, 1+i), j))\n",
    "            for k in xrange(rec.shape[0]):\n",
    "                weather_feature[i*144+j, rec.iloc[k,1]-1] += 1.0/rec.shape[0]\n",
    "        except KeyError:\n",
    "            continue;"
   ]
  },
  {
   "cell_type": "code",
   "execution_count": 45,
   "metadata": {
    "collapsed": false
   },
   "outputs": [],
   "source": [
    "b = -1\n",
    "for e in xrange(weather_feature.shape[0]+1):\n",
    "    if e==weather_feature.shape[0] or not np.all(weather_feature[e,:]==0.0):\n",
    "        if e==weather_feature.shape[0]:\n",
    "            if b!=e-1:\n",
    "                for i in xrange(b+1, e):\n",
    "                    weather_feature[i, :] = weather_feature[b, :]\n",
    "            else:\n",
    "                break;\n",
    "\n",
    "        if not np.all(weather_feature[e,:]==0.0) and b!=e-1:\n",
    "            r = e-b+0.0\n",
    "            for i in xrange(b+1, e):\n",
    "                weather_feature[i, :] = (e-i)/r*weather_feature[b, :] + (i-b)/r*weather_feature[e, :]\n",
    "        elif b==-1 and b!=e-1:\n",
    "            for i in xrange(b+1, e):\n",
    "                weather_feature[i, :] = weather_feature[e, :]\n",
    "        b=e"
   ]
  },
  {
   "cell_type": "code",
   "execution_count": 56,
   "metadata": {
    "collapsed": false
   },
   "outputs": [
    {
     "data": {
      "text/html": [
       "<div>\n",
       "<table border=\"1\" class=\"dataframe\">\n",
       "  <thead>\n",
       "    <tr style=\"text-align: right;\">\n",
       "      <th></th>\n",
       "      <th>jour</th>\n",
       "      <th>depart_id</th>\n",
       "      <th>time_slot</th>\n",
       "      <th>order_id</th>\n",
       "      <th>driver_id</th>\n",
       "    </tr>\n",
       "  </thead>\n",
       "  <tbody>\n",
       "    <tr>\n",
       "      <th>0</th>\n",
       "      <td>2016-01-01</td>\n",
       "      <td>1</td>\n",
       "      <td>0</td>\n",
       "      <td>187</td>\n",
       "      <td>178</td>\n",
       "    </tr>\n",
       "    <tr>\n",
       "      <th>1</th>\n",
       "      <td>2016-01-01</td>\n",
       "      <td>1</td>\n",
       "      <td>1</td>\n",
       "      <td>198</td>\n",
       "      <td>191</td>\n",
       "    </tr>\n",
       "    <tr>\n",
       "      <th>2</th>\n",
       "      <td>2016-01-01</td>\n",
       "      <td>1</td>\n",
       "      <td>2</td>\n",
       "      <td>192</td>\n",
       "      <td>182</td>\n",
       "    </tr>\n",
       "    <tr>\n",
       "      <th>3</th>\n",
       "      <td>2016-01-01</td>\n",
       "      <td>1</td>\n",
       "      <td>3</td>\n",
       "      <td>172</td>\n",
       "      <td>167</td>\n",
       "    </tr>\n",
       "    <tr>\n",
       "      <th>4</th>\n",
       "      <td>2016-01-01</td>\n",
       "      <td>1</td>\n",
       "      <td>4</td>\n",
       "      <td>153</td>\n",
       "      <td>152</td>\n",
       "    </tr>\n",
       "    <tr>\n",
       "      <th>5</th>\n",
       "      <td>2016-01-01</td>\n",
       "      <td>1</td>\n",
       "      <td>5</td>\n",
       "      <td>132</td>\n",
       "      <td>131</td>\n",
       "    </tr>\n",
       "    <tr>\n",
       "      <th>6</th>\n",
       "      <td>2016-01-01</td>\n",
       "      <td>1</td>\n",
       "      <td>6</td>\n",
       "      <td>133</td>\n",
       "      <td>127</td>\n",
       "    </tr>\n",
       "    <tr>\n",
       "      <th>7</th>\n",
       "      <td>2016-01-01</td>\n",
       "      <td>1</td>\n",
       "      <td>7</td>\n",
       "      <td>130</td>\n",
       "      <td>128</td>\n",
       "    </tr>\n",
       "    <tr>\n",
       "      <th>8</th>\n",
       "      <td>2016-01-01</td>\n",
       "      <td>1</td>\n",
       "      <td>8</td>\n",
       "      <td>120</td>\n",
       "      <td>114</td>\n",
       "    </tr>\n",
       "    <tr>\n",
       "      <th>9</th>\n",
       "      <td>2016-01-01</td>\n",
       "      <td>1</td>\n",
       "      <td>9</td>\n",
       "      <td>111</td>\n",
       "      <td>105</td>\n",
       "    </tr>\n",
       "    <tr>\n",
       "      <th>10</th>\n",
       "      <td>2016-01-01</td>\n",
       "      <td>1</td>\n",
       "      <td>10</td>\n",
       "      <td>72</td>\n",
       "      <td>70</td>\n",
       "    </tr>\n",
       "    <tr>\n",
       "      <th>11</th>\n",
       "      <td>2016-01-01</td>\n",
       "      <td>1</td>\n",
       "      <td>11</td>\n",
       "      <td>73</td>\n",
       "      <td>70</td>\n",
       "    </tr>\n",
       "    <tr>\n",
       "      <th>12</th>\n",
       "      <td>2016-01-01</td>\n",
       "      <td>1</td>\n",
       "      <td>12</td>\n",
       "      <td>61</td>\n",
       "      <td>60</td>\n",
       "    </tr>\n",
       "    <tr>\n",
       "      <th>13</th>\n",
       "      <td>2016-01-01</td>\n",
       "      <td>1</td>\n",
       "      <td>13</td>\n",
       "      <td>71</td>\n",
       "      <td>67</td>\n",
       "    </tr>\n",
       "    <tr>\n",
       "      <th>14</th>\n",
       "      <td>2016-01-01</td>\n",
       "      <td>1</td>\n",
       "      <td>14</td>\n",
       "      <td>59</td>\n",
       "      <td>56</td>\n",
       "    </tr>\n",
       "    <tr>\n",
       "      <th>15</th>\n",
       "      <td>2016-01-01</td>\n",
       "      <td>1</td>\n",
       "      <td>15</td>\n",
       "      <td>84</td>\n",
       "      <td>73</td>\n",
       "    </tr>\n",
       "    <tr>\n",
       "      <th>16</th>\n",
       "      <td>2016-01-01</td>\n",
       "      <td>1</td>\n",
       "      <td>16</td>\n",
       "      <td>73</td>\n",
       "      <td>53</td>\n",
       "    </tr>\n",
       "    <tr>\n",
       "      <th>17</th>\n",
       "      <td>2016-01-01</td>\n",
       "      <td>1</td>\n",
       "      <td>17</td>\n",
       "      <td>65</td>\n",
       "      <td>47</td>\n",
       "    </tr>\n",
       "    <tr>\n",
       "      <th>18</th>\n",
       "      <td>2016-01-01</td>\n",
       "      <td>1</td>\n",
       "      <td>18</td>\n",
       "      <td>61</td>\n",
       "      <td>50</td>\n",
       "    </tr>\n",
       "    <tr>\n",
       "      <th>19</th>\n",
       "      <td>2016-01-01</td>\n",
       "      <td>1</td>\n",
       "      <td>19</td>\n",
       "      <td>46</td>\n",
       "      <td>40</td>\n",
       "    </tr>\n",
       "    <tr>\n",
       "      <th>20</th>\n",
       "      <td>2016-01-01</td>\n",
       "      <td>1</td>\n",
       "      <td>20</td>\n",
       "      <td>41</td>\n",
       "      <td>39</td>\n",
       "    </tr>\n",
       "    <tr>\n",
       "      <th>21</th>\n",
       "      <td>2016-01-01</td>\n",
       "      <td>1</td>\n",
       "      <td>21</td>\n",
       "      <td>32</td>\n",
       "      <td>31</td>\n",
       "    </tr>\n",
       "    <tr>\n",
       "      <th>22</th>\n",
       "      <td>2016-01-01</td>\n",
       "      <td>1</td>\n",
       "      <td>22</td>\n",
       "      <td>40</td>\n",
       "      <td>37</td>\n",
       "    </tr>\n",
       "    <tr>\n",
       "      <th>23</th>\n",
       "      <td>2016-01-01</td>\n",
       "      <td>1</td>\n",
       "      <td>23</td>\n",
       "      <td>30</td>\n",
       "      <td>22</td>\n",
       "    </tr>\n",
       "    <tr>\n",
       "      <th>24</th>\n",
       "      <td>2016-01-01</td>\n",
       "      <td>1</td>\n",
       "      <td>24</td>\n",
       "      <td>18</td>\n",
       "      <td>17</td>\n",
       "    </tr>\n",
       "    <tr>\n",
       "      <th>25</th>\n",
       "      <td>2016-01-01</td>\n",
       "      <td>1</td>\n",
       "      <td>25</td>\n",
       "      <td>24</td>\n",
       "      <td>23</td>\n",
       "    </tr>\n",
       "    <tr>\n",
       "      <th>26</th>\n",
       "      <td>2016-01-01</td>\n",
       "      <td>1</td>\n",
       "      <td>26</td>\n",
       "      <td>29</td>\n",
       "      <td>24</td>\n",
       "    </tr>\n",
       "    <tr>\n",
       "      <th>27</th>\n",
       "      <td>2016-01-01</td>\n",
       "      <td>1</td>\n",
       "      <td>27</td>\n",
       "      <td>16</td>\n",
       "      <td>16</td>\n",
       "    </tr>\n",
       "    <tr>\n",
       "      <th>28</th>\n",
       "      <td>2016-01-01</td>\n",
       "      <td>1</td>\n",
       "      <td>28</td>\n",
       "      <td>21</td>\n",
       "      <td>17</td>\n",
       "    </tr>\n",
       "    <tr>\n",
       "      <th>29</th>\n",
       "      <td>2016-01-01</td>\n",
       "      <td>1</td>\n",
       "      <td>29</td>\n",
       "      <td>25</td>\n",
       "      <td>12</td>\n",
       "    </tr>\n",
       "    <tr>\n",
       "      <th>...</th>\n",
       "      <td>...</td>\n",
       "      <td>...</td>\n",
       "      <td>...</td>\n",
       "      <td>...</td>\n",
       "      <td>...</td>\n",
       "    </tr>\n",
       "    <tr>\n",
       "      <th>163461</th>\n",
       "      <td>2016-01-21</td>\n",
       "      <td>66</td>\n",
       "      <td>114</td>\n",
       "      <td>19</td>\n",
       "      <td>19</td>\n",
       "    </tr>\n",
       "    <tr>\n",
       "      <th>163462</th>\n",
       "      <td>2016-01-21</td>\n",
       "      <td>66</td>\n",
       "      <td>115</td>\n",
       "      <td>12</td>\n",
       "      <td>12</td>\n",
       "    </tr>\n",
       "    <tr>\n",
       "      <th>163463</th>\n",
       "      <td>2016-01-21</td>\n",
       "      <td>66</td>\n",
       "      <td>116</td>\n",
       "      <td>16</td>\n",
       "      <td>16</td>\n",
       "    </tr>\n",
       "    <tr>\n",
       "      <th>163464</th>\n",
       "      <td>2016-01-21</td>\n",
       "      <td>66</td>\n",
       "      <td>117</td>\n",
       "      <td>27</td>\n",
       "      <td>27</td>\n",
       "    </tr>\n",
       "    <tr>\n",
       "      <th>163465</th>\n",
       "      <td>2016-01-21</td>\n",
       "      <td>66</td>\n",
       "      <td>118</td>\n",
       "      <td>14</td>\n",
       "      <td>14</td>\n",
       "    </tr>\n",
       "    <tr>\n",
       "      <th>163466</th>\n",
       "      <td>2016-01-21</td>\n",
       "      <td>66</td>\n",
       "      <td>119</td>\n",
       "      <td>16</td>\n",
       "      <td>16</td>\n",
       "    </tr>\n",
       "    <tr>\n",
       "      <th>163467</th>\n",
       "      <td>2016-01-21</td>\n",
       "      <td>66</td>\n",
       "      <td>120</td>\n",
       "      <td>11</td>\n",
       "      <td>11</td>\n",
       "    </tr>\n",
       "    <tr>\n",
       "      <th>163468</th>\n",
       "      <td>2016-01-21</td>\n",
       "      <td>66</td>\n",
       "      <td>121</td>\n",
       "      <td>10</td>\n",
       "      <td>10</td>\n",
       "    </tr>\n",
       "    <tr>\n",
       "      <th>163469</th>\n",
       "      <td>2016-01-21</td>\n",
       "      <td>66</td>\n",
       "      <td>122</td>\n",
       "      <td>17</td>\n",
       "      <td>17</td>\n",
       "    </tr>\n",
       "    <tr>\n",
       "      <th>163470</th>\n",
       "      <td>2016-01-21</td>\n",
       "      <td>66</td>\n",
       "      <td>123</td>\n",
       "      <td>13</td>\n",
       "      <td>12</td>\n",
       "    </tr>\n",
       "    <tr>\n",
       "      <th>163471</th>\n",
       "      <td>2016-01-21</td>\n",
       "      <td>66</td>\n",
       "      <td>124</td>\n",
       "      <td>13</td>\n",
       "      <td>11</td>\n",
       "    </tr>\n",
       "    <tr>\n",
       "      <th>163472</th>\n",
       "      <td>2016-01-21</td>\n",
       "      <td>66</td>\n",
       "      <td>125</td>\n",
       "      <td>13</td>\n",
       "      <td>13</td>\n",
       "    </tr>\n",
       "    <tr>\n",
       "      <th>163473</th>\n",
       "      <td>2016-01-21</td>\n",
       "      <td>66</td>\n",
       "      <td>126</td>\n",
       "      <td>10</td>\n",
       "      <td>9</td>\n",
       "    </tr>\n",
       "    <tr>\n",
       "      <th>163474</th>\n",
       "      <td>2016-01-21</td>\n",
       "      <td>66</td>\n",
       "      <td>127</td>\n",
       "      <td>12</td>\n",
       "      <td>11</td>\n",
       "    </tr>\n",
       "    <tr>\n",
       "      <th>163475</th>\n",
       "      <td>2016-01-21</td>\n",
       "      <td>66</td>\n",
       "      <td>128</td>\n",
       "      <td>10</td>\n",
       "      <td>10</td>\n",
       "    </tr>\n",
       "    <tr>\n",
       "      <th>163476</th>\n",
       "      <td>2016-01-21</td>\n",
       "      <td>66</td>\n",
       "      <td>129</td>\n",
       "      <td>9</td>\n",
       "      <td>9</td>\n",
       "    </tr>\n",
       "    <tr>\n",
       "      <th>163477</th>\n",
       "      <td>2016-01-21</td>\n",
       "      <td>66</td>\n",
       "      <td>130</td>\n",
       "      <td>9</td>\n",
       "      <td>9</td>\n",
       "    </tr>\n",
       "    <tr>\n",
       "      <th>163478</th>\n",
       "      <td>2016-01-21</td>\n",
       "      <td>66</td>\n",
       "      <td>131</td>\n",
       "      <td>10</td>\n",
       "      <td>9</td>\n",
       "    </tr>\n",
       "    <tr>\n",
       "      <th>163479</th>\n",
       "      <td>2016-01-21</td>\n",
       "      <td>66</td>\n",
       "      <td>132</td>\n",
       "      <td>7</td>\n",
       "      <td>7</td>\n",
       "    </tr>\n",
       "    <tr>\n",
       "      <th>163480</th>\n",
       "      <td>2016-01-21</td>\n",
       "      <td>66</td>\n",
       "      <td>133</td>\n",
       "      <td>11</td>\n",
       "      <td>11</td>\n",
       "    </tr>\n",
       "    <tr>\n",
       "      <th>163481</th>\n",
       "      <td>2016-01-21</td>\n",
       "      <td>66</td>\n",
       "      <td>134</td>\n",
       "      <td>10</td>\n",
       "      <td>10</td>\n",
       "    </tr>\n",
       "    <tr>\n",
       "      <th>163482</th>\n",
       "      <td>2016-01-21</td>\n",
       "      <td>66</td>\n",
       "      <td>135</td>\n",
       "      <td>14</td>\n",
       "      <td>13</td>\n",
       "    </tr>\n",
       "    <tr>\n",
       "      <th>163483</th>\n",
       "      <td>2016-01-21</td>\n",
       "      <td>66</td>\n",
       "      <td>136</td>\n",
       "      <td>9</td>\n",
       "      <td>9</td>\n",
       "    </tr>\n",
       "    <tr>\n",
       "      <th>163484</th>\n",
       "      <td>2016-01-21</td>\n",
       "      <td>66</td>\n",
       "      <td>137</td>\n",
       "      <td>12</td>\n",
       "      <td>8</td>\n",
       "    </tr>\n",
       "    <tr>\n",
       "      <th>163485</th>\n",
       "      <td>2016-01-21</td>\n",
       "      <td>66</td>\n",
       "      <td>138</td>\n",
       "      <td>11</td>\n",
       "      <td>10</td>\n",
       "    </tr>\n",
       "    <tr>\n",
       "      <th>163486</th>\n",
       "      <td>2016-01-21</td>\n",
       "      <td>66</td>\n",
       "      <td>139</td>\n",
       "      <td>5</td>\n",
       "      <td>5</td>\n",
       "    </tr>\n",
       "    <tr>\n",
       "      <th>163487</th>\n",
       "      <td>2016-01-21</td>\n",
       "      <td>66</td>\n",
       "      <td>140</td>\n",
       "      <td>4</td>\n",
       "      <td>4</td>\n",
       "    </tr>\n",
       "    <tr>\n",
       "      <th>163488</th>\n",
       "      <td>2016-01-21</td>\n",
       "      <td>66</td>\n",
       "      <td>141</td>\n",
       "      <td>6</td>\n",
       "      <td>6</td>\n",
       "    </tr>\n",
       "    <tr>\n",
       "      <th>163489</th>\n",
       "      <td>2016-01-21</td>\n",
       "      <td>66</td>\n",
       "      <td>142</td>\n",
       "      <td>7</td>\n",
       "      <td>6</td>\n",
       "    </tr>\n",
       "    <tr>\n",
       "      <th>163490</th>\n",
       "      <td>2016-01-21</td>\n",
       "      <td>66</td>\n",
       "      <td>143</td>\n",
       "      <td>5</td>\n",
       "      <td>5</td>\n",
       "    </tr>\n",
       "  </tbody>\n",
       "</table>\n",
       "<p>163491 rows × 5 columns</p>\n",
       "</div>"
      ],
      "text/plain": [
       "              jour  depart_id  time_slot  order_id  driver_id\n",
       "0       2016-01-01          1          0       187        178\n",
       "1       2016-01-01          1          1       198        191\n",
       "2       2016-01-01          1          2       192        182\n",
       "3       2016-01-01          1          3       172        167\n",
       "4       2016-01-01          1          4       153        152\n",
       "5       2016-01-01          1          5       132        131\n",
       "6       2016-01-01          1          6       133        127\n",
       "7       2016-01-01          1          7       130        128\n",
       "8       2016-01-01          1          8       120        114\n",
       "9       2016-01-01          1          9       111        105\n",
       "10      2016-01-01          1         10        72         70\n",
       "11      2016-01-01          1         11        73         70\n",
       "12      2016-01-01          1         12        61         60\n",
       "13      2016-01-01          1         13        71         67\n",
       "14      2016-01-01          1         14        59         56\n",
       "15      2016-01-01          1         15        84         73\n",
       "16      2016-01-01          1         16        73         53\n",
       "17      2016-01-01          1         17        65         47\n",
       "18      2016-01-01          1         18        61         50\n",
       "19      2016-01-01          1         19        46         40\n",
       "20      2016-01-01          1         20        41         39\n",
       "21      2016-01-01          1         21        32         31\n",
       "22      2016-01-01          1         22        40         37\n",
       "23      2016-01-01          1         23        30         22\n",
       "24      2016-01-01          1         24        18         17\n",
       "25      2016-01-01          1         25        24         23\n",
       "26      2016-01-01          1         26        29         24\n",
       "27      2016-01-01          1         27        16         16\n",
       "28      2016-01-01          1         28        21         17\n",
       "29      2016-01-01          1         29        25         12\n",
       "...            ...        ...        ...       ...        ...\n",
       "163461  2016-01-21         66        114        19         19\n",
       "163462  2016-01-21         66        115        12         12\n",
       "163463  2016-01-21         66        116        16         16\n",
       "163464  2016-01-21         66        117        27         27\n",
       "163465  2016-01-21         66        118        14         14\n",
       "163466  2016-01-21         66        119        16         16\n",
       "163467  2016-01-21         66        120        11         11\n",
       "163468  2016-01-21         66        121        10         10\n",
       "163469  2016-01-21         66        122        17         17\n",
       "163470  2016-01-21         66        123        13         12\n",
       "163471  2016-01-21         66        124        13         11\n",
       "163472  2016-01-21         66        125        13         13\n",
       "163473  2016-01-21         66        126        10          9\n",
       "163474  2016-01-21         66        127        12         11\n",
       "163475  2016-01-21         66        128        10         10\n",
       "163476  2016-01-21         66        129         9          9\n",
       "163477  2016-01-21         66        130         9          9\n",
       "163478  2016-01-21         66        131        10          9\n",
       "163479  2016-01-21         66        132         7          7\n",
       "163480  2016-01-21         66        133        11         11\n",
       "163481  2016-01-21         66        134        10         10\n",
       "163482  2016-01-21         66        135        14         13\n",
       "163483  2016-01-21         66        136         9          9\n",
       "163484  2016-01-21         66        137        12          8\n",
       "163485  2016-01-21         66        138        11         10\n",
       "163486  2016-01-21         66        139         5          5\n",
       "163487  2016-01-21         66        140         4          4\n",
       "163488  2016-01-21         66        141         6          6\n",
       "163489  2016-01-21         66        142         7          6\n",
       "163490  2016-01-21         66        143         5          5\n",
       "\n",
       "[163491 rows x 5 columns]"
      ]
     },
     "execution_count": 56,
     "metadata": {},
     "output_type": "execute_result"
    }
   ],
   "source": [
    "f"
   ]
  },
  {
   "cell_type": "code",
   "execution_count": 64,
   "metadata": {
    "collapsed": true
   },
   "outputs": [],
   "source": [
    "gf = f.groupby(['jour', 'depart_id', 'time_slot'])"
   ]
  },
  {
   "cell_type": "code",
   "execution_count": 63,
   "metadata": {
    "collapsed": false
   },
   "outputs": [
    {
     "data": {
      "text/plain": [
       "True"
      ]
     },
     "execution_count": 63,
     "metadata": {},
     "output_type": "execute_result"
    }
   ],
   "source": [
    "f.ix[0, 'jour']<f.ix[160000, 'jour']"
   ]
  },
  {
   "cell_type": "code",
   "execution_count": 59,
   "metadata": {
    "collapsed": true
   },
   "outputs": [],
   "source": [
    "flst = []\n",
    "# generate time feature\n",
    "for i in xrange(f.shape[0]):\n",
    "    x = [(f.ix[i, 'time_slot'], 1), (144+f.ix[i, 'time_slot']/6, 1), (168+f.ix[i, 'jour'].weekday()/5, 1)]\n",
    "    flst.append(x)"
   ]
  },
  {
   "cell_type": "code",
   "execution_count": 62,
   "metadata": {
    "collapsed": false
   },
   "outputs": [],
   "source": [
    "# generate region feature\n",
    "for i in xrange(f.shape[0]):\n",
    "    flst[i].append((170+f.ix[i, 'depart_id']-1, 1))"
   ]
  },
  {
   "cell_type": "code",
   "execution_count": null,
   "metadata": {
    "collapsed": true
   },
   "outputs": [],
   "source": [
    "# generate customer feature\n",
    "for i in xrange(f.shape[0])"
   ]
  }
 ],
 "metadata": {
  "kernelspec": {
   "display_name": "Python 2",
   "language": "python",
   "name": "python2"
  },
  "language_info": {
   "codemirror_mode": {
    "name": "ipython",
    "version": 2
   },
   "file_extension": ".py",
   "mimetype": "text/x-python",
   "name": "python",
   "nbconvert_exporter": "python",
   "pygments_lexer": "ipython2",
   "version": "2.7.11"
  }
 },
 "nbformat": 4,
 "nbformat_minor": 0
}
