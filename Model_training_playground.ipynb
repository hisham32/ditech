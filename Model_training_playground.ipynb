{
 "cells": [
  {
   "cell_type": "code",
   "execution_count": 1,
   "metadata": {
    "collapsed": false
   },
   "outputs": [],
   "source": [
    "y_true = []\n",
    "row = []\n",
    "data = []\n",
    "\n",
    "date = []\n",
    "slot = []\n",
    "dist = []\n",
    "\n",
    "with open(\"training_data\", 'r') as fr:\n",
    "    while True:\n",
    "        event = fr.readline().strip()\n",
    "        if not event: break;\n",
    "        \n",
    "        event = event.split(' ')\n",
    "        y_true.append(int(event[0]))\n",
    "        date.append(int(event[1]))\n",
    "        slot.append(int(event[2]))\n",
    "        dist.append(int(event[3]))\n",
    "        \n",
    "        vidx = []\n",
    "        vdata = []\n",
    "        for itm in event[4:]:\n",
    "            idx, val = itm.split(':')\n",
    "            vidx.append(int(idx))\n",
    "            vdata.append(float(val))\n",
    "        row.append(vidx)\n",
    "        data.append(vdata)"
   ]
  },
  {
   "cell_type": "code",
   "execution_count": 1,
   "metadata": {
    "collapsed": false
   },
   "outputs": [],
   "source": [
    "from extend_feature import *"
   ]
  },
  {
   "cell_type": "code",
   "execution_count": 3,
   "metadata": {
    "collapsed": false
   },
   "outputs": [],
   "source": [
    "for i, (r, d) in enumerate(zip(row, data)):\n",
    "    r, d = extend_2dfeature(r, d)\n",
    "    row[i]=r\n",
    "    data[i]=d"
   ]
  },
  {
   "cell_type": "code",
   "execution_count": 4,
   "metadata": {
    "collapsed": false
   },
   "outputs": [],
   "source": [
    "col = []\n",
    "for i in xrange(len(row)):\n",
    "    col.append([i]*len(row[i]))"
   ]
  },
  {
   "cell_type": "code",
   "execution_count": 5,
   "metadata": {
    "collapsed": false
   },
   "outputs": [],
   "source": [
    "from scipy.sparse import coo_matrix\n",
    "X = coo_matrix((np.hstack(data), (np.hstack(col), np.hstack(row))), shape=(len(y_true), ext[-1]))\n",
    "X = X.tocsr()"
   ]
  },
  {
   "cell_type": "code",
   "execution_count": 6,
   "metadata": {
    "collapsed": false
   },
   "outputs": [
    {
     "data": {
      "text/plain": [
       "<84693x20969 sparse matrix of type '<type 'numpy.float64'>'\n",
       "\twith 1207340 stored elements in Compressed Sparse Row format>"
      ]
     },
     "execution_count": 6,
     "metadata": {},
     "output_type": "execute_result"
    }
   ],
   "source": [
    "X"
   ]
  },
  {
   "cell_type": "code",
   "execution_count": 6,
   "metadata": {
    "collapsed": true
   },
   "outputs": [],
   "source": [
    "Y = np.asarray(y_true)"
   ]
  },
  {
   "cell_type": "code",
   "execution_count": 7,
   "metadata": {
    "collapsed": true
   },
   "outputs": [],
   "source": [
    "weight = np.zeros(Y.shape)\n",
    "for i, y in enumerate(Y):\n",
    "    if y==0:\n",
    "        weight[i]=1\n",
    "    else:\n",
    "        weight[i]=1/y"
   ]
  },
  {
   "cell_type": "code",
   "execution_count": 20,
   "metadata": {
    "collapsed": true
   },
   "outputs": [],
   "source": [
    "y_true = []\n",
    "col = []\n",
    "data = []\n",
    "\n",
    "date = []\n",
    "slotv = []\n",
    "distv = []\n",
    "\n",
    "with open(\"validation_data\", 'r') as fr:\n",
    "    while True:\n",
    "        event = fr.readline().strip()\n",
    "        if not event: break;\n",
    "        \n",
    "        event = event.split(' ')\n",
    "        y_true.append(int(event[0]))\n",
    "        date.append(int(event[1]))\n",
    "        slotv.append(int(event[2]))\n",
    "        distv.append(int(event[3]))\n",
    "        \n",
    "        vidx = []\n",
    "        vdata = []\n",
    "        for itm in event[4:]:\n",
    "            idx, val = itm.split(':')\n",
    "            vidx.append(int(idx))\n",
    "            vdata.append(float(val))\n",
    "        col.append(vidx)\n",
    "        data.append(vdata)"
   ]
  },
  {
   "cell_type": "code",
   "execution_count": null,
   "metadata": {
    "collapsed": true
   },
   "outputs": [],
   "source": []
  },
  {
   "cell_type": "code",
   "execution_count": 13,
   "metadata": {
    "collapsed": false
   },
   "outputs": [],
   "source": [
    "for i, (c, d) in enumerate(zip(col, data)):\n",
    "    c, d = extend_2dfeature(c, d)\n",
    "    col[i]=c\n",
    "    data[i]=d"
   ]
  },
  {
   "cell_type": "code",
   "execution_count": 14,
   "metadata": {
    "collapsed": false
   },
   "outputs": [],
   "source": [
    "row = []\n",
    "for i in xrange(len(col)):\n",
    "    row.append([i]*len(col[i]))"
   ]
  },
  {
   "cell_type": "code",
   "execution_count": 15,
   "metadata": {
    "collapsed": false
   },
   "outputs": [],
   "source": [
    "Xv = coo_matrix((np.hstack(data), (np.hstack(row), np.hstack(col))), shape=(len(y_true), ext[-1]))\n",
    "Xv = Xv.tocsr()\n",
    "Yv = np.asarray(y_true)"
   ]
  },
  {
   "cell_type": "code",
   "execution_count": 8,
   "metadata": {
    "collapsed": false
   },
   "outputs": [
    {
     "data": {
      "text/plain": [
       "Ridge(alpha=10, copy_X=True, fit_intercept=True, max_iter=None,\n",
       "   normalize=False, random_state=None, solver='auto', tol=0.001)"
      ]
     },
     "execution_count": 8,
     "metadata": {},
     "output_type": "execute_result"
    }
   ],
   "source": [
    "from sklearn.linear_model import Ridge\n",
    "lr = Ridge(alpha=10)\n",
    "lr.fit(X, Y, weight)"
   ]
  },
  {
   "cell_type": "code",
   "execution_count": 9,
   "metadata": {
    "collapsed": true
   },
   "outputs": [],
   "source": [
    "Y_pred = lr.predict(X)"
   ]
  },
  {
   "cell_type": "code",
   "execution_count": 14,
   "metadata": {
    "collapsed": false
   },
   "outputs": [
    {
     "data": {
      "text/plain": [
       "array([ 8.37986386,  5.08294088,  5.6898639 , ..., -0.09732153,\n",
       "       -0.43269772, -0.43170051])"
      ]
     },
     "execution_count": 14,
     "metadata": {},
     "output_type": "execute_result"
    }
   ],
   "source": [
    "Y_pred"
   ]
  },
  {
   "cell_type": "code",
   "execution_count": 10,
   "metadata": {
    "collapsed": false
   },
   "outputs": [],
   "source": [
    "Y_pred[Y_pred<0]=0"
   ]
  },
  {
   "cell_type": "code",
   "execution_count": 23,
   "metadata": {
    "collapsed": false
   },
   "outputs": [
    {
     "data": {
      "text/plain": [
       "array([4, 7, 7, ..., 0, 1, 0])"
      ]
     },
     "execution_count": 23,
     "metadata": {},
     "output_type": "execute_result"
    }
   ],
   "source": [
    "Yv"
   ]
  },
  {
   "cell_type": "code",
   "execution_count": 16,
   "metadata": {
    "collapsed": false
   },
   "outputs": [],
   "source": [
    "Yv_pred = lr.predict(Xv)"
   ]
  },
  {
   "cell_type": "code",
   "execution_count": 17,
   "metadata": {
    "collapsed": false
   },
   "outputs": [],
   "source": [
    "Yv_pred[Yv_pred<0]=0"
   ]
  },
  {
   "cell_type": "code",
   "execution_count": 10,
   "metadata": {
    "collapsed": false
   },
   "outputs": [
    {
     "data": {
      "text/plain": [
       "[275, 18125, 20699, 20969]"
      ]
     },
     "execution_count": 10,
     "metadata": {},
     "output_type": "execute_result"
    }
   ],
   "source": [
    "ext"
   ]
  },
  {
   "cell_type": "code",
   "execution_count": 1,
   "metadata": {
    "collapsed": true
   },
   "outputs": [],
   "source": [
    "def mape(y_true, y_pred, slot, dist):\n",
    "    loss = np.zeros((144, 66))\n",
    "    for i, (s, d) in enumerate(slot, dist):\n",
    "        d -=1\n",
    "        if y_true!=0:\n",
    "            loss[s, d] = np.abs(1-y_pred[i]/y_true[i])\n",
    "    l = np.sum(loss, axis=0)/144\n",
    "    return np.sum(l)/66"
   ]
  },
  {
   "cell_type": "code",
   "execution_count": 16,
   "metadata": {
    "collapsed": true
   },
   "outputs": [],
   "source": [
    "loss = np.zeros((144, 66))"
   ]
  },
  {
   "cell_type": "code",
   "execution_count": 19,
   "metadata": {
    "collapsed": false
   },
   "outputs": [
    {
     "data": {
      "text/plain": [
       "(66,)"
      ]
     },
     "execution_count": 19,
     "metadata": {},
     "output_type": "execute_result"
    }
   ],
   "source": [
    "np.sum(loss, axis=0).shape"
   ]
  },
  {
   "cell_type": "code",
   "execution_count": 21,
   "metadata": {
    "collapsed": false
   },
   "outputs": [
    {
     "data": {
      "text/plain": [
       "0.24000297358666692"
      ]
     },
     "execution_count": 21,
     "metadata": {},
     "output_type": "execute_result"
    }
   ],
   "source": [
    "mape(Yv, Yv_pred, slotv, distv)"
   ]
  },
  {
   "cell_type": "code",
   "execution_count": 17,
   "metadata": {
    "collapsed": false
   },
   "outputs": [
    {
     "data": {
      "text/plain": [
       "array([ 1.        ,  0.5       ,  0.33333333,  0.25      ])"
      ]
     },
     "execution_count": 17,
     "metadata": {},
     "output_type": "execute_result"
    }
   ],
   "source": [
    "np.ones(4)/np.arange(1,5)"
   ]
  },
  {
   "cell_type": "code",
   "execution_count": 24,
   "metadata": {
    "collapsed": true
   },
   "outputs": [],
   "source": [
    "record = []\n",
    "with open(\"season_1/test_set_1/read_me_1.txt\", 'r') as fr:\n",
    "    while True:\n",
    "        r = fr.readline().strip()\n",
    "        if not r: break;\n",
    "        \n",
    "        for i in xrange(1,67):\n",
    "            record.append((i, r))"
   ]
  },
  {
   "cell_type": "code",
   "execution_count": 3,
   "metadata": {
    "collapsed": false
   },
   "outputs": [
    {
     "data": {
      "text/plain": [
       "2838"
      ]
     },
     "execution_count": 3,
     "metadata": {},
     "output_type": "execute_result"
    }
   ],
   "source": [
    "len(record)"
   ]
  },
  {
   "cell_type": "code",
   "execution_count": 4,
   "metadata": {
    "collapsed": true
   },
   "outputs": [],
   "source": [
    "col = []\n",
    "data = []\n",
    "with open(\"test_data\") as fr:\n",
    "    while True:\n",
    "        r = fr.readline().strip()\n",
    "        if not r: break;\n",
    "        r = r.split(\" \")\n",
    "        \n",
    "        vidx = []\n",
    "        vdata = []\n",
    "        for x in r:\n",
    "            idx, val = x.split(\":\")\n",
    "            vidx.append(int(idx))\n",
    "            vdata.append(float(val))\n",
    "        \n",
    "        col.append(vidx)\n",
    "        data.append(vdata)"
   ]
  },
  {
   "cell_type": "code",
   "execution_count": 2,
   "metadata": {
    "collapsed": true
   },
   "outputs": [],
   "source": [
    "from evaluation import *"
   ]
  },
  {
   "cell_type": "code",
   "execution_count": 3,
   "metadata": {
    "collapsed": false
   },
   "outputs": [],
   "source": [
    "X, Y, slot, dist = getdata(\"training_data_total\")"
   ]
  },
  {
   "cell_type": "code",
   "execution_count": 4,
   "metadata": {
    "collapsed": false
   },
   "outputs": [
    {
     "data": {
      "text/plain": [
       "<97089x10760 sparse matrix of type '<type 'numpy.float64'>'\n",
       "\twith 1653709 stored elements in Compressed Sparse Row format>"
      ]
     },
     "execution_count": 4,
     "metadata": {},
     "output_type": "execute_result"
    }
   ],
   "source": [
    "X"
   ]
  },
  {
   "cell_type": "code",
   "execution_count": 9,
   "metadata": {
    "collapsed": false
   },
   "outputs": [
    {
     "data": {
      "text/plain": [
       "Ridge(alpha=10, copy_X=True, fit_intercept=True, max_iter=None,\n",
       "   normalize=False, random_state=None, solver='auto', tol=0.001)"
      ]
     },
     "execution_count": 9,
     "metadata": {},
     "output_type": "execute_result"
    }
   ],
   "source": [
    "from sklearn.linear_model import Ridge\n",
    "\n",
    "\n",
    "weight = np.zeros(Y.shape)\n",
    "for i, y in enumerate(Y):\n",
    "    if y==0:\n",
    "        weight[i]=1\n",
    "    else:\n",
    "        weight[i]=1/y\n",
    "\n",
    "lr = Ridge(alpha=10)\n",
    "lr.fit(X, Y, weight)"
   ]
  },
  {
   "cell_type": "code",
   "execution_count": 10,
   "metadata": {
    "collapsed": true
   },
   "outputs": [],
   "source": [
    "Xt, recs = gettestdata(\"test_data\", \"season_1/test_set_1/read_me_1.txt\")"
   ]
  },
  {
   "cell_type": "code",
   "execution_count": 17,
   "metadata": {
    "collapsed": true
   },
   "outputs": [],
   "source": [
    "Y_pred = lr.predict(X)"
   ]
  },
  {
   "cell_type": "code",
   "execution_count": 18,
   "metadata": {
    "collapsed": false
   },
   "outputs": [],
   "source": [
    "Y[Y<0]=0"
   ]
  },
  {
   "cell_type": "code",
   "execution_count": 14,
   "metadata": {
    "collapsed": false
   },
   "outputs": [
    {
     "data": {
      "text/plain": [
       "array([ 0.50515934,  0.18966589,  0.0744843 , ...,  0.17523388,\n",
       "        0.32034611,  0.13346256])"
      ]
     },
     "execution_count": 14,
     "metadata": {},
     "output_type": "execute_result"
    }
   ],
   "source": [
    "Yt"
   ]
  },
  {
   "cell_type": "code",
   "execution_count": 16,
   "metadata": {
    "collapsed": true
   },
   "outputs": [],
   "source": [
    "with open(\"result.csv\", \"w\") as fw:\n",
    "    for i, (r, s) in enumerate(recs):\n",
    "        fw.write(\"{0},{1},{2}\\n\".format(r, s, Yt[i]))"
   ]
  },
  {
   "cell_type": "code",
   "execution_count": 19,
   "metadata": {
    "collapsed": false
   },
   "outputs": [
    {
     "data": {
      "text/plain": [
       "0.10702183890449453"
      ]
     },
     "execution_count": 19,
     "metadata": {},
     "output_type": "execute_result"
    }
   ],
   "source": [
    "mape(Y, Y_pred, slot, dist)"
   ]
  },
  {
   "cell_type": "code",
   "execution_count": 3,
   "metadata": {
    "collapsed": false
   },
   "outputs": [
    {
     "data": {
      "text/plain": [
       "(56985, 278)"
      ]
     },
     "execution_count": 3,
     "metadata": {},
     "output_type": "execute_result"
    }
   ],
   "source": [
    "X.shape"
   ]
  },
  {
   "cell_type": "code",
   "execution_count": 1,
   "metadata": {
    "collapsed": false
   },
   "outputs": [
    {
     "ename": "KeyboardInterrupt",
     "evalue": "",
     "output_type": "error",
     "traceback": [
      "\u001b[1;31m---------------------------------------------------------------------------\u001b[0m",
      "\u001b[1;31mKeyboardInterrupt\u001b[0m                         Traceback (most recent call last)",
      "\u001b[1;32m<ipython-input-1-42fbf0a5e75c>\u001b[0m in \u001b[0;36m<module>\u001b[1;34m()\u001b[0m\n\u001b[1;32m----> 1\u001b[1;33m \u001b[1;32mfrom\u001b[0m \u001b[0mevaluation\u001b[0m \u001b[1;32mimport\u001b[0m \u001b[1;33m*\u001b[0m\u001b[1;33m\u001b[0m\u001b[0m\n\u001b[0m\u001b[0;32m      2\u001b[0m \u001b[1;33m\u001b[0m\u001b[0m\n\u001b[0;32m      3\u001b[0m \u001b[0mX\u001b[0m\u001b[1;33m,\u001b[0m \u001b[0mY\u001b[0m\u001b[1;33m,\u001b[0m \u001b[0mslot_train\u001b[0m\u001b[1;33m,\u001b[0m \u001b[0mdist_train\u001b[0m \u001b[1;33m=\u001b[0m \u001b[0mgetdata\u001b[0m\u001b[1;33m(\u001b[0m\u001b[1;34m'training_data'\u001b[0m\u001b[1;33m)\u001b[0m\u001b[1;33m\u001b[0m\u001b[0m\n",
      "\u001b[1;32m/home/ike/Projects/ditech/evaluation.py\u001b[0m in \u001b[0;36m<module>\u001b[1;34m()\u001b[0m\n\u001b[0;32m      2\u001b[0m \u001b[1;32mfrom\u001b[0m \u001b[0msklearn\u001b[0m\u001b[1;33m.\u001b[0m\u001b[0mlinear_model\u001b[0m \u001b[1;32mimport\u001b[0m \u001b[0mRidge\u001b[0m\u001b[1;33m\u001b[0m\u001b[0m\n\u001b[0;32m      3\u001b[0m \u001b[1;32mfrom\u001b[0m \u001b[0mscipy\u001b[0m\u001b[1;33m.\u001b[0m\u001b[0msparse\u001b[0m \u001b[1;32mimport\u001b[0m \u001b[0mcoo_matrix\u001b[0m\u001b[1;33m\u001b[0m\u001b[0m\n\u001b[1;32m----> 4\u001b[1;33m \u001b[1;32mfrom\u001b[0m \u001b[0mfeature_generation\u001b[0m \u001b[1;32mimport\u001b[0m \u001b[0mgap_level\u001b[0m\u001b[1;33m\u001b[0m\u001b[0m\n\u001b[0m\u001b[0;32m      5\u001b[0m \u001b[1;33m\u001b[0m\u001b[0m\n\u001b[0;32m      6\u001b[0m \u001b[0msz\u001b[0m\u001b[1;33m=\u001b[0m\u001b[0mnp\u001b[0m\u001b[1;33m.\u001b[0m\u001b[0marray\u001b[0m\u001b[1;33m(\u001b[0m\u001b[1;33m[\u001b[0m\u001b[1;36m24\u001b[0m\u001b[1;33m,\u001b[0m \u001b[1;36m2\u001b[0m\u001b[1;33m,\u001b[0m \u001b[1;36m66\u001b[0m\u001b[1;33m,\u001b[0m \u001b[1;36m21\u001b[0m\u001b[1;33m,\u001b[0m \u001b[1;36m21\u001b[0m\u001b[1;33m,\u001b[0m \u001b[1;36m49\u001b[0m\u001b[1;33m,\u001b[0m \u001b[1;36m1\u001b[0m\u001b[1;33m]\u001b[0m\u001b[1;33m)\u001b[0m\u001b[1;33m\u001b[0m\u001b[0m\n",
      "\u001b[1;32m/home/ike/Projects/ditech/feature_generation.py\u001b[0m in \u001b[0;36m<module>\u001b[1;34m()\u001b[0m\n\u001b[1;32m----> 1\u001b[1;33m \u001b[1;32mimport\u001b[0m \u001b[0mpandas\u001b[0m \u001b[1;32mas\u001b[0m \u001b[0mpd\u001b[0m\u001b[1;33m\u001b[0m\u001b[0m\n\u001b[0m\u001b[0;32m      2\u001b[0m \u001b[1;32mfrom\u001b[0m \u001b[0mdatetime\u001b[0m \u001b[1;32mimport\u001b[0m \u001b[0mdate\u001b[0m\u001b[1;33m,\u001b[0m \u001b[0mtimedelta\u001b[0m\u001b[1;33m\u001b[0m\u001b[0m\n\u001b[0;32m      3\u001b[0m \u001b[1;32mimport\u001b[0m \u001b[0mnumpy\u001b[0m \u001b[1;32mas\u001b[0m \u001b[0mnp\u001b[0m\u001b[1;33m\u001b[0m\u001b[0m\n\u001b[0;32m      4\u001b[0m \u001b[1;33m\u001b[0m\u001b[0m\n\u001b[0;32m      5\u001b[0m \u001b[0mstartdate\u001b[0m \u001b[1;33m=\u001b[0m \u001b[0mdate\u001b[0m\u001b[1;33m(\u001b[0m\u001b[1;36m2016\u001b[0m\u001b[1;33m,\u001b[0m \u001b[1;36m1\u001b[0m \u001b[1;33m,\u001b[0m\u001b[1;36m1\u001b[0m\u001b[1;33m)\u001b[0m\u001b[1;33m\u001b[0m\u001b[0m\n",
      "\u001b[1;32m/home/ike/.miniconda/lib/python2.7/site-packages/pandas/__init__.pyc\u001b[0m in \u001b[0;36m<module>\u001b[1;34m()\u001b[0m\n\u001b[0;32m     37\u001b[0m \u001b[1;32mimport\u001b[0m \u001b[0mpandas\u001b[0m\u001b[1;33m.\u001b[0m\u001b[0mcore\u001b[0m\u001b[1;33m.\u001b[0m\u001b[0mconfig_init\u001b[0m\u001b[1;33m\u001b[0m\u001b[0m\n\u001b[0;32m     38\u001b[0m \u001b[1;33m\u001b[0m\u001b[0m\n\u001b[1;32m---> 39\u001b[1;33m \u001b[1;32mfrom\u001b[0m \u001b[0mpandas\u001b[0m\u001b[1;33m.\u001b[0m\u001b[0mcore\u001b[0m\u001b[1;33m.\u001b[0m\u001b[0mapi\u001b[0m \u001b[1;32mimport\u001b[0m \u001b[1;33m*\u001b[0m\u001b[1;33m\u001b[0m\u001b[0m\n\u001b[0m\u001b[0;32m     40\u001b[0m \u001b[1;32mfrom\u001b[0m \u001b[0mpandas\u001b[0m\u001b[1;33m.\u001b[0m\u001b[0msparse\u001b[0m\u001b[1;33m.\u001b[0m\u001b[0mapi\u001b[0m \u001b[1;32mimport\u001b[0m \u001b[1;33m*\u001b[0m\u001b[1;33m\u001b[0m\u001b[0m\n\u001b[0;32m     41\u001b[0m \u001b[1;32mfrom\u001b[0m \u001b[0mpandas\u001b[0m\u001b[1;33m.\u001b[0m\u001b[0mstats\u001b[0m\u001b[1;33m.\u001b[0m\u001b[0mapi\u001b[0m \u001b[1;32mimport\u001b[0m \u001b[1;33m*\u001b[0m\u001b[1;33m\u001b[0m\u001b[0m\n",
      "\u001b[1;32m/home/ike/.miniconda/lib/python2.7/site-packages/pandas/core/api.py\u001b[0m in \u001b[0;36m<module>\u001b[1;34m()\u001b[0m\n\u001b[0;32m      8\u001b[0m \u001b[1;32mfrom\u001b[0m \u001b[0mpandas\u001b[0m\u001b[1;33m.\u001b[0m\u001b[0mcore\u001b[0m\u001b[1;33m.\u001b[0m\u001b[0mcommon\u001b[0m \u001b[1;32mimport\u001b[0m \u001b[0misnull\u001b[0m\u001b[1;33m,\u001b[0m \u001b[0mnotnull\u001b[0m\u001b[1;33m\u001b[0m\u001b[0m\n\u001b[0;32m      9\u001b[0m \u001b[1;32mfrom\u001b[0m \u001b[0mpandas\u001b[0m\u001b[1;33m.\u001b[0m\u001b[0mcore\u001b[0m\u001b[1;33m.\u001b[0m\u001b[0mcategorical\u001b[0m \u001b[1;32mimport\u001b[0m \u001b[0mCategorical\u001b[0m\u001b[1;33m\u001b[0m\u001b[0m\n\u001b[1;32m---> 10\u001b[1;33m \u001b[1;32mfrom\u001b[0m \u001b[0mpandas\u001b[0m\u001b[1;33m.\u001b[0m\u001b[0mcore\u001b[0m\u001b[1;33m.\u001b[0m\u001b[0mgroupby\u001b[0m \u001b[1;32mimport\u001b[0m \u001b[0mGrouper\u001b[0m\u001b[1;33m\u001b[0m\u001b[0m\n\u001b[0m\u001b[0;32m     11\u001b[0m \u001b[1;32mfrom\u001b[0m \u001b[0mpandas\u001b[0m\u001b[1;33m.\u001b[0m\u001b[0mformats\u001b[0m\u001b[1;33m.\u001b[0m\u001b[0mformat\u001b[0m \u001b[1;32mimport\u001b[0m \u001b[0mset_eng_float_format\u001b[0m\u001b[1;33m\u001b[0m\u001b[0m\n\u001b[0;32m     12\u001b[0m from pandas.core.index import (Index, CategoricalIndex, Int64Index,\n",
      "\u001b[1;32m/home/ike/.miniconda/lib/python2.7/site-packages/pandas/core/groupby.py\u001b[0m in \u001b[0;36m<module>\u001b[1;34m()\u001b[0m\n\u001b[0;32m     16\u001b[0m                               DataError, SpecificationError)\n\u001b[0;32m     17\u001b[0m \u001b[1;32mfrom\u001b[0m \u001b[0mpandas\u001b[0m\u001b[1;33m.\u001b[0m\u001b[0mcore\u001b[0m\u001b[1;33m.\u001b[0m\u001b[0mcategorical\u001b[0m \u001b[1;32mimport\u001b[0m \u001b[0mCategorical\u001b[0m\u001b[1;33m\u001b[0m\u001b[0m\n\u001b[1;32m---> 18\u001b[1;33m \u001b[1;32mfrom\u001b[0m \u001b[0mpandas\u001b[0m\u001b[1;33m.\u001b[0m\u001b[0mcore\u001b[0m\u001b[1;33m.\u001b[0m\u001b[0mframe\u001b[0m \u001b[1;32mimport\u001b[0m \u001b[0mDataFrame\u001b[0m\u001b[1;33m\u001b[0m\u001b[0m\n\u001b[0m\u001b[0;32m     19\u001b[0m \u001b[1;32mfrom\u001b[0m \u001b[0mpandas\u001b[0m\u001b[1;33m.\u001b[0m\u001b[0mcore\u001b[0m\u001b[1;33m.\u001b[0m\u001b[0mgeneric\u001b[0m \u001b[1;32mimport\u001b[0m \u001b[0mNDFrame\u001b[0m\u001b[1;33m\u001b[0m\u001b[0m\n\u001b[0;32m     20\u001b[0m from pandas.core.index import (Index, MultiIndex, CategoricalIndex,\n",
      "\u001b[1;32m/home/ike/.miniconda/lib/python2.7/site-packages/pandas/core/frame.py\u001b[0m in \u001b[0;36m<module>\u001b[1;34m()\u001b[0m\n\u001b[0;32m     37\u001b[0m                                    \u001b[0mcreate_block_manager_from_arrays\u001b[0m\u001b[1;33m,\u001b[0m\u001b[1;33m\u001b[0m\u001b[0m\n\u001b[0;32m     38\u001b[0m                                    create_block_manager_from_blocks)\n\u001b[1;32m---> 39\u001b[1;33m \u001b[1;32mfrom\u001b[0m \u001b[0mpandas\u001b[0m\u001b[1;33m.\u001b[0m\u001b[0mcore\u001b[0m\u001b[1;33m.\u001b[0m\u001b[0mseries\u001b[0m \u001b[1;32mimport\u001b[0m \u001b[0mSeries\u001b[0m\u001b[1;33m\u001b[0m\u001b[0m\n\u001b[0m\u001b[0;32m     40\u001b[0m \u001b[1;32mfrom\u001b[0m \u001b[0mpandas\u001b[0m\u001b[1;33m.\u001b[0m\u001b[0mcore\u001b[0m\u001b[1;33m.\u001b[0m\u001b[0mcategorical\u001b[0m \u001b[1;32mimport\u001b[0m \u001b[0mCategorical\u001b[0m\u001b[1;33m\u001b[0m\u001b[0m\n\u001b[0;32m     41\u001b[0m \u001b[1;32mimport\u001b[0m \u001b[0mpandas\u001b[0m\u001b[1;33m.\u001b[0m\u001b[0mcomputation\u001b[0m\u001b[1;33m.\u001b[0m\u001b[0mexpressions\u001b[0m \u001b[1;32mas\u001b[0m \u001b[0mexpressions\u001b[0m\u001b[1;33m\u001b[0m\u001b[0m\n",
      "\u001b[1;32m/home/ike/.miniconda/lib/python2.7/site-packages/pandas/core/series.py\u001b[0m in \u001b[0;36m<module>\u001b[1;34m()\u001b[0m\n\u001b[0;32m   2942\u001b[0m \u001b[1;31m# Add plotting methods to Series\u001b[0m\u001b[1;33m\u001b[0m\u001b[1;33m\u001b[0m\u001b[0m\n\u001b[0;32m   2943\u001b[0m \u001b[1;33m\u001b[0m\u001b[0m\n\u001b[1;32m-> 2944\u001b[1;33m \u001b[1;32mimport\u001b[0m \u001b[0mpandas\u001b[0m\u001b[1;33m.\u001b[0m\u001b[0mtools\u001b[0m\u001b[1;33m.\u001b[0m\u001b[0mplotting\u001b[0m \u001b[1;32mas\u001b[0m \u001b[0m_gfx\u001b[0m  \u001b[1;31m# noqa\u001b[0m\u001b[1;33m\u001b[0m\u001b[0m\n\u001b[0m\u001b[0;32m   2945\u001b[0m \u001b[1;33m\u001b[0m\u001b[0m\n\u001b[0;32m   2946\u001b[0m Series.plot = base.AccessorProperty(_gfx.SeriesPlotMethods,\n",
      "\u001b[1;32m/home/ike/.miniconda/lib/python2.7/site-packages/pandas/tools/plotting.py\u001b[0m in \u001b[0;36m<module>\u001b[1;34m()\u001b[0m\n\u001b[0;32m     25\u001b[0m \u001b[1;32mfrom\u001b[0m \u001b[0mpandas\u001b[0m\u001b[1;33m.\u001b[0m\u001b[0mutil\u001b[0m\u001b[1;33m.\u001b[0m\u001b[0mdecorators\u001b[0m \u001b[1;32mimport\u001b[0m \u001b[0mAppender\u001b[0m\u001b[1;33m\u001b[0m\u001b[0m\n\u001b[0;32m     26\u001b[0m \u001b[1;32mtry\u001b[0m\u001b[1;33m:\u001b[0m  \u001b[1;31m# mpl optional\u001b[0m\u001b[1;33m\u001b[0m\u001b[0m\n\u001b[1;32m---> 27\u001b[1;33m     \u001b[1;32mimport\u001b[0m \u001b[0mpandas\u001b[0m\u001b[1;33m.\u001b[0m\u001b[0mtseries\u001b[0m\u001b[1;33m.\u001b[0m\u001b[0mconverter\u001b[0m \u001b[1;32mas\u001b[0m \u001b[0mconv\u001b[0m\u001b[1;33m\u001b[0m\u001b[0m\n\u001b[0m\u001b[0;32m     28\u001b[0m     \u001b[0mconv\u001b[0m\u001b[1;33m.\u001b[0m\u001b[0mregister\u001b[0m\u001b[1;33m(\u001b[0m\u001b[1;33m)\u001b[0m  \u001b[1;31m# needs to override so set_xlim works with str/number\u001b[0m\u001b[1;33m\u001b[0m\u001b[0m\n\u001b[0;32m     29\u001b[0m \u001b[1;32mexcept\u001b[0m \u001b[0mImportError\u001b[0m\u001b[1;33m:\u001b[0m\u001b[1;33m\u001b[0m\u001b[0m\n",
      "\u001b[1;32m/home/ike/.miniconda/lib/python2.7/site-packages/pandas/tseries/converter.py\u001b[0m in \u001b[0;36m<module>\u001b[1;34m()\u001b[0m\n\u001b[0;32m      5\u001b[0m \u001b[1;32mfrom\u001b[0m \u001b[0mdateutil\u001b[0m\u001b[1;33m.\u001b[0m\u001b[0mrelativedelta\u001b[0m \u001b[1;32mimport\u001b[0m \u001b[0mrelativedelta\u001b[0m\u001b[1;33m\u001b[0m\u001b[0m\n\u001b[0;32m      6\u001b[0m \u001b[1;33m\u001b[0m\u001b[0m\n\u001b[1;32m----> 7\u001b[1;33m \u001b[1;32mimport\u001b[0m \u001b[0mmatplotlib\u001b[0m\u001b[1;33m.\u001b[0m\u001b[0munits\u001b[0m \u001b[1;32mas\u001b[0m \u001b[0munits\u001b[0m\u001b[1;33m\u001b[0m\u001b[0m\n\u001b[0m\u001b[0;32m      8\u001b[0m \u001b[1;32mimport\u001b[0m \u001b[0mmatplotlib\u001b[0m\u001b[1;33m.\u001b[0m\u001b[0mdates\u001b[0m \u001b[1;32mas\u001b[0m \u001b[0mdates\u001b[0m\u001b[1;33m\u001b[0m\u001b[0m\n\u001b[0;32m      9\u001b[0m \u001b[1;33m\u001b[0m\u001b[0m\n",
      "\u001b[1;32m/home/ike/.miniconda/lib/python2.7/site-packages/matplotlib/__init__.py\u001b[0m in \u001b[0;36m<module>\u001b[1;34m()\u001b[0m\n\u001b[0;32m    122\u001b[0m \u001b[1;32mfrom\u001b[0m \u001b[0mmatplotlib\u001b[0m\u001b[1;33m.\u001b[0m\u001b[0mcbook\u001b[0m \u001b[1;32mimport\u001b[0m \u001b[0mis_string_like\u001b[0m\u001b[1;33m,\u001b[0m \u001b[0mmplDeprecation\u001b[0m\u001b[1;33m,\u001b[0m \u001b[0mdedent\u001b[0m\u001b[1;33m,\u001b[0m \u001b[0mget_label\u001b[0m\u001b[1;33m\u001b[0m\u001b[0m\n\u001b[0;32m    123\u001b[0m \u001b[1;32mfrom\u001b[0m \u001b[0mmatplotlib\u001b[0m\u001b[1;33m.\u001b[0m\u001b[0mcompat\u001b[0m \u001b[1;32mimport\u001b[0m \u001b[0msubprocess\u001b[0m\u001b[1;33m\u001b[0m\u001b[0m\n\u001b[1;32m--> 124\u001b[1;33m from matplotlib.rcsetup import (defaultParams,\n\u001b[0m\u001b[0;32m    125\u001b[0m                                 \u001b[0mvalidate_backend\u001b[0m\u001b[1;33m,\u001b[0m\u001b[1;33m\u001b[0m\u001b[0m\n\u001b[0;32m    126\u001b[0m                                 cycler)\n",
      "\u001b[1;32m/home/ike/.miniconda/lib/python2.7/site-packages/matplotlib/rcsetup.py\u001b[0m in \u001b[0;36m<module>\u001b[1;34m()\u001b[0m\n\u001b[0;32m     28\u001b[0m     \u001b[1;31m# python 2\u001b[0m\u001b[1;33m\u001b[0m\u001b[1;33m\u001b[0m\u001b[0m\n\u001b[0;32m     29\u001b[0m     \u001b[1;32mimport\u001b[0m \u001b[0mcollections\u001b[0m \u001b[1;32mas\u001b[0m \u001b[0mabc\u001b[0m\u001b[1;33m\u001b[0m\u001b[0m\n\u001b[1;32m---> 30\u001b[1;33m \u001b[1;32mfrom\u001b[0m \u001b[0mmatplotlib\u001b[0m\u001b[1;33m.\u001b[0m\u001b[0mfontconfig_pattern\u001b[0m \u001b[1;32mimport\u001b[0m \u001b[0mparse_fontconfig_pattern\u001b[0m\u001b[1;33m\u001b[0m\u001b[0m\n\u001b[0m\u001b[0;32m     31\u001b[0m \u001b[1;32mfrom\u001b[0m \u001b[0mmatplotlib\u001b[0m\u001b[1;33m.\u001b[0m\u001b[0mcolors\u001b[0m \u001b[1;32mimport\u001b[0m \u001b[0mis_color_like\u001b[0m\u001b[1;33m\u001b[0m\u001b[0m\n\u001b[0;32m     32\u001b[0m \u001b[1;33m\u001b[0m\u001b[0m\n",
      "\u001b[1;32m/home/ike/.miniconda/lib/python2.7/site-packages/matplotlib/fontconfig_pattern.py\u001b[0m in \u001b[0;36m<module>\u001b[1;34m()\u001b[0m\n\u001b[0;32m     23\u001b[0m \u001b[1;33m\u001b[0m\u001b[0m\n\u001b[0;32m     24\u001b[0m \u001b[1;32mimport\u001b[0m \u001b[0mre\u001b[0m\u001b[1;33m,\u001b[0m \u001b[0msys\u001b[0m\u001b[1;33m\u001b[0m\u001b[0m\n\u001b[1;32m---> 25\u001b[1;33m \u001b[1;32mfrom\u001b[0m \u001b[0mpyparsing\u001b[0m \u001b[1;32mimport\u001b[0m \u001b[0mLiteral\u001b[0m\u001b[1;33m,\u001b[0m \u001b[0mZeroOrMore\u001b[0m\u001b[1;33m,\u001b[0m\u001b[0;31m \u001b[0m\u001b[0;31m\\\u001b[0m\u001b[1;33m\u001b[0m\u001b[0m\n\u001b[0m\u001b[0;32m     26\u001b[0m      \u001b[0mOptional\u001b[0m\u001b[1;33m,\u001b[0m \u001b[0mRegex\u001b[0m\u001b[1;33m,\u001b[0m \u001b[0mStringEnd\u001b[0m\u001b[1;33m,\u001b[0m \u001b[0mParseException\u001b[0m\u001b[1;33m,\u001b[0m \u001b[0mSuppress\u001b[0m\u001b[1;33m\u001b[0m\u001b[0m\n\u001b[0;32m     27\u001b[0m \u001b[1;33m\u001b[0m\u001b[0m\n",
      "\u001b[1;32m/home/ike/.miniconda/lib/python2.7/site-packages/pyparsing.py\u001b[0m in \u001b[0;36m<module>\u001b[1;34m()\u001b[0m\n\u001b[0;32m   3537\u001b[0m \u001b[0mstringEnd\u001b[0m   \u001b[1;33m=\u001b[0m \u001b[0mStringEnd\u001b[0m\u001b[1;33m(\u001b[0m\u001b[1;33m)\u001b[0m\u001b[1;33m.\u001b[0m\u001b[0msetName\u001b[0m\u001b[1;33m(\u001b[0m\u001b[1;34m\"stringEnd\"\u001b[0m\u001b[1;33m)\u001b[0m\u001b[1;33m\u001b[0m\u001b[0m\n\u001b[0;32m   3538\u001b[0m \u001b[1;33m\u001b[0m\u001b[0m\n\u001b[1;32m-> 3539\u001b[1;33m \u001b[0m_escapedPunc\u001b[0m \u001b[1;33m=\u001b[0m \u001b[0mWord\u001b[0m\u001b[1;33m(\u001b[0m \u001b[0m_bslash\u001b[0m\u001b[1;33m,\u001b[0m \u001b[1;34mr\"\\[]-*.$+^?()~ \"\u001b[0m\u001b[1;33m,\u001b[0m \u001b[0mexact\u001b[0m\u001b[1;33m=\u001b[0m\u001b[1;36m2\u001b[0m \u001b[1;33m)\u001b[0m\u001b[1;33m.\u001b[0m\u001b[0msetParseAction\u001b[0m\u001b[1;33m(\u001b[0m\u001b[1;32mlambda\u001b[0m \u001b[0ms\u001b[0m\u001b[1;33m,\u001b[0m\u001b[0ml\u001b[0m\u001b[1;33m,\u001b[0m\u001b[0mt\u001b[0m\u001b[1;33m:\u001b[0m\u001b[0mt\u001b[0m\u001b[1;33m[\u001b[0m\u001b[1;36m0\u001b[0m\u001b[1;33m]\u001b[0m\u001b[1;33m[\u001b[0m\u001b[1;36m1\u001b[0m\u001b[1;33m]\u001b[0m\u001b[1;33m)\u001b[0m\u001b[1;33m\u001b[0m\u001b[0m\n\u001b[0m\u001b[0;32m   3540\u001b[0m \u001b[0m_escapedHexChar\u001b[0m \u001b[1;33m=\u001b[0m \u001b[0mRegex\u001b[0m\u001b[1;33m(\u001b[0m\u001b[1;34mr\"\\\\0?[xX][0-9a-fA-F]+\"\u001b[0m\u001b[1;33m)\u001b[0m\u001b[1;33m.\u001b[0m\u001b[0msetParseAction\u001b[0m\u001b[1;33m(\u001b[0m\u001b[1;32mlambda\u001b[0m \u001b[0ms\u001b[0m\u001b[1;33m,\u001b[0m\u001b[0ml\u001b[0m\u001b[1;33m,\u001b[0m\u001b[0mt\u001b[0m\u001b[1;33m:\u001b[0m\u001b[0munichr\u001b[0m\u001b[1;33m(\u001b[0m\u001b[0mint\u001b[0m\u001b[1;33m(\u001b[0m\u001b[0mt\u001b[0m\u001b[1;33m[\u001b[0m\u001b[1;36m0\u001b[0m\u001b[1;33m]\u001b[0m\u001b[1;33m.\u001b[0m\u001b[0mlstrip\u001b[0m\u001b[1;33m(\u001b[0m\u001b[1;34mr'\\0x'\u001b[0m\u001b[1;33m)\u001b[0m\u001b[1;33m,\u001b[0m\u001b[1;36m16\u001b[0m\u001b[1;33m)\u001b[0m\u001b[1;33m)\u001b[0m\u001b[1;33m)\u001b[0m\u001b[1;33m\u001b[0m\u001b[0m\n\u001b[0;32m   3541\u001b[0m \u001b[0m_escapedOctChar\u001b[0m \u001b[1;33m=\u001b[0m \u001b[0mRegex\u001b[0m\u001b[1;33m(\u001b[0m\u001b[1;34mr\"\\\\0[0-7]+\"\u001b[0m\u001b[1;33m)\u001b[0m\u001b[1;33m.\u001b[0m\u001b[0msetParseAction\u001b[0m\u001b[1;33m(\u001b[0m\u001b[1;32mlambda\u001b[0m \u001b[0ms\u001b[0m\u001b[1;33m,\u001b[0m\u001b[0ml\u001b[0m\u001b[1;33m,\u001b[0m\u001b[0mt\u001b[0m\u001b[1;33m:\u001b[0m\u001b[0munichr\u001b[0m\u001b[1;33m(\u001b[0m\u001b[0mint\u001b[0m\u001b[1;33m(\u001b[0m\u001b[0mt\u001b[0m\u001b[1;33m[\u001b[0m\u001b[1;36m0\u001b[0m\u001b[1;33m]\u001b[0m\u001b[1;33m[\u001b[0m\u001b[1;36m1\u001b[0m\u001b[1;33m:\u001b[0m\u001b[1;33m]\u001b[0m\u001b[1;33m,\u001b[0m\u001b[1;36m8\u001b[0m\u001b[1;33m)\u001b[0m\u001b[1;33m)\u001b[0m\u001b[1;33m)\u001b[0m\u001b[1;33m\u001b[0m\u001b[0m\n",
      "\u001b[1;32m/home/ike/.miniconda/lib/python2.7/site-packages/pyparsing.py\u001b[0m in \u001b[0;36msetParseAction\u001b[1;34m(self, *fns, **kwargs)\u001b[0m\n\u001b[0;32m    964\u001b[0m            \u001b[0mpositions\u001b[0m \u001b[0mwithin\u001b[0m \u001b[0mthe\u001b[0m \u001b[0mparsed\u001b[0m \u001b[0mstring\u001b[0m\u001b[1;33m.\u001b[0m\u001b[1;33m\u001b[0m\u001b[0m\n\u001b[0;32m    965\u001b[0m            \"\"\"\n\u001b[1;32m--> 966\u001b[1;33m         \u001b[0mself\u001b[0m\u001b[1;33m.\u001b[0m\u001b[0mparseAction\u001b[0m \u001b[1;33m=\u001b[0m \u001b[0mlist\u001b[0m\u001b[1;33m(\u001b[0m\u001b[0mmap\u001b[0m\u001b[1;33m(\u001b[0m\u001b[0m_trim_arity\u001b[0m\u001b[1;33m,\u001b[0m \u001b[0mlist\u001b[0m\u001b[1;33m(\u001b[0m\u001b[0mfns\u001b[0m\u001b[1;33m)\u001b[0m\u001b[1;33m)\u001b[0m\u001b[1;33m)\u001b[0m\u001b[1;33m\u001b[0m\u001b[0m\n\u001b[0m\u001b[0;32m    967\u001b[0m         \u001b[0mself\u001b[0m\u001b[1;33m.\u001b[0m\u001b[0mcallDuringTry\u001b[0m \u001b[1;33m=\u001b[0m \u001b[0mkwargs\u001b[0m\u001b[1;33m.\u001b[0m\u001b[0mget\u001b[0m\u001b[1;33m(\u001b[0m\u001b[1;34m\"callDuringTry\"\u001b[0m\u001b[1;33m,\u001b[0m \u001b[0mFalse\u001b[0m\u001b[1;33m)\u001b[0m\u001b[1;33m\u001b[0m\u001b[0m\n\u001b[0;32m    968\u001b[0m         \u001b[1;32mreturn\u001b[0m \u001b[0mself\u001b[0m\u001b[1;33m\u001b[0m\u001b[0m\n",
      "\u001b[1;32m/home/ike/.miniconda/lib/python2.7/site-packages/pyparsing.py\u001b[0m in \u001b[0;36m_trim_arity\u001b[1;34m(func, maxargs)\u001b[0m\n\u001b[0;32m    811\u001b[0m     \u001b[1;31m# IF ANY CODE CHANGES, EVEN JUST COMMENTS OR BLANK LINES, BETWEEN THE NEXT LINE AND\u001b[0m\u001b[1;33m\u001b[0m\u001b[1;33m\u001b[0m\u001b[0m\n\u001b[0;32m    812\u001b[0m     \u001b[1;31m# THE CALL TO FUNC INSIDE WRAPPER, LINE_DIFF MUST BE MODIFIED!!!!\u001b[0m\u001b[1;33m\u001b[0m\u001b[1;33m\u001b[0m\u001b[0m\n\u001b[1;32m--> 813\u001b[1;33m     \u001b[0mthis_line\u001b[0m \u001b[1;33m=\u001b[0m \u001b[0mextract_stack\u001b[0m\u001b[1;33m(\u001b[0m\u001b[1;33m)\u001b[0m\u001b[1;33m[\u001b[0m\u001b[1;33m-\u001b[0m\u001b[1;36m1\u001b[0m\u001b[1;33m]\u001b[0m\u001b[1;33m\u001b[0m\u001b[0m\n\u001b[0m\u001b[0;32m    814\u001b[0m     \u001b[0mpa_call_line_synth\u001b[0m \u001b[1;33m=\u001b[0m \u001b[1;33m(\u001b[0m\u001b[0mthis_line\u001b[0m\u001b[1;33m[\u001b[0m\u001b[1;36m0\u001b[0m\u001b[1;33m]\u001b[0m\u001b[1;33m,\u001b[0m \u001b[0mthis_line\u001b[0m\u001b[1;33m[\u001b[0m\u001b[1;36m1\u001b[0m\u001b[1;33m]\u001b[0m\u001b[1;33m+\u001b[0m\u001b[0mLINE_DIFF\u001b[0m\u001b[1;33m)\u001b[0m\u001b[1;33m\u001b[0m\u001b[0m\n\u001b[0;32m    815\u001b[0m \u001b[1;33m\u001b[0m\u001b[0m\n",
      "\u001b[1;32m/home/ike/.miniconda/lib/python2.7/traceback.pyc\u001b[0m in \u001b[0;36mextract_stack\u001b[1;34m(f, limit)\u001b[0m\n\u001b[0;32m    304\u001b[0m         \u001b[0mname\u001b[0m \u001b[1;33m=\u001b[0m \u001b[0mco\u001b[0m\u001b[1;33m.\u001b[0m\u001b[0mco_name\u001b[0m\u001b[1;33m\u001b[0m\u001b[0m\n\u001b[0;32m    305\u001b[0m         \u001b[0mlinecache\u001b[0m\u001b[1;33m.\u001b[0m\u001b[0mcheckcache\u001b[0m\u001b[1;33m(\u001b[0m\u001b[0mfilename\u001b[0m\u001b[1;33m)\u001b[0m\u001b[1;33m\u001b[0m\u001b[0m\n\u001b[1;32m--> 306\u001b[1;33m         \u001b[0mline\u001b[0m \u001b[1;33m=\u001b[0m \u001b[0mlinecache\u001b[0m\u001b[1;33m.\u001b[0m\u001b[0mgetline\u001b[0m\u001b[1;33m(\u001b[0m\u001b[0mfilename\u001b[0m\u001b[1;33m,\u001b[0m \u001b[0mlineno\u001b[0m\u001b[1;33m,\u001b[0m \u001b[0mf\u001b[0m\u001b[1;33m.\u001b[0m\u001b[0mf_globals\u001b[0m\u001b[1;33m)\u001b[0m\u001b[1;33m\u001b[0m\u001b[0m\n\u001b[0m\u001b[0;32m    307\u001b[0m         \u001b[1;32mif\u001b[0m \u001b[0mline\u001b[0m\u001b[1;33m:\u001b[0m \u001b[0mline\u001b[0m \u001b[1;33m=\u001b[0m \u001b[0mline\u001b[0m\u001b[1;33m.\u001b[0m\u001b[0mstrip\u001b[0m\u001b[1;33m(\u001b[0m\u001b[1;33m)\u001b[0m\u001b[1;33m\u001b[0m\u001b[0m\n\u001b[0;32m    308\u001b[0m         \u001b[1;32melse\u001b[0m\u001b[1;33m:\u001b[0m \u001b[0mline\u001b[0m \u001b[1;33m=\u001b[0m \u001b[0mNone\u001b[0m\u001b[1;33m\u001b[0m\u001b[0m\n",
      "\u001b[1;32m/home/ike/.miniconda/lib/python2.7/linecache.pyc\u001b[0m in \u001b[0;36mgetline\u001b[1;34m(filename, lineno, module_globals)\u001b[0m\n\u001b[0;32m     12\u001b[0m \u001b[1;33m\u001b[0m\u001b[0m\n\u001b[0;32m     13\u001b[0m \u001b[1;32mdef\u001b[0m \u001b[0mgetline\u001b[0m\u001b[1;33m(\u001b[0m\u001b[0mfilename\u001b[0m\u001b[1;33m,\u001b[0m \u001b[0mlineno\u001b[0m\u001b[1;33m,\u001b[0m \u001b[0mmodule_globals\u001b[0m\u001b[1;33m=\u001b[0m\u001b[0mNone\u001b[0m\u001b[1;33m)\u001b[0m\u001b[1;33m:\u001b[0m\u001b[1;33m\u001b[0m\u001b[0m\n\u001b[1;32m---> 14\u001b[1;33m     \u001b[0mlines\u001b[0m \u001b[1;33m=\u001b[0m \u001b[0mgetlines\u001b[0m\u001b[1;33m(\u001b[0m\u001b[0mfilename\u001b[0m\u001b[1;33m,\u001b[0m \u001b[0mmodule_globals\u001b[0m\u001b[1;33m)\u001b[0m\u001b[1;33m\u001b[0m\u001b[0m\n\u001b[0m\u001b[0;32m     15\u001b[0m     \u001b[1;32mif\u001b[0m \u001b[1;36m1\u001b[0m \u001b[1;33m<=\u001b[0m \u001b[0mlineno\u001b[0m \u001b[1;33m<=\u001b[0m \u001b[0mlen\u001b[0m\u001b[1;33m(\u001b[0m\u001b[0mlines\u001b[0m\u001b[1;33m)\u001b[0m\u001b[1;33m:\u001b[0m\u001b[1;33m\u001b[0m\u001b[0m\n\u001b[0;32m     16\u001b[0m         \u001b[1;32mreturn\u001b[0m \u001b[0mlines\u001b[0m\u001b[1;33m[\u001b[0m\u001b[0mlineno\u001b[0m\u001b[1;33m-\u001b[0m\u001b[1;36m1\u001b[0m\u001b[1;33m]\u001b[0m\u001b[1;33m\u001b[0m\u001b[0m\n",
      "\u001b[1;32m/home/ike/.miniconda/lib/python2.7/linecache.pyc\u001b[0m in \u001b[0;36mgetlines\u001b[1;34m(filename, module_globals)\u001b[0m\n\u001b[0;32m     39\u001b[0m \u001b[1;33m\u001b[0m\u001b[0m\n\u001b[0;32m     40\u001b[0m     \u001b[1;32mtry\u001b[0m\u001b[1;33m:\u001b[0m\u001b[1;33m\u001b[0m\u001b[0m\n\u001b[1;32m---> 41\u001b[1;33m         \u001b[1;32mreturn\u001b[0m \u001b[0mupdatecache\u001b[0m\u001b[1;33m(\u001b[0m\u001b[0mfilename\u001b[0m\u001b[1;33m,\u001b[0m \u001b[0mmodule_globals\u001b[0m\u001b[1;33m)\u001b[0m\u001b[1;33m\u001b[0m\u001b[0m\n\u001b[0m\u001b[0;32m     42\u001b[0m     \u001b[1;32mexcept\u001b[0m \u001b[0mMemoryError\u001b[0m\u001b[1;33m:\u001b[0m\u001b[1;33m\u001b[0m\u001b[0m\n\u001b[0;32m     43\u001b[0m         \u001b[0mclearcache\u001b[0m\u001b[1;33m(\u001b[0m\u001b[1;33m)\u001b[0m\u001b[1;33m\u001b[0m\u001b[0m\n",
      "\u001b[1;32m/home/ike/.miniconda/lib/python2.7/linecache.pyc\u001b[0m in \u001b[0;36mupdatecache\u001b[1;34m(filename, module_globals)\u001b[0m\n\u001b[0;32m    130\u001b[0m     \u001b[1;32mtry\u001b[0m\u001b[1;33m:\u001b[0m\u001b[1;33m\u001b[0m\u001b[0m\n\u001b[0;32m    131\u001b[0m         \u001b[1;32mwith\u001b[0m \u001b[0mopen\u001b[0m\u001b[1;33m(\u001b[0m\u001b[0mfullname\u001b[0m\u001b[1;33m,\u001b[0m \u001b[1;34m'rU'\u001b[0m\u001b[1;33m)\u001b[0m \u001b[1;32mas\u001b[0m \u001b[0mfp\u001b[0m\u001b[1;33m:\u001b[0m\u001b[1;33m\u001b[0m\u001b[0m\n\u001b[1;32m--> 132\u001b[1;33m             \u001b[0mlines\u001b[0m \u001b[1;33m=\u001b[0m \u001b[0mfp\u001b[0m\u001b[1;33m.\u001b[0m\u001b[0mreadlines\u001b[0m\u001b[1;33m(\u001b[0m\u001b[1;33m)\u001b[0m\u001b[1;33m\u001b[0m\u001b[0m\n\u001b[0m\u001b[0;32m    133\u001b[0m     \u001b[1;32mexcept\u001b[0m \u001b[0mIOError\u001b[0m\u001b[1;33m:\u001b[0m\u001b[1;33m\u001b[0m\u001b[0m\n\u001b[0;32m    134\u001b[0m         \u001b[1;32mreturn\u001b[0m \u001b[1;33m[\u001b[0m\u001b[1;33m]\u001b[0m\u001b[1;33m\u001b[0m\u001b[0m\n",
      "\u001b[1;31mKeyboardInterrupt\u001b[0m: "
     ]
    }
   ],
   "source": [
    "from evaluation import *\n",
    "\n",
    "X, Y, slot_train, dist_train = getdata('training_data')"
   ]
  },
  {
   "cell_type": "code",
   "execution_count": 2,
   "metadata": {
    "collapsed": false
   },
   "outputs": [],
   "source": [
    "X1, Y1, slot1, dist1 = getdata(\"validation_data\")"
   ]
  },
  {
   "cell_type": "code",
   "execution_count": 2,
   "metadata": {
    "collapsed": false
   },
   "outputs": [],
   "source": [
    "weight = np.zeros(Y.shape)\n",
    "for i, y in enumerate(Y):\n",
    "    if y==0:\n",
    "        weight[i]=0\n",
    "    else:\n",
    "        weight[i]=1.0/y"
   ]
  },
  {
   "cell_type": "code",
   "execution_count": 23,
   "metadata": {
    "collapsed": false
   },
   "outputs": [
    {
     "data": {
      "text/plain": [
       "Ridge(alpha=20, copy_X=True, fit_intercept=True, max_iter=None,\n",
       "   normalize=False, random_state=None, solver='auto', tol=0.001)"
      ]
     },
     "execution_count": 23,
     "metadata": {},
     "output_type": "execute_result"
    }
   ],
   "source": [
    "from sklearn.linear_model import Ridge\n",
    "lr = Ridge(alpha=20)\n",
    "lr.fit(X, Y, weight)"
   ]
  },
  {
   "cell_type": "code",
   "execution_count": 7,
   "metadata": {
    "collapsed": false
   },
   "outputs": [
    {
     "name": "stdout",
     "output_type": "stream",
     "text": [
      "0.536289881521\n"
     ]
    }
   ],
   "source": [
    "Y1_pred = lr.predict(X1)\n",
    "Y1_pred[Y1_pred<0]=0\n",
    "print mape(Y1, Y1_pred, slot1, dist1)"
   ]
  },
  {
   "cell_type": "code",
   "execution_count": 8,
   "metadata": {
    "collapsed": false
   },
   "outputs": [
    {
     "data": {
      "text/plain": [
       "0.4539818753545628"
      ]
     },
     "execution_count": 8,
     "metadata": {},
     "output_type": "execute_result"
    }
   ],
   "source": [
    "Y_pred = lr.predict(X)\n",
    "Y_pred[Y_pred<0]=0\n",
    "mape(Y, Y_pred, slot_train, dist_train)"
   ]
  },
  {
   "cell_type": "code",
   "execution_count": 24,
   "metadata": {
    "collapsed": false
   },
   "outputs": [
    {
     "data": {
      "text/plain": [
       "(10760,)"
      ]
     },
     "execution_count": 24,
     "metadata": {},
     "output_type": "execute_result"
    }
   ],
   "source": [
    "lr.coef_.shape"
   ]
  },
  {
   "cell_type": "code",
   "execution_count": 26,
   "metadata": {
    "collapsed": false
   },
   "outputs": [
    {
     "data": {
      "application/javascript": [
       "/* Put everything inside the global mpl namespace */\n",
       "window.mpl = {};\n",
       "\n",
       "mpl.get_websocket_type = function() {\n",
       "    if (typeof(WebSocket) !== 'undefined') {\n",
       "        return WebSocket;\n",
       "    } else if (typeof(MozWebSocket) !== 'undefined') {\n",
       "        return MozWebSocket;\n",
       "    } else {\n",
       "        alert('Your browser does not have WebSocket support.' +\n",
       "              'Please try Chrome, Safari or Firefox ≥ 6. ' +\n",
       "              'Firefox 4 and 5 are also supported but you ' +\n",
       "              'have to enable WebSockets in about:config.');\n",
       "    };\n",
       "}\n",
       "\n",
       "mpl.figure = function(figure_id, websocket, ondownload, parent_element) {\n",
       "    this.id = figure_id;\n",
       "\n",
       "    this.ws = websocket;\n",
       "\n",
       "    this.supports_binary = (this.ws.binaryType != undefined);\n",
       "\n",
       "    if (!this.supports_binary) {\n",
       "        var warnings = document.getElementById(\"mpl-warnings\");\n",
       "        if (warnings) {\n",
       "            warnings.style.display = 'block';\n",
       "            warnings.textContent = (\n",
       "                \"This browser does not support binary websocket messages. \" +\n",
       "                    \"Performance may be slow.\");\n",
       "        }\n",
       "    }\n",
       "\n",
       "    this.imageObj = new Image();\n",
       "\n",
       "    this.context = undefined;\n",
       "    this.message = undefined;\n",
       "    this.canvas = undefined;\n",
       "    this.rubberband_canvas = undefined;\n",
       "    this.rubberband_context = undefined;\n",
       "    this.format_dropdown = undefined;\n",
       "\n",
       "    this.image_mode = 'full';\n",
       "\n",
       "    this.root = $('<div/>');\n",
       "    this._root_extra_style(this.root)\n",
       "    this.root.attr('style', 'display: inline-block');\n",
       "\n",
       "    $(parent_element).append(this.root);\n",
       "\n",
       "    this._init_header(this);\n",
       "    this._init_canvas(this);\n",
       "    this._init_toolbar(this);\n",
       "\n",
       "    var fig = this;\n",
       "\n",
       "    this.waiting = false;\n",
       "\n",
       "    this.ws.onopen =  function () {\n",
       "            fig.send_message(\"supports_binary\", {value: fig.supports_binary});\n",
       "            fig.send_message(\"send_image_mode\", {});\n",
       "            fig.send_message(\"refresh\", {});\n",
       "        }\n",
       "\n",
       "    this.imageObj.onload = function() {\n",
       "            if (fig.image_mode == 'full') {\n",
       "                // Full images could contain transparency (where diff images\n",
       "                // almost always do), so we need to clear the canvas so that\n",
       "                // there is no ghosting.\n",
       "                fig.context.clearRect(0, 0, fig.canvas.width, fig.canvas.height);\n",
       "            }\n",
       "            fig.context.drawImage(fig.imageObj, 0, 0);\n",
       "        };\n",
       "\n",
       "    this.imageObj.onunload = function() {\n",
       "        this.ws.close();\n",
       "    }\n",
       "\n",
       "    this.ws.onmessage = this._make_on_message_function(this);\n",
       "\n",
       "    this.ondownload = ondownload;\n",
       "}\n",
       "\n",
       "mpl.figure.prototype._init_header = function() {\n",
       "    var titlebar = $(\n",
       "        '<div class=\"ui-dialog-titlebar ui-widget-header ui-corner-all ' +\n",
       "        'ui-helper-clearfix\"/>');\n",
       "    var titletext = $(\n",
       "        '<div class=\"ui-dialog-title\" style=\"width: 100%; ' +\n",
       "        'text-align: center; padding: 3px;\"/>');\n",
       "    titlebar.append(titletext)\n",
       "    this.root.append(titlebar);\n",
       "    this.header = titletext[0];\n",
       "}\n",
       "\n",
       "\n",
       "\n",
       "mpl.figure.prototype._canvas_extra_style = function(canvas_div) {\n",
       "\n",
       "}\n",
       "\n",
       "\n",
       "mpl.figure.prototype._root_extra_style = function(canvas_div) {\n",
       "\n",
       "}\n",
       "\n",
       "mpl.figure.prototype._init_canvas = function() {\n",
       "    var fig = this;\n",
       "\n",
       "    var canvas_div = $('<div/>');\n",
       "\n",
       "    canvas_div.attr('style', 'position: relative; clear: both; outline: 0');\n",
       "\n",
       "    function canvas_keyboard_event(event) {\n",
       "        return fig.key_event(event, event['data']);\n",
       "    }\n",
       "\n",
       "    canvas_div.keydown('key_press', canvas_keyboard_event);\n",
       "    canvas_div.keyup('key_release', canvas_keyboard_event);\n",
       "    this.canvas_div = canvas_div\n",
       "    this._canvas_extra_style(canvas_div)\n",
       "    this.root.append(canvas_div);\n",
       "\n",
       "    var canvas = $('<canvas/>');\n",
       "    canvas.addClass('mpl-canvas');\n",
       "    canvas.attr('style', \"left: 0; top: 0; z-index: 0; outline: 0\")\n",
       "\n",
       "    this.canvas = canvas[0];\n",
       "    this.context = canvas[0].getContext(\"2d\");\n",
       "\n",
       "    var rubberband = $('<canvas/>');\n",
       "    rubberband.attr('style', \"position: absolute; left: 0; top: 0; z-index: 1;\")\n",
       "\n",
       "    var pass_mouse_events = true;\n",
       "\n",
       "    canvas_div.resizable({\n",
       "        start: function(event, ui) {\n",
       "            pass_mouse_events = false;\n",
       "        },\n",
       "        resize: function(event, ui) {\n",
       "            fig.request_resize(ui.size.width, ui.size.height);\n",
       "        },\n",
       "        stop: function(event, ui) {\n",
       "            pass_mouse_events = true;\n",
       "            fig.request_resize(ui.size.width, ui.size.height);\n",
       "        },\n",
       "    });\n",
       "\n",
       "    function mouse_event_fn(event) {\n",
       "        if (pass_mouse_events)\n",
       "            return fig.mouse_event(event, event['data']);\n",
       "    }\n",
       "\n",
       "    rubberband.mousedown('button_press', mouse_event_fn);\n",
       "    rubberband.mouseup('button_release', mouse_event_fn);\n",
       "    // Throttle sequential mouse events to 1 every 20ms.\n",
       "    rubberband.mousemove('motion_notify', mouse_event_fn);\n",
       "\n",
       "    rubberband.mouseenter('figure_enter', mouse_event_fn);\n",
       "    rubberband.mouseleave('figure_leave', mouse_event_fn);\n",
       "\n",
       "    canvas_div.on(\"wheel\", function (event) {\n",
       "        event = event.originalEvent;\n",
       "        event['data'] = 'scroll'\n",
       "        if (event.deltaY < 0) {\n",
       "            event.step = 1;\n",
       "        } else {\n",
       "            event.step = -1;\n",
       "        }\n",
       "        mouse_event_fn(event);\n",
       "    });\n",
       "\n",
       "    canvas_div.append(canvas);\n",
       "    canvas_div.append(rubberband);\n",
       "\n",
       "    this.rubberband = rubberband;\n",
       "    this.rubberband_canvas = rubberband[0];\n",
       "    this.rubberband_context = rubberband[0].getContext(\"2d\");\n",
       "    this.rubberband_context.strokeStyle = \"#000000\";\n",
       "\n",
       "    this._resize_canvas = function(width, height) {\n",
       "        // Keep the size of the canvas, canvas container, and rubber band\n",
       "        // canvas in synch.\n",
       "        canvas_div.css('width', width)\n",
       "        canvas_div.css('height', height)\n",
       "\n",
       "        canvas.attr('width', width);\n",
       "        canvas.attr('height', height);\n",
       "\n",
       "        rubberband.attr('width', width);\n",
       "        rubberband.attr('height', height);\n",
       "    }\n",
       "\n",
       "    // Set the figure to an initial 600x600px, this will subsequently be updated\n",
       "    // upon first draw.\n",
       "    this._resize_canvas(600, 600);\n",
       "\n",
       "    // Disable right mouse context menu.\n",
       "    $(this.rubberband_canvas).bind(\"contextmenu\",function(e){\n",
       "        return false;\n",
       "    });\n",
       "\n",
       "    function set_focus () {\n",
       "        canvas.focus();\n",
       "        canvas_div.focus();\n",
       "    }\n",
       "\n",
       "    window.setTimeout(set_focus, 100);\n",
       "}\n",
       "\n",
       "mpl.figure.prototype._init_toolbar = function() {\n",
       "    var fig = this;\n",
       "\n",
       "    var nav_element = $('<div/>')\n",
       "    nav_element.attr('style', 'width: 100%');\n",
       "    this.root.append(nav_element);\n",
       "\n",
       "    // Define a callback function for later on.\n",
       "    function toolbar_event(event) {\n",
       "        return fig.toolbar_button_onclick(event['data']);\n",
       "    }\n",
       "    function toolbar_mouse_event(event) {\n",
       "        return fig.toolbar_button_onmouseover(event['data']);\n",
       "    }\n",
       "\n",
       "    for(var toolbar_ind in mpl.toolbar_items) {\n",
       "        var name = mpl.toolbar_items[toolbar_ind][0];\n",
       "        var tooltip = mpl.toolbar_items[toolbar_ind][1];\n",
       "        var image = mpl.toolbar_items[toolbar_ind][2];\n",
       "        var method_name = mpl.toolbar_items[toolbar_ind][3];\n",
       "\n",
       "        if (!name) {\n",
       "            // put a spacer in here.\n",
       "            continue;\n",
       "        }\n",
       "        var button = $('<button/>');\n",
       "        button.addClass('ui-button ui-widget ui-state-default ui-corner-all ' +\n",
       "                        'ui-button-icon-only');\n",
       "        button.attr('role', 'button');\n",
       "        button.attr('aria-disabled', 'false');\n",
       "        button.click(method_name, toolbar_event);\n",
       "        button.mouseover(tooltip, toolbar_mouse_event);\n",
       "\n",
       "        var icon_img = $('<span/>');\n",
       "        icon_img.addClass('ui-button-icon-primary ui-icon');\n",
       "        icon_img.addClass(image);\n",
       "        icon_img.addClass('ui-corner-all');\n",
       "\n",
       "        var tooltip_span = $('<span/>');\n",
       "        tooltip_span.addClass('ui-button-text');\n",
       "        tooltip_span.html(tooltip);\n",
       "\n",
       "        button.append(icon_img);\n",
       "        button.append(tooltip_span);\n",
       "\n",
       "        nav_element.append(button);\n",
       "    }\n",
       "\n",
       "    var fmt_picker_span = $('<span/>');\n",
       "\n",
       "    var fmt_picker = $('<select/>');\n",
       "    fmt_picker.addClass('mpl-toolbar-option ui-widget ui-widget-content');\n",
       "    fmt_picker_span.append(fmt_picker);\n",
       "    nav_element.append(fmt_picker_span);\n",
       "    this.format_dropdown = fmt_picker[0];\n",
       "\n",
       "    for (var ind in mpl.extensions) {\n",
       "        var fmt = mpl.extensions[ind];\n",
       "        var option = $(\n",
       "            '<option/>', {selected: fmt === mpl.default_extension}).html(fmt);\n",
       "        fmt_picker.append(option)\n",
       "    }\n",
       "\n",
       "    // Add hover states to the ui-buttons\n",
       "    $( \".ui-button\" ).hover(\n",
       "        function() { $(this).addClass(\"ui-state-hover\");},\n",
       "        function() { $(this).removeClass(\"ui-state-hover\");}\n",
       "    );\n",
       "\n",
       "    var status_bar = $('<span class=\"mpl-message\"/>');\n",
       "    nav_element.append(status_bar);\n",
       "    this.message = status_bar[0];\n",
       "}\n",
       "\n",
       "mpl.figure.prototype.request_resize = function(x_pixels, y_pixels) {\n",
       "    // Request matplotlib to resize the figure. Matplotlib will then trigger a resize in the client,\n",
       "    // which will in turn request a refresh of the image.\n",
       "    this.send_message('resize', {'width': x_pixels, 'height': y_pixels});\n",
       "}\n",
       "\n",
       "mpl.figure.prototype.send_message = function(type, properties) {\n",
       "    properties['type'] = type;\n",
       "    properties['figure_id'] = this.id;\n",
       "    this.ws.send(JSON.stringify(properties));\n",
       "}\n",
       "\n",
       "mpl.figure.prototype.send_draw_message = function() {\n",
       "    if (!this.waiting) {\n",
       "        this.waiting = true;\n",
       "        this.ws.send(JSON.stringify({type: \"draw\", figure_id: this.id}));\n",
       "    }\n",
       "}\n",
       "\n",
       "\n",
       "mpl.figure.prototype.handle_save = function(fig, msg) {\n",
       "    var format_dropdown = fig.format_dropdown;\n",
       "    var format = format_dropdown.options[format_dropdown.selectedIndex].value;\n",
       "    fig.ondownload(fig, format);\n",
       "}\n",
       "\n",
       "\n",
       "mpl.figure.prototype.handle_resize = function(fig, msg) {\n",
       "    var size = msg['size'];\n",
       "    if (size[0] != fig.canvas.width || size[1] != fig.canvas.height) {\n",
       "        fig._resize_canvas(size[0], size[1]);\n",
       "        fig.send_message(\"refresh\", {});\n",
       "    };\n",
       "}\n",
       "\n",
       "mpl.figure.prototype.handle_rubberband = function(fig, msg) {\n",
       "    var x0 = msg['x0'];\n",
       "    var y0 = fig.canvas.height - msg['y0'];\n",
       "    var x1 = msg['x1'];\n",
       "    var y1 = fig.canvas.height - msg['y1'];\n",
       "    x0 = Math.floor(x0) + 0.5;\n",
       "    y0 = Math.floor(y0) + 0.5;\n",
       "    x1 = Math.floor(x1) + 0.5;\n",
       "    y1 = Math.floor(y1) + 0.5;\n",
       "    var min_x = Math.min(x0, x1);\n",
       "    var min_y = Math.min(y0, y1);\n",
       "    var width = Math.abs(x1 - x0);\n",
       "    var height = Math.abs(y1 - y0);\n",
       "\n",
       "    fig.rubberband_context.clearRect(\n",
       "        0, 0, fig.canvas.width, fig.canvas.height);\n",
       "\n",
       "    fig.rubberband_context.strokeRect(min_x, min_y, width, height);\n",
       "}\n",
       "\n",
       "mpl.figure.prototype.handle_figure_label = function(fig, msg) {\n",
       "    // Updates the figure title.\n",
       "    fig.header.textContent = msg['label'];\n",
       "}\n",
       "\n",
       "mpl.figure.prototype.handle_cursor = function(fig, msg) {\n",
       "    var cursor = msg['cursor'];\n",
       "    switch(cursor)\n",
       "    {\n",
       "    case 0:\n",
       "        cursor = 'pointer';\n",
       "        break;\n",
       "    case 1:\n",
       "        cursor = 'default';\n",
       "        break;\n",
       "    case 2:\n",
       "        cursor = 'crosshair';\n",
       "        break;\n",
       "    case 3:\n",
       "        cursor = 'move';\n",
       "        break;\n",
       "    }\n",
       "    fig.rubberband_canvas.style.cursor = cursor;\n",
       "}\n",
       "\n",
       "mpl.figure.prototype.handle_message = function(fig, msg) {\n",
       "    fig.message.textContent = msg['message'];\n",
       "}\n",
       "\n",
       "mpl.figure.prototype.handle_draw = function(fig, msg) {\n",
       "    // Request the server to send over a new figure.\n",
       "    fig.send_draw_message();\n",
       "}\n",
       "\n",
       "mpl.figure.prototype.handle_image_mode = function(fig, msg) {\n",
       "    fig.image_mode = msg['mode'];\n",
       "}\n",
       "\n",
       "mpl.figure.prototype.updated_canvas_event = function() {\n",
       "    // Called whenever the canvas gets updated.\n",
       "    this.send_message(\"ack\", {});\n",
       "}\n",
       "\n",
       "// A function to construct a web socket function for onmessage handling.\n",
       "// Called in the figure constructor.\n",
       "mpl.figure.prototype._make_on_message_function = function(fig) {\n",
       "    return function socket_on_message(evt) {\n",
       "        if (evt.data instanceof Blob) {\n",
       "            /* FIXME: We get \"Resource interpreted as Image but\n",
       "             * transferred with MIME type text/plain:\" errors on\n",
       "             * Chrome.  But how to set the MIME type?  It doesn't seem\n",
       "             * to be part of the websocket stream */\n",
       "            evt.data.type = \"image/png\";\n",
       "\n",
       "            /* Free the memory for the previous frames */\n",
       "            if (fig.imageObj.src) {\n",
       "                (window.URL || window.webkitURL).revokeObjectURL(\n",
       "                    fig.imageObj.src);\n",
       "            }\n",
       "\n",
       "            fig.imageObj.src = (window.URL || window.webkitURL).createObjectURL(\n",
       "                evt.data);\n",
       "            fig.updated_canvas_event();\n",
       "            fig.waiting = false;\n",
       "            return;\n",
       "        }\n",
       "        else if (typeof evt.data === 'string' && evt.data.slice(0, 21) == \"data:image/png;base64\") {\n",
       "            fig.imageObj.src = evt.data;\n",
       "            fig.updated_canvas_event();\n",
       "            fig.waiting = false;\n",
       "            return;\n",
       "        }\n",
       "\n",
       "        var msg = JSON.parse(evt.data);\n",
       "        var msg_type = msg['type'];\n",
       "\n",
       "        // Call the  \"handle_{type}\" callback, which takes\n",
       "        // the figure and JSON message as its only arguments.\n",
       "        try {\n",
       "            var callback = fig[\"handle_\" + msg_type];\n",
       "        } catch (e) {\n",
       "            console.log(\"No handler for the '\" + msg_type + \"' message type: \", msg);\n",
       "            return;\n",
       "        }\n",
       "\n",
       "        if (callback) {\n",
       "            try {\n",
       "                // console.log(\"Handling '\" + msg_type + \"' message: \", msg);\n",
       "                callback(fig, msg);\n",
       "            } catch (e) {\n",
       "                console.log(\"Exception inside the 'handler_\" + msg_type + \"' callback:\", e, e.stack, msg);\n",
       "            }\n",
       "        }\n",
       "    };\n",
       "}\n",
       "\n",
       "// from http://stackoverflow.com/questions/1114465/getting-mouse-location-in-canvas\n",
       "mpl.findpos = function(e) {\n",
       "    //this section is from http://www.quirksmode.org/js/events_properties.html\n",
       "    var targ;\n",
       "    if (!e)\n",
       "        e = window.event;\n",
       "    if (e.target)\n",
       "        targ = e.target;\n",
       "    else if (e.srcElement)\n",
       "        targ = e.srcElement;\n",
       "    if (targ.nodeType == 3) // defeat Safari bug\n",
       "        targ = targ.parentNode;\n",
       "\n",
       "    // jQuery normalizes the pageX and pageY\n",
       "    // pageX,Y are the mouse positions relative to the document\n",
       "    // offset() returns the position of the element relative to the document\n",
       "    var x = e.pageX - $(targ).offset().left;\n",
       "    var y = e.pageY - $(targ).offset().top;\n",
       "\n",
       "    return {\"x\": x, \"y\": y};\n",
       "};\n",
       "\n",
       "/*\n",
       " * return a copy of an object with only non-object keys\n",
       " * we need this to avoid circular references\n",
       " * http://stackoverflow.com/a/24161582/3208463\n",
       " */\n",
       "function simpleKeys (original) {\n",
       "  return Object.keys(original).reduce(function (obj, key) {\n",
       "    if (typeof original[key] !== 'object')\n",
       "        obj[key] = original[key]\n",
       "    return obj;\n",
       "  }, {});\n",
       "}\n",
       "\n",
       "mpl.figure.prototype.mouse_event = function(event, name) {\n",
       "    var canvas_pos = mpl.findpos(event)\n",
       "\n",
       "    if (name === 'button_press')\n",
       "    {\n",
       "        this.canvas.focus();\n",
       "        this.canvas_div.focus();\n",
       "    }\n",
       "\n",
       "    var x = canvas_pos.x;\n",
       "    var y = canvas_pos.y;\n",
       "\n",
       "    this.send_message(name, {x: x, y: y, button: event.button,\n",
       "                             step: event.step,\n",
       "                             guiEvent: simpleKeys(event)});\n",
       "\n",
       "    /* This prevents the web browser from automatically changing to\n",
       "     * the text insertion cursor when the button is pressed.  We want\n",
       "     * to control all of the cursor setting manually through the\n",
       "     * 'cursor' event from matplotlib */\n",
       "    event.preventDefault();\n",
       "    return false;\n",
       "}\n",
       "\n",
       "mpl.figure.prototype._key_event_extra = function(event, name) {\n",
       "    // Handle any extra behaviour associated with a key event\n",
       "}\n",
       "\n",
       "mpl.figure.prototype.key_event = function(event, name) {\n",
       "\n",
       "    // Prevent repeat events\n",
       "    if (name == 'key_press')\n",
       "    {\n",
       "        if (event.which === this._key)\n",
       "            return;\n",
       "        else\n",
       "            this._key = event.which;\n",
       "    }\n",
       "    if (name == 'key_release')\n",
       "        this._key = null;\n",
       "\n",
       "    var value = '';\n",
       "    if (event.ctrlKey && event.which != 17)\n",
       "        value += \"ctrl+\";\n",
       "    if (event.altKey && event.which != 18)\n",
       "        value += \"alt+\";\n",
       "    if (event.shiftKey && event.which != 16)\n",
       "        value += \"shift+\";\n",
       "\n",
       "    value += 'k';\n",
       "    value += event.which.toString();\n",
       "\n",
       "    this._key_event_extra(event, name);\n",
       "\n",
       "    this.send_message(name, {key: value,\n",
       "                             guiEvent: simpleKeys(event)});\n",
       "    return false;\n",
       "}\n",
       "\n",
       "mpl.figure.prototype.toolbar_button_onclick = function(name) {\n",
       "    if (name == 'download') {\n",
       "        this.handle_save(this, null);\n",
       "    } else {\n",
       "        this.send_message(\"toolbar_button\", {name: name});\n",
       "    }\n",
       "};\n",
       "\n",
       "mpl.figure.prototype.toolbar_button_onmouseover = function(tooltip) {\n",
       "    this.message.textContent = tooltip;\n",
       "};\n",
       "mpl.toolbar_items = [[\"Home\", \"Reset original view\", \"fa fa-home icon-home\", \"home\"], [\"Back\", \"Back to  previous view\", \"fa fa-arrow-left icon-arrow-left\", \"back\"], [\"Forward\", \"Forward to next view\", \"fa fa-arrow-right icon-arrow-right\", \"forward\"], [\"\", \"\", \"\", \"\"], [\"Pan\", \"Pan axes with left mouse, zoom with right\", \"fa fa-arrows icon-move\", \"pan\"], [\"Zoom\", \"Zoom to rectangle\", \"fa fa-square-o icon-check-empty\", \"zoom\"], [\"\", \"\", \"\", \"\"], [\"Download\", \"Download plot\", \"fa fa-floppy-o icon-save\", \"download\"]];\n",
       "\n",
       "mpl.extensions = [\"eps\", \"pdf\", \"png\", \"ps\", \"raw\", \"svg\"];\n",
       "\n",
       "mpl.default_extension = \"png\";var comm_websocket_adapter = function(comm) {\n",
       "    // Create a \"websocket\"-like object which calls the given IPython comm\n",
       "    // object with the appropriate methods. Currently this is a non binary\n",
       "    // socket, so there is still some room for performance tuning.\n",
       "    var ws = {};\n",
       "\n",
       "    ws.close = function() {\n",
       "        comm.close()\n",
       "    };\n",
       "    ws.send = function(m) {\n",
       "        //console.log('sending', m);\n",
       "        comm.send(m);\n",
       "    };\n",
       "    // Register the callback with on_msg.\n",
       "    comm.on_msg(function(msg) {\n",
       "        //console.log('receiving', msg['content']['data'], msg);\n",
       "        // Pass the mpl event to the overriden (by mpl) onmessage function.\n",
       "        ws.onmessage(msg['content']['data'])\n",
       "    });\n",
       "    return ws;\n",
       "}\n",
       "\n",
       "mpl.mpl_figure_comm = function(comm, msg) {\n",
       "    // This is the function which gets called when the mpl process\n",
       "    // starts-up an IPython Comm through the \"matplotlib\" channel.\n",
       "\n",
       "    var id = msg.content.data.id;\n",
       "    // Get hold of the div created by the display call when the Comm\n",
       "    // socket was opened in Python.\n",
       "    var element = $(\"#\" + id);\n",
       "    var ws_proxy = comm_websocket_adapter(comm)\n",
       "\n",
       "    function ondownload(figure, format) {\n",
       "        window.open(figure.imageObj.src);\n",
       "    }\n",
       "\n",
       "    var fig = new mpl.figure(id, ws_proxy,\n",
       "                           ondownload,\n",
       "                           element.get(0));\n",
       "\n",
       "    // Call onopen now - mpl needs it, as it is assuming we've passed it a real\n",
       "    // web socket which is closed, not our websocket->open comm proxy.\n",
       "    ws_proxy.onopen();\n",
       "\n",
       "    fig.parent_element = element.get(0);\n",
       "    fig.cell_info = mpl.find_output_cell(\"<div id='\" + id + \"'></div>\");\n",
       "    if (!fig.cell_info) {\n",
       "        console.error(\"Failed to find cell for figure\", id, fig);\n",
       "        return;\n",
       "    }\n",
       "\n",
       "    var output_index = fig.cell_info[2]\n",
       "    var cell = fig.cell_info[0];\n",
       "\n",
       "};\n",
       "\n",
       "mpl.figure.prototype.handle_close = function(fig, msg) {\n",
       "    fig.root.unbind('remove')\n",
       "\n",
       "    // Update the output cell to use the data from the current canvas.\n",
       "    fig.push_to_output();\n",
       "    var dataURL = fig.canvas.toDataURL();\n",
       "    // Re-enable the keyboard manager in IPython - without this line, in FF,\n",
       "    // the notebook keyboard shortcuts fail.\n",
       "    IPython.keyboard_manager.enable()\n",
       "    $(fig.parent_element).html('<img src=\"' + dataURL + '\">');\n",
       "    fig.close_ws(fig, msg);\n",
       "}\n",
       "\n",
       "mpl.figure.prototype.close_ws = function(fig, msg){\n",
       "    fig.send_message('closing', msg);\n",
       "    // fig.ws.close()\n",
       "}\n",
       "\n",
       "mpl.figure.prototype.push_to_output = function(remove_interactive) {\n",
       "    // Turn the data on the canvas into data in the output cell.\n",
       "    var dataURL = this.canvas.toDataURL();\n",
       "    this.cell_info[1]['text/html'] = '<img src=\"' + dataURL + '\">';\n",
       "}\n",
       "\n",
       "mpl.figure.prototype.updated_canvas_event = function() {\n",
       "    // Tell IPython that the notebook contents must change.\n",
       "    IPython.notebook.set_dirty(true);\n",
       "    this.send_message(\"ack\", {});\n",
       "    var fig = this;\n",
       "    // Wait a second, then push the new image to the DOM so\n",
       "    // that it is saved nicely (might be nice to debounce this).\n",
       "    setTimeout(function () { fig.push_to_output() }, 1000);\n",
       "}\n",
       "\n",
       "mpl.figure.prototype._init_toolbar = function() {\n",
       "    var fig = this;\n",
       "\n",
       "    var nav_element = $('<div/>')\n",
       "    nav_element.attr('style', 'width: 100%');\n",
       "    this.root.append(nav_element);\n",
       "\n",
       "    // Define a callback function for later on.\n",
       "    function toolbar_event(event) {\n",
       "        return fig.toolbar_button_onclick(event['data']);\n",
       "    }\n",
       "    function toolbar_mouse_event(event) {\n",
       "        return fig.toolbar_button_onmouseover(event['data']);\n",
       "    }\n",
       "\n",
       "    for(var toolbar_ind in mpl.toolbar_items){\n",
       "        var name = mpl.toolbar_items[toolbar_ind][0];\n",
       "        var tooltip = mpl.toolbar_items[toolbar_ind][1];\n",
       "        var image = mpl.toolbar_items[toolbar_ind][2];\n",
       "        var method_name = mpl.toolbar_items[toolbar_ind][3];\n",
       "\n",
       "        if (!name) { continue; };\n",
       "\n",
       "        var button = $('<button class=\"btn btn-default\" href=\"#\" title=\"' + name + '\"><i class=\"fa ' + image + ' fa-lg\"></i></button>');\n",
       "        button.click(method_name, toolbar_event);\n",
       "        button.mouseover(tooltip, toolbar_mouse_event);\n",
       "        nav_element.append(button);\n",
       "    }\n",
       "\n",
       "    // Add the status bar.\n",
       "    var status_bar = $('<span class=\"mpl-message\" style=\"text-align:right; float: right;\"/>');\n",
       "    nav_element.append(status_bar);\n",
       "    this.message = status_bar[0];\n",
       "\n",
       "    // Add the close button to the window.\n",
       "    var buttongrp = $('<div class=\"btn-group inline pull-right\"></div>');\n",
       "    var button = $('<button class=\"btn btn-mini btn-primary\" href=\"#\" title=\"Stop Interaction\"><i class=\"fa fa-power-off icon-remove icon-large\"></i></button>');\n",
       "    button.click(function (evt) { fig.handle_close(fig, {}); } );\n",
       "    button.mouseover('Stop Interaction', toolbar_mouse_event);\n",
       "    buttongrp.append(button);\n",
       "    var titlebar = this.root.find($('.ui-dialog-titlebar'));\n",
       "    titlebar.prepend(buttongrp);\n",
       "}\n",
       "\n",
       "mpl.figure.prototype._root_extra_style = function(el){\n",
       "    var fig = this\n",
       "    el.on(\"remove\", function(){\n",
       "\tfig.close_ws(fig, {});\n",
       "    });\n",
       "}\n",
       "\n",
       "mpl.figure.prototype._canvas_extra_style = function(el){\n",
       "    // this is important to make the div 'focusable\n",
       "    el.attr('tabindex', 0)\n",
       "    // reach out to IPython and tell the keyboard manager to turn it's self\n",
       "    // off when our div gets focus\n",
       "\n",
       "    // location in version 3\n",
       "    if (IPython.notebook.keyboard_manager) {\n",
       "        IPython.notebook.keyboard_manager.register_events(el);\n",
       "    }\n",
       "    else {\n",
       "        // location in version 2\n",
       "        IPython.keyboard_manager.register_events(el);\n",
       "    }\n",
       "\n",
       "}\n",
       "\n",
       "mpl.figure.prototype._key_event_extra = function(event, name) {\n",
       "    var manager = IPython.notebook.keyboard_manager;\n",
       "    if (!manager)\n",
       "        manager = IPython.keyboard_manager;\n",
       "\n",
       "    // Check for shift+enter\n",
       "    if (event.shiftKey && event.which == 13) {\n",
       "        this.canvas_div.blur();\n",
       "        event.shiftKey = false;\n",
       "        // Send a \"J\" for go to next cell\n",
       "        event.which = 74;\n",
       "        event.keyCode = 74;\n",
       "        manager.command_mode();\n",
       "        manager.handle_keydown(event);\n",
       "    }\n",
       "}\n",
       "\n",
       "mpl.figure.prototype.handle_save = function(fig, msg) {\n",
       "    fig.ondownload(fig, null);\n",
       "}\n",
       "\n",
       "\n",
       "mpl.find_output_cell = function(html_output) {\n",
       "    // Return the cell and output element which can be found *uniquely* in the notebook.\n",
       "    // Note - this is a bit hacky, but it is done because the \"notebook_saving.Notebook\"\n",
       "    // IPython event is triggered only after the cells have been serialised, which for\n",
       "    // our purposes (turning an active figure into a static one), is too late.\n",
       "    var cells = IPython.notebook.get_cells();\n",
       "    var ncells = cells.length;\n",
       "    for (var i=0; i<ncells; i++) {\n",
       "        var cell = cells[i];\n",
       "        if (cell.cell_type === 'code'){\n",
       "            for (var j=0; j<cell.output_area.outputs.length; j++) {\n",
       "                var data = cell.output_area.outputs[j];\n",
       "                if (data.data) {\n",
       "                    // IPython >= 3 moved mimebundle to data attribute of output\n",
       "                    data = data.data;\n",
       "                }\n",
       "                if (data['text/html'] == html_output) {\n",
       "                    return [cell, data, j];\n",
       "                }\n",
       "            }\n",
       "        }\n",
       "    }\n",
       "}\n",
       "\n",
       "// Register the function which deals with the matplotlib target/channel.\n",
       "// The kernel may be null if the page has been refreshed.\n",
       "if (IPython.notebook.kernel != null) {\n",
       "    IPython.notebook.kernel.comm_manager.register_target('matplotlib', mpl.mpl_figure_comm);\n",
       "}\n"
      ],
      "text/plain": [
       "<IPython.core.display.Javascript object>"
      ]
     },
     "metadata": {},
     "output_type": "display_data"
    },
    {
     "data": {
      "text/html": [
       "<img src=\"data:image/png;base64,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\">"
      ],
      "text/plain": [
       "<IPython.core.display.HTML object>"
      ]
     },
     "metadata": {},
     "output_type": "display_data"
    }
   ],
   "source": [
    "%matplotlib notebook\n",
    "import matplotlib.pyplot as plt\n",
    "\n",
    "plt.plot(lr.coef_[:])\n",
    "plt.show()"
   ]
  },
  {
   "cell_type": "code",
   "execution_count": 5,
   "metadata": {
    "collapsed": false
   },
   "outputs": [
    {
     "data": {
      "text/plain": [
       "array([[    0,   249,   297,  1881,  2385,  2889,     0],\n",
       "       [    0,     0,  4065,  4197,  4239,  4281,     0],\n",
       "       [    0,     0,     0,  4379,  5765,  7151, 10385],\n",
       "       [    0,     0,     0,     0, 14741,     0,     0],\n",
       "       [    0,     0,     0,     0,     0,     0,     0],\n",
       "       [    0,     0,     0,     0,     0,     0,     0],\n",
       "       [    0,     0,     0,     0,     0,     0,     0]])"
      ]
     },
     "execution_count": 5,
     "metadata": {},
     "output_type": "execute_result"
    }
   ],
   "source": [
    "ext"
   ]
  },
  {
   "cell_type": "code",
   "execution_count": 13,
   "metadata": {
    "collapsed": false
   },
   "outputs": [
    {
     "data": {
      "text/plain": [
       "(72274, 10760)"
      ]
     },
     "execution_count": 13,
     "metadata": {},
     "output_type": "execute_result"
    }
   ],
   "source": [
    "X.shape"
   ]
  },
  {
   "cell_type": "code",
   "execution_count": 8,
   "metadata": {
    "collapsed": false
   },
   "outputs": [
    {
     "data": {
      "text/plain": [
       "array([ 2.15119564,  2.29900194,  2.0995028 , ...,  1.031052  ,\n",
       "        0.83814329,  0.80688659])"
      ]
     },
     "execution_count": 8,
     "metadata": {},
     "output_type": "execute_result"
    }
   ],
   "source": [
    "Y_pred"
   ]
  },
  {
   "cell_type": "code",
   "execution_count": 138,
   "metadata": {
    "collapsed": false
   },
   "outputs": [
    {
     "data": {
      "text/plain": [
       "RandomForestRegressor(bootstrap=True, criterion='mse', max_depth=None,\n",
       "           max_features=0.5, max_leaf_nodes=None, min_samples_leaf=24,\n",
       "           min_samples_split=2, min_weight_fraction_leaf=0.0,\n",
       "           n_estimators=50, n_jobs=-1, oob_score=False, random_state=None,\n",
       "           verbose=0, warm_start=False)"
      ]
     },
     "execution_count": 138,
     "metadata": {},
     "output_type": "execute_result"
    }
   ],
   "source": [
    "from sklearn.ensemble import RandomForestRegressor\n",
    "\n",
    "rf = RandomForestRegressor(n_estimators=50, max_features=0.5, min_samples_leaf=24, n_jobs=-1)\n",
    "rf.fit(X, Y, weight)"
   ]
  },
  {
   "cell_type": "code",
   "execution_count": 139,
   "metadata": {
    "collapsed": false
   },
   "outputs": [
    {
     "name": "stdout",
     "output_type": "stream",
     "text": [
      "0.474481374663\n"
     ]
    }
   ],
   "source": [
    "Y1_pred = rf.predict(X1)\n",
    "Y1_pred[Y1_pred<0]=0\n",
    "print mape(Y1, Y1_pred, slot1, dist1)"
   ]
  },
  {
   "cell_type": "code",
   "execution_count": 140,
   "metadata": {
    "collapsed": false
   },
   "outputs": [
    {
     "data": {
      "text/plain": [
       "0.45499976243507589"
      ]
     },
     "execution_count": 140,
     "metadata": {},
     "output_type": "execute_result"
    }
   ],
   "source": [
    "Y_pred = rf.predict(X)\n",
    "Y_pred[Y_pred<0]=0\n",
    "mape(Y, Y_pred, slot_train, dist_train)"
   ]
  },
  {
   "cell_type": "code",
   "execution_count": 20,
   "metadata": {
    "collapsed": false
   },
   "outputs": [
    {
     "name": "stdout",
     "output_type": "stream",
     "text": [
      "0.472960543559\n"
     ]
    }
   ],
   "source": [
    "Y1_pred = (lr.predict(X1)+rf.predict(X1))/2\n",
    "Y2_pred = (lr.predict(X2)+rf.predict(X2))/2\n",
    "Y1_pred[Y1_pred<0]=0\n",
    "Y2_pred[Y2_pred<0]=0\n",
    "print (mape(Y1, Y1_pred, slot1, dist1)+mape(Y2, Y2_pred, slot2, dist2))/2"
   ]
  },
  {
   "cell_type": "markdown",
   "metadata": {},
   "source": [
    "| Method description | Training set | Validation set |\n",
    "|---|---|---|\n",
    "| Rigle, alpha=50, weighted. 144slot+24h+weekday+district+pre7dstatus+weather | 0.5123620179427425 | 0.517201372498 |\n",
    "| Rigle, alpha=50, weighted. 144slot+24h+weekday+district+pre7dstatus+pre1slotstatus+weather | 0.46628984499361303 | 0.486138200681 |\n",
    "| RF, tree=50, min_samples_leaf=16, weighted. 144slot+24h+weekday+district+pre7dstatus+pre1slotstatus+weather | 0.44512307730615425 | 0.483293242609 |\n",
    "| RF, tree=50, min_samples_leaf=20, weighted. 144slot+24h+weekday+district+pre7dstatus+pre1slotstatus+1storderstatus | 0.45543519259309279 | 0.48353572376 |\n",
    "| Rigle, alpha=40, weighted. 144slot+24h+weekday+district+pre7dstatus+pre1slotstatus | 0.46387521799056297 | 0.480073979685 |\n",
    "| Rigle, alpha=30, weighted. 144slot+24h+weekday+district+pre7dstatus+pre1slotstatus+combinedpre2slotstatus | 0.44594466350408518 | 0.47709077919 |\n",
    "| Rigle, alpha=30, weighted. 24h+weekday+district+pre7dstatus+pre1slotstatus+combinedpre2slotstatus | 0.45392775229804522 | 0.465871624974 |"
   ]
  },
  {
   "cell_type": "code",
   "execution_count": 1,
   "metadata": {
    "collapsed": false
   },
   "outputs": [
    {
     "ename": "TypeError",
     "evalue": "getdata() takes at least 2 arguments (1 given)",
     "output_type": "error",
     "traceback": [
      "\u001b[1;31m---------------------------------------------------------------------------\u001b[0m",
      "\u001b[1;31mTypeError\u001b[0m                                 Traceback (most recent call last)",
      "\u001b[1;32m<ipython-input-1-7319313e68d2>\u001b[0m in \u001b[0;36m<module>\u001b[1;34m()\u001b[0m\n\u001b[0;32m      1\u001b[0m \u001b[1;32mfrom\u001b[0m \u001b[0mevaluation\u001b[0m \u001b[1;32mimport\u001b[0m \u001b[1;33m*\u001b[0m\u001b[1;33m\u001b[0m\u001b[0m\n\u001b[0;32m      2\u001b[0m \u001b[1;33m\u001b[0m\u001b[0m\n\u001b[1;32m----> 3\u001b[1;33m \u001b[0mX\u001b[0m\u001b[1;33m,\u001b[0m \u001b[0mY\u001b[0m\u001b[1;33m,\u001b[0m \u001b[0mslot_train\u001b[0m\u001b[1;33m,\u001b[0m \u001b[0mdist_train\u001b[0m \u001b[1;33m=\u001b[0m \u001b[0mgetdata\u001b[0m\u001b[1;33m(\u001b[0m\u001b[1;34m'training_data_total'\u001b[0m\u001b[1;33m)\u001b[0m\u001b[1;33m\u001b[0m\u001b[0m\n\u001b[0m",
      "\u001b[1;31mTypeError\u001b[0m: getdata() takes at least 2 arguments (1 given)"
     ]
    }
   ],
   "source": [
    "from evaluation import *\n",
    "\n",
    "X, Y, slot_train, dist_train = getdata('training_data_total')"
   ]
  },
  {
   "cell_type": "code",
   "execution_count": 2,
   "metadata": {
    "collapsed": false
   },
   "outputs": [],
   "source": [
    "X1, Y1, slot1, dist1 = getdata(\"validation_data\")"
   ]
  },
  {
   "cell_type": "code",
   "execution_count": 3,
   "metadata": {
    "collapsed": false
   },
   "outputs": [],
   "source": [
    "import xgboost as xgb\n",
    "\n",
    "dtrain = xgb.DMatrix(X, label=Y, weight=weight)\n",
    "dvalid = xgb.DMatrix(X1)"
   ]
  },
  {
   "cell_type": "code",
   "execution_count": 248,
   "metadata": {
    "collapsed": false
   },
   "outputs": [],
   "source": [
    "gbdr = xgb.train({\"max_depth\":5,\"objective\":\"reg:linear\", \"eval_metric\":\"mae\", \n",
    "                  \"min_child_weight\":5, 'alpha':5, 'gamma':10, 'subsample':0.8}, dtrain, num_boost_round=3)"
   ]
  },
  {
   "cell_type": "code",
   "execution_count": 249,
   "metadata": {
    "collapsed": false
   },
   "outputs": [
    {
     "name": "stdout",
     "output_type": "stream",
     "text": [
      "0.38390488155\n"
     ]
    }
   ],
   "source": [
    "Y1_pred = gbdr.predict(dvalid)\n",
    "Y1_pred[Y1_pred<0]=0\n",
    "print mape(Y1, Y1_pred, slot1, dist1)"
   ]
  },
  {
   "cell_type": "code",
   "execution_count": 250,
   "metadata": {
    "collapsed": false
   },
   "outputs": [
    {
     "data": {
      "text/plain": [
       "0.36640954123432606"
      ]
     },
     "execution_count": 250,
     "metadata": {},
     "output_type": "execute_result"
    }
   ],
   "source": [
    "Y_pred = gbdr.predict(dtrain)\n",
    "Y_pred[Y_pred<0]=0\n",
    "mape(Y, Y_pred, slot_train, dist_train)"
   ]
  },
  {
   "cell_type": "code",
   "execution_count": 42,
   "metadata": {
    "collapsed": false
   },
   "outputs": [],
   "source": [
    "lr = xgb.train({\"booster\":\"gblinear\",'alpha':5, 'lambda':5}, dtrain, num_boost_round=3)"
   ]
  },
  {
   "cell_type": "code",
   "execution_count": 24,
   "metadata": {
    "collapsed": true
   },
   "outputs": [],
   "source": [
    "lr.save_model(\"lr_train.model\")"
   ]
  },
  {
   "cell_type": "code",
   "execution_count": 26,
   "metadata": {
    "collapsed": false
   },
   "outputs": [],
   "source": [
    "lr.dump_model(\"lr_train.txt\", 'lr_fmap.txt')"
   ]
  },
  {
   "cell_type": "code",
   "execution_count": 27,
   "metadata": {
    "collapsed": true
   },
   "outputs": [],
   "source": [
    "lr2 = xgb.Booster()"
   ]
  },
  {
   "cell_type": "code",
   "execution_count": 28,
   "metadata": {
    "collapsed": true
   },
   "outputs": [],
   "source": [
    "lr2.load_model(\"lr_train.model\")"
   ]
  },
  {
   "cell_type": "code",
   "execution_count": 29,
   "metadata": {
    "collapsed": false
   },
   "outputs": [
    {
     "name": "stdout",
     "output_type": "stream",
     "text": [
      "0.466030031745\n"
     ]
    }
   ],
   "source": [
    "Y1_pred = lr2.predict(dvalid)\n",
    "Y1_pred[Y1_pred<0]=0\n",
    "print mape(Y1, Y1_pred, slot1, dist1)"
   ]
  },
  {
   "cell_type": "code",
   "execution_count": 43,
   "metadata": {
    "collapsed": false
   },
   "outputs": [
    {
     "data": {
      "text/plain": [
       "0.44598985192991603"
      ]
     },
     "execution_count": 43,
     "metadata": {},
     "output_type": "execute_result"
    }
   ],
   "source": [
    "Y_pred = lr.predict(dtrain)\n",
    "Y_pred[Y_pred<0]=0\n",
    "mape(Y, Y_pred, slot_train, dist_train)"
   ]
  },
  {
   "cell_type": "code",
   "execution_count": 200,
   "metadata": {
    "collapsed": false
   },
   "outputs": [
    {
     "name": "stdout",
     "output_type": "stream",
     "text": [
      "0.418221556596\n"
     ]
    }
   ],
   "source": [
    "Y1_pred = (lr.predict(dvalid)+gbdr.predict(dvalid))/2\n",
    "Y1_pred[Y1_pred<0]=0\n",
    "print mape(Y1, Y1_pred, slot1, dist1)"
   ]
  },
  {
   "cell_type": "code",
   "execution_count": 110,
   "metadata": {
    "collapsed": false
   },
   "outputs": [
    {
     "data": {
      "text/plain": [
       "array([ 2.57892609,  1.85698223,  4.01777363, ...,  1.19223928,\n",
       "        1.12598944,  1.12238371], dtype=float32)"
      ]
     },
     "execution_count": 110,
     "metadata": {},
     "output_type": "execute_result"
    }
   ],
   "source": [
    "Y1_pred"
   ]
  },
  {
   "cell_type": "markdown",
   "metadata": {},
   "source": [
    "| Method description | Training set | Validation set |\n",
    "|---|---|---|\n",
    "| xgb.gbrt, depth=50, min_child_weight=16, alpha=5, num_boost_round=3, 24h+weekday+66dist+pre7daystatus+pre1slotstatus+combinedpre2slotsstatus, all cross | 0.38299178471263517 | 0.393472164499 |\n",
    "| xgb.gbrt, depth=50, min_child_weight=1, gamma=12, alpha=5, num_boost_round=3, 24h+weekday+66dist+pre7daystatus+pre1slotstatus+combinedpre2slotsstatus+lrpred, partial cross| 0.37248708570001299 | 0.389232255639 |"
   ]
  },
  {
   "cell_type": "code",
   "execution_count": 31,
   "metadata": {
    "collapsed": false
   },
   "outputs": [
    {
     "data": {
      "text/plain": [
       "array([ 1.82834542,  1.9660418 ,  2.42859507, ...,  1.13123298,\n",
       "        1.01101041,  1.00637913], dtype=float32)"
      ]
     },
     "execution_count": 31,
     "metadata": {},
     "output_type": "execute_result"
    }
   ],
   "source": [
    "Y1_pred"
   ]
  },
  {
   "cell_type": "code",
   "execution_count": 48,
   "metadata": {
    "collapsed": true
   },
   "outputs": [],
   "source": [
    "with open(\"lr_test_rst\", \"w\") as fw:\n",
    "    for y in Y_test:\n",
    "        fw.write(\"{0}\\n\".format(y))"
   ]
  },
  {
   "cell_type": "code",
   "execution_count": 33,
   "metadata": {
    "collapsed": true
   },
   "outputs": [],
   "source": [
    "with open(\"lr_valid_rst\", \"w\") as fw:\n",
    "    for y in Y1_pred:\n",
    "        fw.write(\"{0}\\n\".format(y))"
   ]
  },
  {
   "cell_type": "code",
   "execution_count": 45,
   "metadata": {
    "collapsed": true
   },
   "outputs": [],
   "source": [
    "Xt, recs = gettestdata(\"test_data\", \"season_1/test_set_2/read_me_2.txt\")\n",
    "dtest = xgb.DMatrix(Xt)\n",
    "\n",
    "Y_test = lr.predict(dtest)"
   ]
  },
  {
   "cell_type": "code",
   "execution_count": 47,
   "metadata": {
    "collapsed": false
   },
   "outputs": [
    {
     "data": {
      "text/plain": [
       "(2838,)"
      ]
     },
     "execution_count": 47,
     "metadata": {},
     "output_type": "execute_result"
    }
   ],
   "source": [
    "Y_test.shape"
   ]
  },
  {
   "cell_type": "code",
   "execution_count": 1,
   "metadata": {
    "collapsed": false
   },
   "outputs": [],
   "source": [
    "from evaluation import *\n",
    "\n",
    "X, Y, slot_train, dist_train = getdata('training_data', 'lr_train_rst')\n",
    "X1, Y1, slot1, dist1 = getdata(\"validation_data\", 'lr_valid_rst')"
   ]
  },
  {
   "cell_type": "code",
   "execution_count": null,
   "metadata": {
    "collapsed": true
   },
   "outputs": [],
   "source": []
  }
 ],
 "metadata": {
  "kernelspec": {
   "display_name": "Python 2",
   "language": "python",
   "name": "python2"
  },
  "language_info": {
   "codemirror_mode": {
    "name": "ipython",
    "version": 2
   },
   "file_extension": ".py",
   "mimetype": "text/x-python",
   "name": "python",
   "nbconvert_exporter": "python",
   "pygments_lexer": "ipython2",
   "version": "2.7.11"
  }
 },
 "nbformat": 4,
 "nbformat_minor": 0
}
