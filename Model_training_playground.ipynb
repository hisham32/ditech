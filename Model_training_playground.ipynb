{
 "cells": [
  {
   "cell_type": "code",
   "execution_count": 1,
   "metadata": {
    "collapsed": false
   },
   "outputs": [],
   "source": [
    "y_true = []\n",
    "row = []\n",
    "data = []\n",
    "\n",
    "date = []\n",
    "slot = []\n",
    "dist = []\n",
    "\n",
    "with open(\"training_data\", 'r') as fr:\n",
    "    while True:\n",
    "        event = fr.readline().strip()\n",
    "        if not event: break;\n",
    "        \n",
    "        event = event.split(' ')\n",
    "        y_true.append(int(event[0]))\n",
    "        date.append(int(event[1]))\n",
    "        slot.append(int(event[2]))\n",
    "        dist.append(int(event[3]))\n",
    "        \n",
    "        vidx = []\n",
    "        vdata = []\n",
    "        for itm in event[4:]:\n",
    "            idx, val = itm.split(':')\n",
    "            vidx.append(int(idx))\n",
    "            vdata.append(float(val))\n",
    "        row.append(vidx)\n",
    "        data.append(vdata)"
   ]
  },
  {
   "cell_type": "code",
   "execution_count": 2,
   "metadata": {
    "collapsed": false
   },
   "outputs": [],
   "source": [
    "from extend_feature import *"
   ]
  },
  {
   "cell_type": "code",
   "execution_count": 3,
   "metadata": {
    "collapsed": false
   },
   "outputs": [],
   "source": [
    "for i, (r, d) in enumerate(zip(row, data)):\n",
    "    r, d = extend_2dfeature(r, d)\n",
    "    row[i]=r\n",
    "    data[i]=d"
   ]
  },
  {
   "cell_type": "code",
   "execution_count": 4,
   "metadata": {
    "collapsed": false
   },
   "outputs": [],
   "source": [
    "col = []\n",
    "for i in xrange(len(row)):\n",
    "    col.append([i]*len(row[i]))"
   ]
  },
  {
   "cell_type": "code",
   "execution_count": 5,
   "metadata": {
    "collapsed": false
   },
   "outputs": [],
   "source": [
    "from scipy.sparse import coo_matrix\n",
    "X = coo_matrix((np.hstack(data), (np.hstack(col), np.hstack(row))), shape=(len(y_true), ext[-1]))\n",
    "X = X.tocsr()"
   ]
  },
  {
   "cell_type": "code",
   "execution_count": 6,
   "metadata": {
    "collapsed": false
   },
   "outputs": [
    {
     "data": {
      "text/plain": [
       "<84693x20969 sparse matrix of type '<type 'numpy.float64'>'\n",
       "\twith 1207340 stored elements in Compressed Sparse Row format>"
      ]
     },
     "execution_count": 6,
     "metadata": {},
     "output_type": "execute_result"
    }
   ],
   "source": [
    "X"
   ]
  },
  {
   "cell_type": "code",
   "execution_count": 6,
   "metadata": {
    "collapsed": true
   },
   "outputs": [],
   "source": [
    "Y = np.asarray(y_true)"
   ]
  },
  {
   "cell_type": "code",
   "execution_count": 7,
   "metadata": {
    "collapsed": true
   },
   "outputs": [],
   "source": [
    "weight = np.zeros(Y.shape)\n",
    "for i, y in enumerate(Y):\n",
    "    if y==0:\n",
    "        weight[i]=1\n",
    "    else:\n",
    "        weight[i]=1/y"
   ]
  },
  {
   "cell_type": "code",
   "execution_count": 20,
   "metadata": {
    "collapsed": true
   },
   "outputs": [],
   "source": [
    "y_true = []\n",
    "col = []\n",
    "data = []\n",
    "\n",
    "date = []\n",
    "slotv = []\n",
    "distv = []\n",
    "\n",
    "with open(\"validation_data\", 'r') as fr:\n",
    "    while True:\n",
    "        event = fr.readline().strip()\n",
    "        if not event: break;\n",
    "        \n",
    "        event = event.split(' ')\n",
    "        y_true.append(int(event[0]))\n",
    "        date.append(int(event[1]))\n",
    "        slotv.append(int(event[2]))\n",
    "        distv.append(int(event[3]))\n",
    "        \n",
    "        vidx = []\n",
    "        vdata = []\n",
    "        for itm in event[4:]:\n",
    "            idx, val = itm.split(':')\n",
    "            vidx.append(int(idx))\n",
    "            vdata.append(float(val))\n",
    "        col.append(vidx)\n",
    "        data.append(vdata)"
   ]
  },
  {
   "cell_type": "code",
   "execution_count": null,
   "metadata": {
    "collapsed": true
   },
   "outputs": [],
   "source": []
  },
  {
   "cell_type": "code",
   "execution_count": 13,
   "metadata": {
    "collapsed": false
   },
   "outputs": [],
   "source": [
    "for i, (c, d) in enumerate(zip(col, data)):\n",
    "    c, d = extend_2dfeature(c, d)\n",
    "    col[i]=c\n",
    "    data[i]=d"
   ]
  },
  {
   "cell_type": "code",
   "execution_count": 14,
   "metadata": {
    "collapsed": false
   },
   "outputs": [],
   "source": [
    "row = []\n",
    "for i in xrange(len(col)):\n",
    "    row.append([i]*len(col[i]))"
   ]
  },
  {
   "cell_type": "code",
   "execution_count": 15,
   "metadata": {
    "collapsed": false
   },
   "outputs": [],
   "source": [
    "Xv = coo_matrix((np.hstack(data), (np.hstack(row), np.hstack(col))), shape=(len(y_true), ext[-1]))\n",
    "Xv = Xv.tocsr()\n",
    "Yv = np.asarray(y_true)"
   ]
  },
  {
   "cell_type": "code",
   "execution_count": 8,
   "metadata": {
    "collapsed": false
   },
   "outputs": [
    {
     "data": {
      "text/plain": [
       "Ridge(alpha=10, copy_X=True, fit_intercept=True, max_iter=None,\n",
       "   normalize=False, random_state=None, solver='auto', tol=0.001)"
      ]
     },
     "execution_count": 8,
     "metadata": {},
     "output_type": "execute_result"
    }
   ],
   "source": [
    "from sklearn.linear_model import Ridge\n",
    "lr = Ridge(alpha=10)\n",
    "lr.fit(X, Y, weight)"
   ]
  },
  {
   "cell_type": "code",
   "execution_count": 9,
   "metadata": {
    "collapsed": true
   },
   "outputs": [],
   "source": [
    "Y_pred = lr.predict(X)"
   ]
  },
  {
   "cell_type": "code",
   "execution_count": 14,
   "metadata": {
    "collapsed": false
   },
   "outputs": [
    {
     "data": {
      "text/plain": [
       "array([ 8.37986386,  5.08294088,  5.6898639 , ..., -0.09732153,\n",
       "       -0.43269772, -0.43170051])"
      ]
     },
     "execution_count": 14,
     "metadata": {},
     "output_type": "execute_result"
    }
   ],
   "source": [
    "Y_pred"
   ]
  },
  {
   "cell_type": "code",
   "execution_count": 10,
   "metadata": {
    "collapsed": false
   },
   "outputs": [],
   "source": [
    "Y_pred[Y_pred<0]=0"
   ]
  },
  {
   "cell_type": "code",
   "execution_count": 23,
   "metadata": {
    "collapsed": false
   },
   "outputs": [
    {
     "data": {
      "text/plain": [
       "array([4, 7, 7, ..., 0, 1, 0])"
      ]
     },
     "execution_count": 23,
     "metadata": {},
     "output_type": "execute_result"
    }
   ],
   "source": [
    "Yv"
   ]
  },
  {
   "cell_type": "code",
   "execution_count": 16,
   "metadata": {
    "collapsed": false
   },
   "outputs": [],
   "source": [
    "Yv_pred = lr.predict(Xv)"
   ]
  },
  {
   "cell_type": "code",
   "execution_count": 17,
   "metadata": {
    "collapsed": false
   },
   "outputs": [],
   "source": [
    "Yv_pred[Yv_pred<0]=0"
   ]
  },
  {
   "cell_type": "code",
   "execution_count": 10,
   "metadata": {
    "collapsed": false
   },
   "outputs": [
    {
     "data": {
      "text/plain": [
       "[275, 18125, 20699, 20969]"
      ]
     },
     "execution_count": 10,
     "metadata": {},
     "output_type": "execute_result"
    }
   ],
   "source": [
    "ext"
   ]
  },
  {
   "cell_type": "code",
   "execution_count": 1,
   "metadata": {
    "collapsed": true
   },
   "outputs": [],
   "source": [
    "def mape(y_true, y_pred, slot, dist):\n",
    "    loss = np.zeros((144, 66))\n",
    "    for i, (s, d) in enumerate(slot, dist):\n",
    "        d -=1\n",
    "        if y_true!=0:\n",
    "            loss[s, d] = np.abs(1-y_pred[i]/y_true[i])\n",
    "    l = np.sum(loss, axis=0)/144\n",
    "    return np.sum(l)/66"
   ]
  },
  {
   "cell_type": "code",
   "execution_count": 16,
   "metadata": {
    "collapsed": true
   },
   "outputs": [],
   "source": [
    "loss = np.zeros((144, 66))"
   ]
  },
  {
   "cell_type": "code",
   "execution_count": 19,
   "metadata": {
    "collapsed": false
   },
   "outputs": [
    {
     "data": {
      "text/plain": [
       "(66,)"
      ]
     },
     "execution_count": 19,
     "metadata": {},
     "output_type": "execute_result"
    }
   ],
   "source": [
    "np.sum(loss, axis=0).shape"
   ]
  },
  {
   "cell_type": "code",
   "execution_count": 21,
   "metadata": {
    "collapsed": false
   },
   "outputs": [
    {
     "data": {
      "text/plain": [
       "0.24000297358666692"
      ]
     },
     "execution_count": 21,
     "metadata": {},
     "output_type": "execute_result"
    }
   ],
   "source": [
    "mape(Yv, Yv_pred, slotv, distv)"
   ]
  },
  {
   "cell_type": "code",
   "execution_count": 17,
   "metadata": {
    "collapsed": false
   },
   "outputs": [
    {
     "data": {
      "text/plain": [
       "array([ 1.        ,  0.5       ,  0.33333333,  0.25      ])"
      ]
     },
     "execution_count": 17,
     "metadata": {},
     "output_type": "execute_result"
    }
   ],
   "source": [
    "np.ones(4)/np.arange(1,5)"
   ]
  },
  {
   "cell_type": "code",
   "execution_count": 1,
   "metadata": {
    "collapsed": true
   },
   "outputs": [],
   "source": [
    "record = []\n",
    "with open(\"season_1/test_set_1/read_me_1.txt\", 'r') as fr:\n",
    "    while True:\n",
    "        r = fr.readline().strip()\n",
    "        if not r: break;\n",
    "        \n",
    "        for i in xrange(1,67):\n",
    "            record.append((i, r))"
   ]
  },
  {
   "cell_type": "code",
   "execution_count": 3,
   "metadata": {
    "collapsed": false
   },
   "outputs": [
    {
     "data": {
      "text/plain": [
       "2838"
      ]
     },
     "execution_count": 3,
     "metadata": {},
     "output_type": "execute_result"
    }
   ],
   "source": [
    "len(record)"
   ]
  },
  {
   "cell_type": "code",
   "execution_count": 4,
   "metadata": {
    "collapsed": true
   },
   "outputs": [],
   "source": [
    "col = []\n",
    "data = []\n",
    "with open(\"test_data\") as fr:\n",
    "    while True:\n",
    "        r = fr.readline().strip()\n",
    "        if not r: break;\n",
    "        r = r.split(\" \")\n",
    "        \n",
    "        vidx = []\n",
    "        vdata = []\n",
    "        for x in r:\n",
    "            idx, val = x.split(\":\")\n",
    "            vidx.append(int(idx))\n",
    "            vdata.append(float(val))\n",
    "        \n",
    "        col.append(vidx)\n",
    "        data.append(vdata)"
   ]
  },
  {
   "cell_type": "code",
   "execution_count": 6,
   "metadata": {
    "collapsed": true
   },
   "outputs": [],
   "source": [
    "from evaluation import *"
   ]
  },
  {
   "cell_type": "code",
   "execution_count": 8,
   "metadata": {
    "collapsed": false
   },
   "outputs": [],
   "source": [
    "X, Y, slot, dist = getdata(\"training_data_total\")"
   ]
  },
  {
   "cell_type": "code",
   "execution_count": 9,
   "metadata": {
    "collapsed": false
   },
   "outputs": [
    {
     "data": {
      "text/plain": [
       "Ridge(alpha=10, copy_X=True, fit_intercept=True, max_iter=None,\n",
       "   normalize=False, random_state=None, solver='auto', tol=0.001)"
      ]
     },
     "execution_count": 9,
     "metadata": {},
     "output_type": "execute_result"
    }
   ],
   "source": [
    "from sklearn.linear_model import Ridge\n",
    "\n",
    "\n",
    "weight = np.zeros(Y.shape)\n",
    "for i, y in enumerate(Y):\n",
    "    if y==0:\n",
    "        weight[i]=1\n",
    "    else:\n",
    "        weight[i]=1/y\n",
    "\n",
    "lr = Ridge(alpha=10)\n",
    "lr.fit(X, Y, weight)"
   ]
  },
  {
   "cell_type": "code",
   "execution_count": 10,
   "metadata": {
    "collapsed": true
   },
   "outputs": [],
   "source": [
    "Xt, recs = gettestdata(\"test_data\", \"season_1/test_set_1/read_me_1.txt\")"
   ]
  },
  {
   "cell_type": "code",
   "execution_count": 17,
   "metadata": {
    "collapsed": true
   },
   "outputs": [],
   "source": [
    "Y_pred = lr.predict(X)"
   ]
  },
  {
   "cell_type": "code",
   "execution_count": 18,
   "metadata": {
    "collapsed": false
   },
   "outputs": [],
   "source": [
    "Y[Y<0]=0"
   ]
  },
  {
   "cell_type": "code",
   "execution_count": 14,
   "metadata": {
    "collapsed": false
   },
   "outputs": [
    {
     "data": {
      "text/plain": [
       "array([ 0.50515934,  0.18966589,  0.0744843 , ...,  0.17523388,\n",
       "        0.32034611,  0.13346256])"
      ]
     },
     "execution_count": 14,
     "metadata": {},
     "output_type": "execute_result"
    }
   ],
   "source": [
    "Yt"
   ]
  },
  {
   "cell_type": "code",
   "execution_count": 16,
   "metadata": {
    "collapsed": true
   },
   "outputs": [],
   "source": [
    "with open(\"result.csv\", \"w\") as fw:\n",
    "    for i, (r, s) in enumerate(recs):\n",
    "        fw.write(\"{0},{1},{2}\\n\".format(r, s, Yt[i]))"
   ]
  },
  {
   "cell_type": "code",
   "execution_count": 19,
   "metadata": {
    "collapsed": false
   },
   "outputs": [
    {
     "data": {
      "text/plain": [
       "0.10702183890449453"
      ]
     },
     "execution_count": 19,
     "metadata": {},
     "output_type": "execute_result"
    }
   ],
   "source": [
    "mape(Y, Y_pred, slot, dist)"
   ]
  },
  {
   "cell_type": "code",
   "execution_count": 1,
   "metadata": {
    "collapsed": true
   },
   "outputs": [],
   "source": [
    "from evaluation import *\n",
    "\n",
    "X, Y, slot_train, dist_train = getdata('training_data')"
   ]
  },
  {
   "cell_type": "code",
   "execution_count": 2,
   "metadata": {
    "collapsed": false
   },
   "outputs": [],
   "source": [
    "X1, Y1, slot1, dist1 = getdata(\"validation1_data\")\n",
    "X2, Y2, slot2, dist2 = getdata(\"validation2_data\")"
   ]
  },
  {
   "cell_type": "code",
   "execution_count": 3,
   "metadata": {
    "collapsed": true
   },
   "outputs": [],
   "source": [
    "weight = np.zeros(Y.shape)\n",
    "for i, y in enumerate(Y):\n",
    "    if y==0:\n",
    "        weight[i]=1\n",
    "    else:\n",
    "        weight[i]=1/y"
   ]
  },
  {
   "cell_type": "code",
   "execution_count": 17,
   "metadata": {
    "collapsed": false
   },
   "outputs": [
    {
     "data": {
      "text/plain": [
       "LinearRegression(copy_X=True, fit_intercept=True, n_jobs=1, normalize=False)"
      ]
     },
     "execution_count": 17,
     "metadata": {},
     "output_type": "execute_result"
    }
   ],
   "source": [
    "from sklearn.linear_model import LinearRegression\n",
    "lr = LinearRegression()\n",
    "lr.fit(X, Y, weight)"
   ]
  },
  {
   "cell_type": "code",
   "execution_count": 18,
   "metadata": {
    "collapsed": false
   },
   "outputs": [
    {
     "name": "stdout",
     "output_type": "stream",
     "text": [
      "0.785684188755\n"
     ]
    }
   ],
   "source": [
    "Y1_pred = lr.predict(X1)\n",
    "Y2_pred = lr.predict(X2)\n",
    "Y1_pred[Y1_pred<0]=0\n",
    "Y2_pred[Y2_pred<0]=0\n",
    "print (mape(Y1, Y1_pred, slot1, dist1)+mape(Y2, Y2_pred, slot2, dist2))/2"
   ]
  },
  {
   "cell_type": "code",
   "execution_count": 19,
   "metadata": {
    "collapsed": false
   },
   "outputs": [
    {
     "data": {
      "text/plain": [
       "0.71160168545654445"
      ]
     },
     "execution_count": 19,
     "metadata": {},
     "output_type": "execute_result"
    }
   ],
   "source": [
    "Y_pred = lr.predict(X)\n",
    "Y_pred[Y_pred<0]=0\n",
    "mape(Y, Y_pred, slot_train, dist_train)"
   ]
  },
  {
   "cell_type": "code",
   "execution_count": 16,
   "metadata": {
    "collapsed": false
   },
   "outputs": [
    {
     "data": {
      "text/plain": [
       "808.32365182273463"
      ]
     },
     "execution_count": 16,
     "metadata": {},
     "output_type": "execute_result"
    }
   ],
   "source": [
    "Y_pred.max()"
   ]
  },
  {
   "cell_type": "code",
   "execution_count": 12,
   "metadata": {
    "collapsed": false
   },
   "outputs": [
    {
     "data": {
      "text/plain": [
       "1249"
      ]
     },
     "execution_count": 12,
     "metadata": {},
     "output_type": "execute_result"
    }
   ],
   "source": [
    "Y.max()"
   ]
  },
  {
   "cell_type": "code",
   "execution_count": null,
   "metadata": {
    "collapsed": true
   },
   "outputs": [],
   "source": []
  }
 ],
 "metadata": {
  "kernelspec": {
   "display_name": "Python 2",
   "language": "python",
   "name": "python2"
  },
  "language_info": {
   "codemirror_mode": {
    "name": "ipython",
    "version": 2
   },
   "file_extension": ".py",
   "mimetype": "text/x-python",
   "name": "python",
   "nbconvert_exporter": "python",
   "pygments_lexer": "ipython2",
   "version": "2.7.11"
  }
 },
 "nbformat": 4,
 "nbformat_minor": 0
}
