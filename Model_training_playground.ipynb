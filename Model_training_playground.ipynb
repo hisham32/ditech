{
 "cells": [
  {
   "cell_type": "code",
   "execution_count": 1,
   "metadata": {
    "collapsed": false
   },
   "outputs": [],
   "source": [
    "y_true = []\n",
    "row = []\n",
    "data = []\n",
    "\n",
    "date = []\n",
    "slot = []\n",
    "dist = []\n",
    "\n",
    "with open(\"training_data\", 'r') as fr:\n",
    "    while True:\n",
    "        event = fr.readline().strip()\n",
    "        if not event: break;\n",
    "        \n",
    "        event = event.split(' ')\n",
    "        y_true.append(int(event[0]))\n",
    "        date.append(int(event[1]))\n",
    "        slot.append(int(event[2]))\n",
    "        dist.append(int(event[3]))\n",
    "        \n",
    "        vidx = []\n",
    "        vdata = []\n",
    "        for itm in event[4:]:\n",
    "            idx, val = itm.split(':')\n",
    "            vidx.append(int(idx))\n",
    "            vdata.append(float(val))\n",
    "        row.append(vidx)\n",
    "        data.append(vdata)"
   ]
  },
  {
   "cell_type": "code",
   "execution_count": 1,
   "metadata": {
    "collapsed": false
   },
   "outputs": [],
   "source": [
    "from extend_feature import *"
   ]
  },
  {
   "cell_type": "code",
   "execution_count": 3,
   "metadata": {
    "collapsed": false
   },
   "outputs": [],
   "source": [
    "for i, (r, d) in enumerate(zip(row, data)):\n",
    "    r, d = extend_2dfeature(r, d)\n",
    "    row[i]=r\n",
    "    data[i]=d"
   ]
  },
  {
   "cell_type": "code",
   "execution_count": 4,
   "metadata": {
    "collapsed": false
   },
   "outputs": [],
   "source": [
    "col = []\n",
    "for i in xrange(len(row)):\n",
    "    col.append([i]*len(row[i]))"
   ]
  },
  {
   "cell_type": "code",
   "execution_count": 5,
   "metadata": {
    "collapsed": false
   },
   "outputs": [],
   "source": [
    "from scipy.sparse import coo_matrix\n",
    "X = coo_matrix((np.hstack(data), (np.hstack(col), np.hstack(row))), shape=(len(y_true), ext[-1]))\n",
    "X = X.tocsr()"
   ]
  },
  {
   "cell_type": "code",
   "execution_count": 6,
   "metadata": {
    "collapsed": false
   },
   "outputs": [
    {
     "data": {
      "text/plain": [
       "<84693x20969 sparse matrix of type '<type 'numpy.float64'>'\n",
       "\twith 1207340 stored elements in Compressed Sparse Row format>"
      ]
     },
     "execution_count": 6,
     "metadata": {},
     "output_type": "execute_result"
    }
   ],
   "source": [
    "X"
   ]
  },
  {
   "cell_type": "code",
   "execution_count": 6,
   "metadata": {
    "collapsed": true
   },
   "outputs": [],
   "source": [
    "Y = np.asarray(y_true)"
   ]
  },
  {
   "cell_type": "code",
   "execution_count": 7,
   "metadata": {
    "collapsed": true
   },
   "outputs": [],
   "source": [
    "weight = np.zeros(Y.shape)\n",
    "for i, y in enumerate(Y):\n",
    "    if y==0:\n",
    "        weight[i]=1\n",
    "    else:\n",
    "        weight[i]=1/y"
   ]
  },
  {
   "cell_type": "code",
   "execution_count": 20,
   "metadata": {
    "collapsed": true
   },
   "outputs": [],
   "source": [
    "y_true = []\n",
    "col = []\n",
    "data = []\n",
    "\n",
    "date = []\n",
    "slotv = []\n",
    "distv = []\n",
    "\n",
    "with open(\"validation_data\", 'r') as fr:\n",
    "    while True:\n",
    "        event = fr.readline().strip()\n",
    "        if not event: break;\n",
    "        \n",
    "        event = event.split(' ')\n",
    "        y_true.append(int(event[0]))\n",
    "        date.append(int(event[1]))\n",
    "        slotv.append(int(event[2]))\n",
    "        distv.append(int(event[3]))\n",
    "        \n",
    "        vidx = []\n",
    "        vdata = []\n",
    "        for itm in event[4:]:\n",
    "            idx, val = itm.split(':')\n",
    "            vidx.append(int(idx))\n",
    "            vdata.append(float(val))\n",
    "        col.append(vidx)\n",
    "        data.append(vdata)"
   ]
  },
  {
   "cell_type": "code",
   "execution_count": null,
   "metadata": {
    "collapsed": true
   },
   "outputs": [],
   "source": []
  },
  {
   "cell_type": "code",
   "execution_count": 13,
   "metadata": {
    "collapsed": false
   },
   "outputs": [],
   "source": [
    "for i, (c, d) in enumerate(zip(col, data)):\n",
    "    c, d = extend_2dfeature(c, d)\n",
    "    col[i]=c\n",
    "    data[i]=d"
   ]
  },
  {
   "cell_type": "code",
   "execution_count": 14,
   "metadata": {
    "collapsed": false
   },
   "outputs": [],
   "source": [
    "row = []\n",
    "for i in xrange(len(col)):\n",
    "    row.append([i]*len(col[i]))"
   ]
  },
  {
   "cell_type": "code",
   "execution_count": 15,
   "metadata": {
    "collapsed": false
   },
   "outputs": [],
   "source": [
    "Xv = coo_matrix((np.hstack(data), (np.hstack(row), np.hstack(col))), shape=(len(y_true), ext[-1]))\n",
    "Xv = Xv.tocsr()\n",
    "Yv = np.asarray(y_true)"
   ]
  },
  {
   "cell_type": "code",
   "execution_count": 8,
   "metadata": {
    "collapsed": false
   },
   "outputs": [
    {
     "data": {
      "text/plain": [
       "Ridge(alpha=10, copy_X=True, fit_intercept=True, max_iter=None,\n",
       "   normalize=False, random_state=None, solver='auto', tol=0.001)"
      ]
     },
     "execution_count": 8,
     "metadata": {},
     "output_type": "execute_result"
    }
   ],
   "source": [
    "from sklearn.linear_model import Ridge\n",
    "lr = Ridge(alpha=10)\n",
    "lr.fit(X, Y, weight)"
   ]
  },
  {
   "cell_type": "code",
   "execution_count": 9,
   "metadata": {
    "collapsed": true
   },
   "outputs": [],
   "source": [
    "Y_pred = lr.predict(X)"
   ]
  },
  {
   "cell_type": "code",
   "execution_count": 14,
   "metadata": {
    "collapsed": false
   },
   "outputs": [
    {
     "data": {
      "text/plain": [
       "array([ 8.37986386,  5.08294088,  5.6898639 , ..., -0.09732153,\n",
       "       -0.43269772, -0.43170051])"
      ]
     },
     "execution_count": 14,
     "metadata": {},
     "output_type": "execute_result"
    }
   ],
   "source": [
    "Y_pred"
   ]
  },
  {
   "cell_type": "code",
   "execution_count": 10,
   "metadata": {
    "collapsed": false
   },
   "outputs": [],
   "source": [
    "Y_pred[Y_pred<0]=0"
   ]
  },
  {
   "cell_type": "code",
   "execution_count": 23,
   "metadata": {
    "collapsed": false
   },
   "outputs": [
    {
     "data": {
      "text/plain": [
       "array([4, 7, 7, ..., 0, 1, 0])"
      ]
     },
     "execution_count": 23,
     "metadata": {},
     "output_type": "execute_result"
    }
   ],
   "source": [
    "Yv"
   ]
  },
  {
   "cell_type": "code",
   "execution_count": 16,
   "metadata": {
    "collapsed": false
   },
   "outputs": [],
   "source": [
    "Yv_pred = lr.predict(Xv)"
   ]
  },
  {
   "cell_type": "code",
   "execution_count": 17,
   "metadata": {
    "collapsed": false
   },
   "outputs": [],
   "source": [
    "Yv_pred[Yv_pred<0]=0"
   ]
  },
  {
   "cell_type": "code",
   "execution_count": 10,
   "metadata": {
    "collapsed": false
   },
   "outputs": [
    {
     "data": {
      "text/plain": [
       "[275, 18125, 20699, 20969]"
      ]
     },
     "execution_count": 10,
     "metadata": {},
     "output_type": "execute_result"
    }
   ],
   "source": [
    "ext"
   ]
  },
  {
   "cell_type": "code",
   "execution_count": 1,
   "metadata": {
    "collapsed": true
   },
   "outputs": [],
   "source": [
    "def mape(y_true, y_pred, slot, dist):\n",
    "    loss = np.zeros((144, 66))\n",
    "    for i, (s, d) in enumerate(slot, dist):\n",
    "        d -=1\n",
    "        if y_true!=0:\n",
    "            loss[s, d] = np.abs(1-y_pred[i]/y_true[i])\n",
    "    l = np.sum(loss, axis=0)/144\n",
    "    return np.sum(l)/66"
   ]
  },
  {
   "cell_type": "code",
   "execution_count": 16,
   "metadata": {
    "collapsed": true
   },
   "outputs": [],
   "source": [
    "loss = np.zeros((144, 66))"
   ]
  },
  {
   "cell_type": "code",
   "execution_count": 19,
   "metadata": {
    "collapsed": false
   },
   "outputs": [
    {
     "data": {
      "text/plain": [
       "(66,)"
      ]
     },
     "execution_count": 19,
     "metadata": {},
     "output_type": "execute_result"
    }
   ],
   "source": [
    "np.sum(loss, axis=0).shape"
   ]
  },
  {
   "cell_type": "code",
   "execution_count": 21,
   "metadata": {
    "collapsed": false
   },
   "outputs": [
    {
     "data": {
      "text/plain": [
       "0.24000297358666692"
      ]
     },
     "execution_count": 21,
     "metadata": {},
     "output_type": "execute_result"
    }
   ],
   "source": [
    "mape(Yv, Yv_pred, slotv, distv)"
   ]
  },
  {
   "cell_type": "code",
   "execution_count": 17,
   "metadata": {
    "collapsed": false
   },
   "outputs": [
    {
     "data": {
      "text/plain": [
       "array([ 1.        ,  0.5       ,  0.33333333,  0.25      ])"
      ]
     },
     "execution_count": 17,
     "metadata": {},
     "output_type": "execute_result"
    }
   ],
   "source": [
    "np.ones(4)/np.arange(1,5)"
   ]
  },
  {
   "cell_type": "code",
   "execution_count": 24,
   "metadata": {
    "collapsed": true
   },
   "outputs": [],
   "source": [
    "record = []\n",
    "with open(\"season_1/test_set_1/read_me_1.txt\", 'r') as fr:\n",
    "    while True:\n",
    "        r = fr.readline().strip()\n",
    "        if not r: break;\n",
    "        \n",
    "        for i in xrange(1,67):\n",
    "            record.append((i, r))"
   ]
  },
  {
   "cell_type": "code",
   "execution_count": 3,
   "metadata": {
    "collapsed": false
   },
   "outputs": [
    {
     "data": {
      "text/plain": [
       "2838"
      ]
     },
     "execution_count": 3,
     "metadata": {},
     "output_type": "execute_result"
    }
   ],
   "source": [
    "len(record)"
   ]
  },
  {
   "cell_type": "code",
   "execution_count": 4,
   "metadata": {
    "collapsed": true
   },
   "outputs": [],
   "source": [
    "col = []\n",
    "data = []\n",
    "with open(\"test_data\") as fr:\n",
    "    while True:\n",
    "        r = fr.readline().strip()\n",
    "        if not r: break;\n",
    "        r = r.split(\" \")\n",
    "        \n",
    "        vidx = []\n",
    "        vdata = []\n",
    "        for x in r:\n",
    "            idx, val = x.split(\":\")\n",
    "            vidx.append(int(idx))\n",
    "            vdata.append(float(val))\n",
    "        \n",
    "        col.append(vidx)\n",
    "        data.append(vdata)"
   ]
  },
  {
   "cell_type": "code",
   "execution_count": 2,
   "metadata": {
    "collapsed": true
   },
   "outputs": [],
   "source": [
    "from evaluation import *\n",
    "\n"
   ]
  },
  {
   "cell_type": "code",
   "execution_count": 3,
   "metadata": {
    "collapsed": false
   },
   "outputs": [],
   "source": [
    "X, Y, slot, dist = getdata(\"training_data_total\")"
   ]
  },
  {
   "cell_type": "code",
   "execution_count": 4,
   "metadata": {
    "collapsed": false
   },
   "outputs": [
    {
     "data": {
      "text/plain": [
       "<97089x10760 sparse matrix of type '<type 'numpy.float64'>'\n",
       "\twith 1653709 stored elements in Compressed Sparse Row format>"
      ]
     },
     "execution_count": 4,
     "metadata": {},
     "output_type": "execute_result"
    }
   ],
   "source": [
    "X"
   ]
  },
  {
   "cell_type": "code",
   "execution_count": 9,
   "metadata": {
    "collapsed": false
   },
   "outputs": [
    {
     "data": {
      "text/plain": [
       "Ridge(alpha=10, copy_X=True, fit_intercept=True, max_iter=None,\n",
       "   normalize=False, random_state=None, solver='auto', tol=0.001)"
      ]
     },
     "execution_count": 9,
     "metadata": {},
     "output_type": "execute_result"
    }
   ],
   "source": [
    "from sklearn.linear_model import Ridge\n",
    "\n",
    "\n",
    "weight = np.zeros(Y.shape)\n",
    "for i, y in enumerate(Y):\n",
    "    if y==0:\n",
    "        weight[i]=1\n",
    "    else:\n",
    "        weight[i]=1/y\n",
    "\n",
    "lr = Ridge(alpha=10)\n",
    "lr.fit(X, Y, weight)"
   ]
  },
  {
   "cell_type": "code",
   "execution_count": 10,
   "metadata": {
    "collapsed": true
   },
   "outputs": [],
   "source": [
    "Xt, recs = gettestdata(\"test_data\", \"season_1/test_set_1/read_me_1.txt\")"
   ]
  },
  {
   "cell_type": "code",
   "execution_count": 17,
   "metadata": {
    "collapsed": true
   },
   "outputs": [],
   "source": [
    "Y_pred = lr.predict(X)"
   ]
  },
  {
   "cell_type": "code",
   "execution_count": 18,
   "metadata": {
    "collapsed": false
   },
   "outputs": [],
   "source": [
    "Y[Y<0]=0"
   ]
  },
  {
   "cell_type": "code",
   "execution_count": 14,
   "metadata": {
    "collapsed": false
   },
   "outputs": [
    {
     "data": {
      "text/plain": [
       "array([ 0.50515934,  0.18966589,  0.0744843 , ...,  0.17523388,\n",
       "        0.32034611,  0.13346256])"
      ]
     },
     "execution_count": 14,
     "metadata": {},
     "output_type": "execute_result"
    }
   ],
   "source": [
    "Yt"
   ]
  },
  {
   "cell_type": "code",
   "execution_count": 16,
   "metadata": {
    "collapsed": true
   },
   "outputs": [],
   "source": [
    "with open(\"result.csv\", \"w\") as fw:\n",
    "    for i, (r, s) in enumerate(recs):\n",
    "        fw.write(\"{0},{1},{2}\\n\".format(r, s, Yt[i]))"
   ]
  },
  {
   "cell_type": "code",
   "execution_count": 19,
   "metadata": {
    "collapsed": false
   },
   "outputs": [
    {
     "data": {
      "text/plain": [
       "0.10702183890449453"
      ]
     },
     "execution_count": 19,
     "metadata": {},
     "output_type": "execute_result"
    }
   ],
   "source": [
    "mape(Y, Y_pred, slot, dist)"
   ]
  },
  {
   "cell_type": "code",
   "execution_count": 3,
   "metadata": {
    "collapsed": false
   },
   "outputs": [
    {
     "data": {
      "text/plain": [
       "(56985, 278)"
      ]
     },
     "execution_count": 3,
     "metadata": {},
     "output_type": "execute_result"
    }
   ],
   "source": [
    "X.shape"
   ]
  },
  {
   "cell_type": "code",
   "execution_count": 1,
   "metadata": {
    "collapsed": false
   },
   "outputs": [],
   "source": [
    "from evaluation import *\n",
    "\n",
    "X, Y, slot_train, dist_train = getdata('training_data', 'lr_train_rst')\n",
    "X1, Y1, slot1, dist1 = getdata(\"validation_data\", 'lr_valid_rst')"
   ]
  },
  {
   "cell_type": "code",
   "execution_count": 2,
   "metadata": {
    "collapsed": false
   },
   "outputs": [],
   "source": [
    "weight = np.zeros(Y.shape)\n",
    "for i, y in enumerate(Y):\n",
    "    if y==0:\n",
    "        weight[i]=0\n",
    "    else:\n",
    "        weight[i]=1.0/y"
   ]
  },
  {
   "cell_type": "code",
   "execution_count": 23,
   "metadata": {
    "collapsed": false
   },
   "outputs": [
    {
     "data": {
      "text/plain": [
       "Ridge(alpha=20, copy_X=True, fit_intercept=True, max_iter=None,\n",
       "   normalize=False, random_state=None, solver='auto', tol=0.001)"
      ]
     },
     "execution_count": 23,
     "metadata": {},
     "output_type": "execute_result"
    }
   ],
   "source": [
    "from sklearn.linear_model import Ridge\n",
    "lr = Ridge(alpha=20)\n",
    "lr.fit(X, Y, weight)"
   ]
  },
  {
   "cell_type": "code",
   "execution_count": 7,
   "metadata": {
    "collapsed": false
   },
   "outputs": [
    {
     "name": "stdout",
     "output_type": "stream",
     "text": [
      "0.536289881521\n"
     ]
    }
   ],
   "source": [
    "Y1_pred = lr.predict(X1)\n",
    "Y1_pred[Y1_pred<0]=0\n",
    "print mape(Y1, Y1_pred, slot1, dist1)"
   ]
  },
  {
   "cell_type": "code",
   "execution_count": 8,
   "metadata": {
    "collapsed": false
   },
   "outputs": [
    {
     "data": {
      "text/plain": [
       "0.4539818753545628"
      ]
     },
     "execution_count": 8,
     "metadata": {},
     "output_type": "execute_result"
    }
   ],
   "source": [
    "Y_pred = lr.predict(X)\n",
    "Y_pred[Y_pred<0]=0\n",
    "mape(Y, Y_pred, slot_train, dist_train)"
   ]
  },
  {
   "cell_type": "code",
   "execution_count": 24,
   "metadata": {
    "collapsed": false
   },
   "outputs": [
    {
     "data": {
      "text/plain": [
       "(10760,)"
      ]
     },
     "execution_count": 24,
     "metadata": {},
     "output_type": "execute_result"
    }
   ],
   "source": [
    "lr.coef_.shape"
   ]
  },
  {
   "cell_type": "code",
   "execution_count": 7,
   "metadata": {
    "collapsed": false
   },
   "outputs": [
    {
     "data": {
      "application/javascript": [
       "/* Put everything inside the global mpl namespace */\n",
       "window.mpl = {};\n",
       "\n",
       "mpl.get_websocket_type = function() {\n",
       "    if (typeof(WebSocket) !== 'undefined') {\n",
       "        return WebSocket;\n",
       "    } else if (typeof(MozWebSocket) !== 'undefined') {\n",
       "        return MozWebSocket;\n",
       "    } else {\n",
       "        alert('Your browser does not have WebSocket support.' +\n",
       "              'Please try Chrome, Safari or Firefox ≥ 6. ' +\n",
       "              'Firefox 4 and 5 are also supported but you ' +\n",
       "              'have to enable WebSockets in about:config.');\n",
       "    };\n",
       "}\n",
       "\n",
       "mpl.figure = function(figure_id, websocket, ondownload, parent_element) {\n",
       "    this.id = figure_id;\n",
       "\n",
       "    this.ws = websocket;\n",
       "\n",
       "    this.supports_binary = (this.ws.binaryType != undefined);\n",
       "\n",
       "    if (!this.supports_binary) {\n",
       "        var warnings = document.getElementById(\"mpl-warnings\");\n",
       "        if (warnings) {\n",
       "            warnings.style.display = 'block';\n",
       "            warnings.textContent = (\n",
       "                \"This browser does not support binary websocket messages. \" +\n",
       "                    \"Performance may be slow.\");\n",
       "        }\n",
       "    }\n",
       "\n",
       "    this.imageObj = new Image();\n",
       "\n",
       "    this.context = undefined;\n",
       "    this.message = undefined;\n",
       "    this.canvas = undefined;\n",
       "    this.rubberband_canvas = undefined;\n",
       "    this.rubberband_context = undefined;\n",
       "    this.format_dropdown = undefined;\n",
       "\n",
       "    this.image_mode = 'full';\n",
       "\n",
       "    this.root = $('<div/>');\n",
       "    this._root_extra_style(this.root)\n",
       "    this.root.attr('style', 'display: inline-block');\n",
       "\n",
       "    $(parent_element).append(this.root);\n",
       "\n",
       "    this._init_header(this);\n",
       "    this._init_canvas(this);\n",
       "    this._init_toolbar(this);\n",
       "\n",
       "    var fig = this;\n",
       "\n",
       "    this.waiting = false;\n",
       "\n",
       "    this.ws.onopen =  function () {\n",
       "            fig.send_message(\"supports_binary\", {value: fig.supports_binary});\n",
       "            fig.send_message(\"send_image_mode\", {});\n",
       "            fig.send_message(\"refresh\", {});\n",
       "        }\n",
       "\n",
       "    this.imageObj.onload = function() {\n",
       "            if (fig.image_mode == 'full') {\n",
       "                // Full images could contain transparency (where diff images\n",
       "                // almost always do), so we need to clear the canvas so that\n",
       "                // there is no ghosting.\n",
       "                fig.context.clearRect(0, 0, fig.canvas.width, fig.canvas.height);\n",
       "            }\n",
       "            fig.context.drawImage(fig.imageObj, 0, 0);\n",
       "        };\n",
       "\n",
       "    this.imageObj.onunload = function() {\n",
       "        this.ws.close();\n",
       "    }\n",
       "\n",
       "    this.ws.onmessage = this._make_on_message_function(this);\n",
       "\n",
       "    this.ondownload = ondownload;\n",
       "}\n",
       "\n",
       "mpl.figure.prototype._init_header = function() {\n",
       "    var titlebar = $(\n",
       "        '<div class=\"ui-dialog-titlebar ui-widget-header ui-corner-all ' +\n",
       "        'ui-helper-clearfix\"/>');\n",
       "    var titletext = $(\n",
       "        '<div class=\"ui-dialog-title\" style=\"width: 100%; ' +\n",
       "        'text-align: center; padding: 3px;\"/>');\n",
       "    titlebar.append(titletext)\n",
       "    this.root.append(titlebar);\n",
       "    this.header = titletext[0];\n",
       "}\n",
       "\n",
       "\n",
       "\n",
       "mpl.figure.prototype._canvas_extra_style = function(canvas_div) {\n",
       "\n",
       "}\n",
       "\n",
       "\n",
       "mpl.figure.prototype._root_extra_style = function(canvas_div) {\n",
       "\n",
       "}\n",
       "\n",
       "mpl.figure.prototype._init_canvas = function() {\n",
       "    var fig = this;\n",
       "\n",
       "    var canvas_div = $('<div/>');\n",
       "\n",
       "    canvas_div.attr('style', 'position: relative; clear: both; outline: 0');\n",
       "\n",
       "    function canvas_keyboard_event(event) {\n",
       "        return fig.key_event(event, event['data']);\n",
       "    }\n",
       "\n",
       "    canvas_div.keydown('key_press', canvas_keyboard_event);\n",
       "    canvas_div.keyup('key_release', canvas_keyboard_event);\n",
       "    this.canvas_div = canvas_div\n",
       "    this._canvas_extra_style(canvas_div)\n",
       "    this.root.append(canvas_div);\n",
       "\n",
       "    var canvas = $('<canvas/>');\n",
       "    canvas.addClass('mpl-canvas');\n",
       "    canvas.attr('style', \"left: 0; top: 0; z-index: 0; outline: 0\")\n",
       "\n",
       "    this.canvas = canvas[0];\n",
       "    this.context = canvas[0].getContext(\"2d\");\n",
       "\n",
       "    var rubberband = $('<canvas/>');\n",
       "    rubberband.attr('style', \"position: absolute; left: 0; top: 0; z-index: 1;\")\n",
       "\n",
       "    var pass_mouse_events = true;\n",
       "\n",
       "    canvas_div.resizable({\n",
       "        start: function(event, ui) {\n",
       "            pass_mouse_events = false;\n",
       "        },\n",
       "        resize: function(event, ui) {\n",
       "            fig.request_resize(ui.size.width, ui.size.height);\n",
       "        },\n",
       "        stop: function(event, ui) {\n",
       "            pass_mouse_events = true;\n",
       "            fig.request_resize(ui.size.width, ui.size.height);\n",
       "        },\n",
       "    });\n",
       "\n",
       "    function mouse_event_fn(event) {\n",
       "        if (pass_mouse_events)\n",
       "            return fig.mouse_event(event, event['data']);\n",
       "    }\n",
       "\n",
       "    rubberband.mousedown('button_press', mouse_event_fn);\n",
       "    rubberband.mouseup('button_release', mouse_event_fn);\n",
       "    // Throttle sequential mouse events to 1 every 20ms.\n",
       "    rubberband.mousemove('motion_notify', mouse_event_fn);\n",
       "\n",
       "    rubberband.mouseenter('figure_enter', mouse_event_fn);\n",
       "    rubberband.mouseleave('figure_leave', mouse_event_fn);\n",
       "\n",
       "    canvas_div.on(\"wheel\", function (event) {\n",
       "        event = event.originalEvent;\n",
       "        event['data'] = 'scroll'\n",
       "        if (event.deltaY < 0) {\n",
       "            event.step = 1;\n",
       "        } else {\n",
       "            event.step = -1;\n",
       "        }\n",
       "        mouse_event_fn(event);\n",
       "    });\n",
       "\n",
       "    canvas_div.append(canvas);\n",
       "    canvas_div.append(rubberband);\n",
       "\n",
       "    this.rubberband = rubberband;\n",
       "    this.rubberband_canvas = rubberband[0];\n",
       "    this.rubberband_context = rubberband[0].getContext(\"2d\");\n",
       "    this.rubberband_context.strokeStyle = \"#000000\";\n",
       "\n",
       "    this._resize_canvas = function(width, height) {\n",
       "        // Keep the size of the canvas, canvas container, and rubber band\n",
       "        // canvas in synch.\n",
       "        canvas_div.css('width', width)\n",
       "        canvas_div.css('height', height)\n",
       "\n",
       "        canvas.attr('width', width);\n",
       "        canvas.attr('height', height);\n",
       "\n",
       "        rubberband.attr('width', width);\n",
       "        rubberband.attr('height', height);\n",
       "    }\n",
       "\n",
       "    // Set the figure to an initial 600x600px, this will subsequently be updated\n",
       "    // upon first draw.\n",
       "    this._resize_canvas(600, 600);\n",
       "\n",
       "    // Disable right mouse context menu.\n",
       "    $(this.rubberband_canvas).bind(\"contextmenu\",function(e){\n",
       "        return false;\n",
       "    });\n",
       "\n",
       "    function set_focus () {\n",
       "        canvas.focus();\n",
       "        canvas_div.focus();\n",
       "    }\n",
       "\n",
       "    window.setTimeout(set_focus, 100);\n",
       "}\n",
       "\n",
       "mpl.figure.prototype._init_toolbar = function() {\n",
       "    var fig = this;\n",
       "\n",
       "    var nav_element = $('<div/>')\n",
       "    nav_element.attr('style', 'width: 100%');\n",
       "    this.root.append(nav_element);\n",
       "\n",
       "    // Define a callback function for later on.\n",
       "    function toolbar_event(event) {\n",
       "        return fig.toolbar_button_onclick(event['data']);\n",
       "    }\n",
       "    function toolbar_mouse_event(event) {\n",
       "        return fig.toolbar_button_onmouseover(event['data']);\n",
       "    }\n",
       "\n",
       "    for(var toolbar_ind in mpl.toolbar_items) {\n",
       "        var name = mpl.toolbar_items[toolbar_ind][0];\n",
       "        var tooltip = mpl.toolbar_items[toolbar_ind][1];\n",
       "        var image = mpl.toolbar_items[toolbar_ind][2];\n",
       "        var method_name = mpl.toolbar_items[toolbar_ind][3];\n",
       "\n",
       "        if (!name) {\n",
       "            // put a spacer in here.\n",
       "            continue;\n",
       "        }\n",
       "        var button = $('<button/>');\n",
       "        button.addClass('ui-button ui-widget ui-state-default ui-corner-all ' +\n",
       "                        'ui-button-icon-only');\n",
       "        button.attr('role', 'button');\n",
       "        button.attr('aria-disabled', 'false');\n",
       "        button.click(method_name, toolbar_event);\n",
       "        button.mouseover(tooltip, toolbar_mouse_event);\n",
       "\n",
       "        var icon_img = $('<span/>');\n",
       "        icon_img.addClass('ui-button-icon-primary ui-icon');\n",
       "        icon_img.addClass(image);\n",
       "        icon_img.addClass('ui-corner-all');\n",
       "\n",
       "        var tooltip_span = $('<span/>');\n",
       "        tooltip_span.addClass('ui-button-text');\n",
       "        tooltip_span.html(tooltip);\n",
       "\n",
       "        button.append(icon_img);\n",
       "        button.append(tooltip_span);\n",
       "\n",
       "        nav_element.append(button);\n",
       "    }\n",
       "\n",
       "    var fmt_picker_span = $('<span/>');\n",
       "\n",
       "    var fmt_picker = $('<select/>');\n",
       "    fmt_picker.addClass('mpl-toolbar-option ui-widget ui-widget-content');\n",
       "    fmt_picker_span.append(fmt_picker);\n",
       "    nav_element.append(fmt_picker_span);\n",
       "    this.format_dropdown = fmt_picker[0];\n",
       "\n",
       "    for (var ind in mpl.extensions) {\n",
       "        var fmt = mpl.extensions[ind];\n",
       "        var option = $(\n",
       "            '<option/>', {selected: fmt === mpl.default_extension}).html(fmt);\n",
       "        fmt_picker.append(option)\n",
       "    }\n",
       "\n",
       "    // Add hover states to the ui-buttons\n",
       "    $( \".ui-button\" ).hover(\n",
       "        function() { $(this).addClass(\"ui-state-hover\");},\n",
       "        function() { $(this).removeClass(\"ui-state-hover\");}\n",
       "    );\n",
       "\n",
       "    var status_bar = $('<span class=\"mpl-message\"/>');\n",
       "    nav_element.append(status_bar);\n",
       "    this.message = status_bar[0];\n",
       "}\n",
       "\n",
       "mpl.figure.prototype.request_resize = function(x_pixels, y_pixels) {\n",
       "    // Request matplotlib to resize the figure. Matplotlib will then trigger a resize in the client,\n",
       "    // which will in turn request a refresh of the image.\n",
       "    this.send_message('resize', {'width': x_pixels, 'height': y_pixels});\n",
       "}\n",
       "\n",
       "mpl.figure.prototype.send_message = function(type, properties) {\n",
       "    properties['type'] = type;\n",
       "    properties['figure_id'] = this.id;\n",
       "    this.ws.send(JSON.stringify(properties));\n",
       "}\n",
       "\n",
       "mpl.figure.prototype.send_draw_message = function() {\n",
       "    if (!this.waiting) {\n",
       "        this.waiting = true;\n",
       "        this.ws.send(JSON.stringify({type: \"draw\", figure_id: this.id}));\n",
       "    }\n",
       "}\n",
       "\n",
       "\n",
       "mpl.figure.prototype.handle_save = function(fig, msg) {\n",
       "    var format_dropdown = fig.format_dropdown;\n",
       "    var format = format_dropdown.options[format_dropdown.selectedIndex].value;\n",
       "    fig.ondownload(fig, format);\n",
       "}\n",
       "\n",
       "\n",
       "mpl.figure.prototype.handle_resize = function(fig, msg) {\n",
       "    var size = msg['size'];\n",
       "    if (size[0] != fig.canvas.width || size[1] != fig.canvas.height) {\n",
       "        fig._resize_canvas(size[0], size[1]);\n",
       "        fig.send_message(\"refresh\", {});\n",
       "    };\n",
       "}\n",
       "\n",
       "mpl.figure.prototype.handle_rubberband = function(fig, msg) {\n",
       "    var x0 = msg['x0'];\n",
       "    var y0 = fig.canvas.height - msg['y0'];\n",
       "    var x1 = msg['x1'];\n",
       "    var y1 = fig.canvas.height - msg['y1'];\n",
       "    x0 = Math.floor(x0) + 0.5;\n",
       "    y0 = Math.floor(y0) + 0.5;\n",
       "    x1 = Math.floor(x1) + 0.5;\n",
       "    y1 = Math.floor(y1) + 0.5;\n",
       "    var min_x = Math.min(x0, x1);\n",
       "    var min_y = Math.min(y0, y1);\n",
       "    var width = Math.abs(x1 - x0);\n",
       "    var height = Math.abs(y1 - y0);\n",
       "\n",
       "    fig.rubberband_context.clearRect(\n",
       "        0, 0, fig.canvas.width, fig.canvas.height);\n",
       "\n",
       "    fig.rubberband_context.strokeRect(min_x, min_y, width, height);\n",
       "}\n",
       "\n",
       "mpl.figure.prototype.handle_figure_label = function(fig, msg) {\n",
       "    // Updates the figure title.\n",
       "    fig.header.textContent = msg['label'];\n",
       "}\n",
       "\n",
       "mpl.figure.prototype.handle_cursor = function(fig, msg) {\n",
       "    var cursor = msg['cursor'];\n",
       "    switch(cursor)\n",
       "    {\n",
       "    case 0:\n",
       "        cursor = 'pointer';\n",
       "        break;\n",
       "    case 1:\n",
       "        cursor = 'default';\n",
       "        break;\n",
       "    case 2:\n",
       "        cursor = 'crosshair';\n",
       "        break;\n",
       "    case 3:\n",
       "        cursor = 'move';\n",
       "        break;\n",
       "    }\n",
       "    fig.rubberband_canvas.style.cursor = cursor;\n",
       "}\n",
       "\n",
       "mpl.figure.prototype.handle_message = function(fig, msg) {\n",
       "    fig.message.textContent = msg['message'];\n",
       "}\n",
       "\n",
       "mpl.figure.prototype.handle_draw = function(fig, msg) {\n",
       "    // Request the server to send over a new figure.\n",
       "    fig.send_draw_message();\n",
       "}\n",
       "\n",
       "mpl.figure.prototype.handle_image_mode = function(fig, msg) {\n",
       "    fig.image_mode = msg['mode'];\n",
       "}\n",
       "\n",
       "mpl.figure.prototype.updated_canvas_event = function() {\n",
       "    // Called whenever the canvas gets updated.\n",
       "    this.send_message(\"ack\", {});\n",
       "}\n",
       "\n",
       "// A function to construct a web socket function for onmessage handling.\n",
       "// Called in the figure constructor.\n",
       "mpl.figure.prototype._make_on_message_function = function(fig) {\n",
       "    return function socket_on_message(evt) {\n",
       "        if (evt.data instanceof Blob) {\n",
       "            /* FIXME: We get \"Resource interpreted as Image but\n",
       "             * transferred with MIME type text/plain:\" errors on\n",
       "             * Chrome.  But how to set the MIME type?  It doesn't seem\n",
       "             * to be part of the websocket stream */\n",
       "            evt.data.type = \"image/png\";\n",
       "\n",
       "            /* Free the memory for the previous frames */\n",
       "            if (fig.imageObj.src) {\n",
       "                (window.URL || window.webkitURL).revokeObjectURL(\n",
       "                    fig.imageObj.src);\n",
       "            }\n",
       "\n",
       "            fig.imageObj.src = (window.URL || window.webkitURL).createObjectURL(\n",
       "                evt.data);\n",
       "            fig.updated_canvas_event();\n",
       "            fig.waiting = false;\n",
       "            return;\n",
       "        }\n",
       "        else if (typeof evt.data === 'string' && evt.data.slice(0, 21) == \"data:image/png;base64\") {\n",
       "            fig.imageObj.src = evt.data;\n",
       "            fig.updated_canvas_event();\n",
       "            fig.waiting = false;\n",
       "            return;\n",
       "        }\n",
       "\n",
       "        var msg = JSON.parse(evt.data);\n",
       "        var msg_type = msg['type'];\n",
       "\n",
       "        // Call the  \"handle_{type}\" callback, which takes\n",
       "        // the figure and JSON message as its only arguments.\n",
       "        try {\n",
       "            var callback = fig[\"handle_\" + msg_type];\n",
       "        } catch (e) {\n",
       "            console.log(\"No handler for the '\" + msg_type + \"' message type: \", msg);\n",
       "            return;\n",
       "        }\n",
       "\n",
       "        if (callback) {\n",
       "            try {\n",
       "                // console.log(\"Handling '\" + msg_type + \"' message: \", msg);\n",
       "                callback(fig, msg);\n",
       "            } catch (e) {\n",
       "                console.log(\"Exception inside the 'handler_\" + msg_type + \"' callback:\", e, e.stack, msg);\n",
       "            }\n",
       "        }\n",
       "    };\n",
       "}\n",
       "\n",
       "// from http://stackoverflow.com/questions/1114465/getting-mouse-location-in-canvas\n",
       "mpl.findpos = function(e) {\n",
       "    //this section is from http://www.quirksmode.org/js/events_properties.html\n",
       "    var targ;\n",
       "    if (!e)\n",
       "        e = window.event;\n",
       "    if (e.target)\n",
       "        targ = e.target;\n",
       "    else if (e.srcElement)\n",
       "        targ = e.srcElement;\n",
       "    if (targ.nodeType == 3) // defeat Safari bug\n",
       "        targ = targ.parentNode;\n",
       "\n",
       "    // jQuery normalizes the pageX and pageY\n",
       "    // pageX,Y are the mouse positions relative to the document\n",
       "    // offset() returns the position of the element relative to the document\n",
       "    var x = e.pageX - $(targ).offset().left;\n",
       "    var y = e.pageY - $(targ).offset().top;\n",
       "\n",
       "    return {\"x\": x, \"y\": y};\n",
       "};\n",
       "\n",
       "/*\n",
       " * return a copy of an object with only non-object keys\n",
       " * we need this to avoid circular references\n",
       " * http://stackoverflow.com/a/24161582/3208463\n",
       " */\n",
       "function simpleKeys (original) {\n",
       "  return Object.keys(original).reduce(function (obj, key) {\n",
       "    if (typeof original[key] !== 'object')\n",
       "        obj[key] = original[key]\n",
       "    return obj;\n",
       "  }, {});\n",
       "}\n",
       "\n",
       "mpl.figure.prototype.mouse_event = function(event, name) {\n",
       "    var canvas_pos = mpl.findpos(event)\n",
       "\n",
       "    if (name === 'button_press')\n",
       "    {\n",
       "        this.canvas.focus();\n",
       "        this.canvas_div.focus();\n",
       "    }\n",
       "\n",
       "    var x = canvas_pos.x;\n",
       "    var y = canvas_pos.y;\n",
       "\n",
       "    this.send_message(name, {x: x, y: y, button: event.button,\n",
       "                             step: event.step,\n",
       "                             guiEvent: simpleKeys(event)});\n",
       "\n",
       "    /* This prevents the web browser from automatically changing to\n",
       "     * the text insertion cursor when the button is pressed.  We want\n",
       "     * to control all of the cursor setting manually through the\n",
       "     * 'cursor' event from matplotlib */\n",
       "    event.preventDefault();\n",
       "    return false;\n",
       "}\n",
       "\n",
       "mpl.figure.prototype._key_event_extra = function(event, name) {\n",
       "    // Handle any extra behaviour associated with a key event\n",
       "}\n",
       "\n",
       "mpl.figure.prototype.key_event = function(event, name) {\n",
       "\n",
       "    // Prevent repeat events\n",
       "    if (name == 'key_press')\n",
       "    {\n",
       "        if (event.which === this._key)\n",
       "            return;\n",
       "        else\n",
       "            this._key = event.which;\n",
       "    }\n",
       "    if (name == 'key_release')\n",
       "        this._key = null;\n",
       "\n",
       "    var value = '';\n",
       "    if (event.ctrlKey && event.which != 17)\n",
       "        value += \"ctrl+\";\n",
       "    if (event.altKey && event.which != 18)\n",
       "        value += \"alt+\";\n",
       "    if (event.shiftKey && event.which != 16)\n",
       "        value += \"shift+\";\n",
       "\n",
       "    value += 'k';\n",
       "    value += event.which.toString();\n",
       "\n",
       "    this._key_event_extra(event, name);\n",
       "\n",
       "    this.send_message(name, {key: value,\n",
       "                             guiEvent: simpleKeys(event)});\n",
       "    return false;\n",
       "}\n",
       "\n",
       "mpl.figure.prototype.toolbar_button_onclick = function(name) {\n",
       "    if (name == 'download') {\n",
       "        this.handle_save(this, null);\n",
       "    } else {\n",
       "        this.send_message(\"toolbar_button\", {name: name});\n",
       "    }\n",
       "};\n",
       "\n",
       "mpl.figure.prototype.toolbar_button_onmouseover = function(tooltip) {\n",
       "    this.message.textContent = tooltip;\n",
       "};\n",
       "mpl.toolbar_items = [[\"Home\", \"Reset original view\", \"fa fa-home icon-home\", \"home\"], [\"Back\", \"Back to  previous view\", \"fa fa-arrow-left icon-arrow-left\", \"back\"], [\"Forward\", \"Forward to next view\", \"fa fa-arrow-right icon-arrow-right\", \"forward\"], [\"\", \"\", \"\", \"\"], [\"Pan\", \"Pan axes with left mouse, zoom with right\", \"fa fa-arrows icon-move\", \"pan\"], [\"Zoom\", \"Zoom to rectangle\", \"fa fa-square-o icon-check-empty\", \"zoom\"], [\"\", \"\", \"\", \"\"], [\"Download\", \"Download plot\", \"fa fa-floppy-o icon-save\", \"download\"]];\n",
       "\n",
       "mpl.extensions = [\"eps\", \"pdf\", \"png\", \"ps\", \"raw\", \"svg\"];\n",
       "\n",
       "mpl.default_extension = \"png\";var comm_websocket_adapter = function(comm) {\n",
       "    // Create a \"websocket\"-like object which calls the given IPython comm\n",
       "    // object with the appropriate methods. Currently this is a non binary\n",
       "    // socket, so there is still some room for performance tuning.\n",
       "    var ws = {};\n",
       "\n",
       "    ws.close = function() {\n",
       "        comm.close()\n",
       "    };\n",
       "    ws.send = function(m) {\n",
       "        //console.log('sending', m);\n",
       "        comm.send(m);\n",
       "    };\n",
       "    // Register the callback with on_msg.\n",
       "    comm.on_msg(function(msg) {\n",
       "        //console.log('receiving', msg['content']['data'], msg);\n",
       "        // Pass the mpl event to the overriden (by mpl) onmessage function.\n",
       "        ws.onmessage(msg['content']['data'])\n",
       "    });\n",
       "    return ws;\n",
       "}\n",
       "\n",
       "mpl.mpl_figure_comm = function(comm, msg) {\n",
       "    // This is the function which gets called when the mpl process\n",
       "    // starts-up an IPython Comm through the \"matplotlib\" channel.\n",
       "\n",
       "    var id = msg.content.data.id;\n",
       "    // Get hold of the div created by the display call when the Comm\n",
       "    // socket was opened in Python.\n",
       "    var element = $(\"#\" + id);\n",
       "    var ws_proxy = comm_websocket_adapter(comm)\n",
       "\n",
       "    function ondownload(figure, format) {\n",
       "        window.open(figure.imageObj.src);\n",
       "    }\n",
       "\n",
       "    var fig = new mpl.figure(id, ws_proxy,\n",
       "                           ondownload,\n",
       "                           element.get(0));\n",
       "\n",
       "    // Call onopen now - mpl needs it, as it is assuming we've passed it a real\n",
       "    // web socket which is closed, not our websocket->open comm proxy.\n",
       "    ws_proxy.onopen();\n",
       "\n",
       "    fig.parent_element = element.get(0);\n",
       "    fig.cell_info = mpl.find_output_cell(\"<div id='\" + id + \"'></div>\");\n",
       "    if (!fig.cell_info) {\n",
       "        console.error(\"Failed to find cell for figure\", id, fig);\n",
       "        return;\n",
       "    }\n",
       "\n",
       "    var output_index = fig.cell_info[2]\n",
       "    var cell = fig.cell_info[0];\n",
       "\n",
       "};\n",
       "\n",
       "mpl.figure.prototype.handle_close = function(fig, msg) {\n",
       "    fig.root.unbind('remove')\n",
       "\n",
       "    // Update the output cell to use the data from the current canvas.\n",
       "    fig.push_to_output();\n",
       "    var dataURL = fig.canvas.toDataURL();\n",
       "    // Re-enable the keyboard manager in IPython - without this line, in FF,\n",
       "    // the notebook keyboard shortcuts fail.\n",
       "    IPython.keyboard_manager.enable()\n",
       "    $(fig.parent_element).html('<img src=\"' + dataURL + '\">');\n",
       "    fig.close_ws(fig, msg);\n",
       "}\n",
       "\n",
       "mpl.figure.prototype.close_ws = function(fig, msg){\n",
       "    fig.send_message('closing', msg);\n",
       "    // fig.ws.close()\n",
       "}\n",
       "\n",
       "mpl.figure.prototype.push_to_output = function(remove_interactive) {\n",
       "    // Turn the data on the canvas into data in the output cell.\n",
       "    var dataURL = this.canvas.toDataURL();\n",
       "    this.cell_info[1]['text/html'] = '<img src=\"' + dataURL + '\">';\n",
       "}\n",
       "\n",
       "mpl.figure.prototype.updated_canvas_event = function() {\n",
       "    // Tell IPython that the notebook contents must change.\n",
       "    IPython.notebook.set_dirty(true);\n",
       "    this.send_message(\"ack\", {});\n",
       "    var fig = this;\n",
       "    // Wait a second, then push the new image to the DOM so\n",
       "    // that it is saved nicely (might be nice to debounce this).\n",
       "    setTimeout(function () { fig.push_to_output() }, 1000);\n",
       "}\n",
       "\n",
       "mpl.figure.prototype._init_toolbar = function() {\n",
       "    var fig = this;\n",
       "\n",
       "    var nav_element = $('<div/>')\n",
       "    nav_element.attr('style', 'width: 100%');\n",
       "    this.root.append(nav_element);\n",
       "\n",
       "    // Define a callback function for later on.\n",
       "    function toolbar_event(event) {\n",
       "        return fig.toolbar_button_onclick(event['data']);\n",
       "    }\n",
       "    function toolbar_mouse_event(event) {\n",
       "        return fig.toolbar_button_onmouseover(event['data']);\n",
       "    }\n",
       "\n",
       "    for(var toolbar_ind in mpl.toolbar_items){\n",
       "        var name = mpl.toolbar_items[toolbar_ind][0];\n",
       "        var tooltip = mpl.toolbar_items[toolbar_ind][1];\n",
       "        var image = mpl.toolbar_items[toolbar_ind][2];\n",
       "        var method_name = mpl.toolbar_items[toolbar_ind][3];\n",
       "\n",
       "        if (!name) { continue; };\n",
       "\n",
       "        var button = $('<button class=\"btn btn-default\" href=\"#\" title=\"' + name + '\"><i class=\"fa ' + image + ' fa-lg\"></i></button>');\n",
       "        button.click(method_name, toolbar_event);\n",
       "        button.mouseover(tooltip, toolbar_mouse_event);\n",
       "        nav_element.append(button);\n",
       "    }\n",
       "\n",
       "    // Add the status bar.\n",
       "    var status_bar = $('<span class=\"mpl-message\" style=\"text-align:right; float: right;\"/>');\n",
       "    nav_element.append(status_bar);\n",
       "    this.message = status_bar[0];\n",
       "\n",
       "    // Add the close button to the window.\n",
       "    var buttongrp = $('<div class=\"btn-group inline pull-right\"></div>');\n",
       "    var button = $('<button class=\"btn btn-mini btn-primary\" href=\"#\" title=\"Stop Interaction\"><i class=\"fa fa-power-off icon-remove icon-large\"></i></button>');\n",
       "    button.click(function (evt) { fig.handle_close(fig, {}); } );\n",
       "    button.mouseover('Stop Interaction', toolbar_mouse_event);\n",
       "    buttongrp.append(button);\n",
       "    var titlebar = this.root.find($('.ui-dialog-titlebar'));\n",
       "    titlebar.prepend(buttongrp);\n",
       "}\n",
       "\n",
       "mpl.figure.prototype._root_extra_style = function(el){\n",
       "    var fig = this\n",
       "    el.on(\"remove\", function(){\n",
       "\tfig.close_ws(fig, {});\n",
       "    });\n",
       "}\n",
       "\n",
       "mpl.figure.prototype._canvas_extra_style = function(el){\n",
       "    // this is important to make the div 'focusable\n",
       "    el.attr('tabindex', 0)\n",
       "    // reach out to IPython and tell the keyboard manager to turn it's self\n",
       "    // off when our div gets focus\n",
       "\n",
       "    // location in version 3\n",
       "    if (IPython.notebook.keyboard_manager) {\n",
       "        IPython.notebook.keyboard_manager.register_events(el);\n",
       "    }\n",
       "    else {\n",
       "        // location in version 2\n",
       "        IPython.keyboard_manager.register_events(el);\n",
       "    }\n",
       "\n",
       "}\n",
       "\n",
       "mpl.figure.prototype._key_event_extra = function(event, name) {\n",
       "    var manager = IPython.notebook.keyboard_manager;\n",
       "    if (!manager)\n",
       "        manager = IPython.keyboard_manager;\n",
       "\n",
       "    // Check for shift+enter\n",
       "    if (event.shiftKey && event.which == 13) {\n",
       "        this.canvas_div.blur();\n",
       "        event.shiftKey = false;\n",
       "        // Send a \"J\" for go to next cell\n",
       "        event.which = 74;\n",
       "        event.keyCode = 74;\n",
       "        manager.command_mode();\n",
       "        manager.handle_keydown(event);\n",
       "    }\n",
       "}\n",
       "\n",
       "mpl.figure.prototype.handle_save = function(fig, msg) {\n",
       "    fig.ondownload(fig, null);\n",
       "}\n",
       "\n",
       "\n",
       "mpl.find_output_cell = function(html_output) {\n",
       "    // Return the cell and output element which can be found *uniquely* in the notebook.\n",
       "    // Note - this is a bit hacky, but it is done because the \"notebook_saving.Notebook\"\n",
       "    // IPython event is triggered only after the cells have been serialised, which for\n",
       "    // our purposes (turning an active figure into a static one), is too late.\n",
       "    var cells = IPython.notebook.get_cells();\n",
       "    var ncells = cells.length;\n",
       "    for (var i=0; i<ncells; i++) {\n",
       "        var cell = cells[i];\n",
       "        if (cell.cell_type === 'code'){\n",
       "            for (var j=0; j<cell.output_area.outputs.length; j++) {\n",
       "                var data = cell.output_area.outputs[j];\n",
       "                if (data.data) {\n",
       "                    // IPython >= 3 moved mimebundle to data attribute of output\n",
       "                    data = data.data;\n",
       "                }\n",
       "                if (data['text/html'] == html_output) {\n",
       "                    return [cell, data, j];\n",
       "                }\n",
       "            }\n",
       "        }\n",
       "    }\n",
       "}\n",
       "\n",
       "// Register the function which deals with the matplotlib target/channel.\n",
       "// The kernel may be null if the page has been refreshed.\n",
       "if (IPython.notebook.kernel != null) {\n",
       "    IPython.notebook.kernel.comm_manager.register_target('matplotlib', mpl.mpl_figure_comm);\n",
       "}\n"
      ],
      "text/plain": [
       "<IPython.core.display.Javascript object>"
      ]
     },
     "metadata": {},
     "output_type": "display_data"
    },
    {
     "data": {
      "text/html": [
       "<img src=\"data:image/png;base64,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\">"
      ],
      "text/plain": [
       "<IPython.core.display.HTML object>"
      ]
     },
     "metadata": {},
     "output_type": "display_data"
    }
   ],
   "source": [
    "%matplotlib notebook\n",
    "import matplotlib.pyplot as plt\n",
    "\n",
    "plt.hist(x, bins=100, range=[0,100])\n",
    "plt.show()"
   ]
  },
  {
   "cell_type": "code",
   "execution_count": 5,
   "metadata": {
    "collapsed": false
   },
   "outputs": [
    {
     "data": {
      "text/plain": [
       "array([[    0,   249,   297,  1881,  2385,  2889,     0],\n",
       "       [    0,     0,  4065,  4197,  4239,  4281,     0],\n",
       "       [    0,     0,     0,  4379,  5765,  7151, 10385],\n",
       "       [    0,     0,     0,     0, 14741,     0,     0],\n",
       "       [    0,     0,     0,     0,     0,     0,     0],\n",
       "       [    0,     0,     0,     0,     0,     0,     0],\n",
       "       [    0,     0,     0,     0,     0,     0,     0]])"
      ]
     },
     "execution_count": 5,
     "metadata": {},
     "output_type": "execute_result"
    }
   ],
   "source": [
    "ext"
   ]
  },
  {
   "cell_type": "code",
   "execution_count": 13,
   "metadata": {
    "collapsed": false
   },
   "outputs": [
    {
     "data": {
      "text/plain": [
       "(72274, 10760)"
      ]
     },
     "execution_count": 13,
     "metadata": {},
     "output_type": "execute_result"
    }
   ],
   "source": [
    "X.shape"
   ]
  },
  {
   "cell_type": "code",
   "execution_count": 8,
   "metadata": {
    "collapsed": false
   },
   "outputs": [
    {
     "data": {
      "text/plain": [
       "array([ 2.15119564,  2.29900194,  2.0995028 , ...,  1.031052  ,\n",
       "        0.83814329,  0.80688659])"
      ]
     },
     "execution_count": 8,
     "metadata": {},
     "output_type": "execute_result"
    }
   ],
   "source": [
    "Y_pred"
   ]
  },
  {
   "cell_type": "code",
   "execution_count": 138,
   "metadata": {
    "collapsed": false
   },
   "outputs": [
    {
     "data": {
      "text/plain": [
       "RandomForestRegressor(bootstrap=True, criterion='mse', max_depth=None,\n",
       "           max_features=0.5, max_leaf_nodes=None, min_samples_leaf=24,\n",
       "           min_samples_split=2, min_weight_fraction_leaf=0.0,\n",
       "           n_estimators=50, n_jobs=-1, oob_score=False, random_state=None,\n",
       "           verbose=0, warm_start=False)"
      ]
     },
     "execution_count": 138,
     "metadata": {},
     "output_type": "execute_result"
    }
   ],
   "source": [
    "from sklearn.ensemble import RandomForestRegressor\n",
    "\n",
    "rf = RandomForestRegressor(n_estimators=50, max_features=0.5, min_samples_leaf=24, n_jobs=-1)\n",
    "rf.fit(X, Y, weight)"
   ]
  },
  {
   "cell_type": "code",
   "execution_count": 139,
   "metadata": {
    "collapsed": false
   },
   "outputs": [
    {
     "name": "stdout",
     "output_type": "stream",
     "text": [
      "0.474481374663\n"
     ]
    }
   ],
   "source": [
    "Y1_pred = rf.predict(X1)\n",
    "Y1_pred[Y1_pred<0]=0\n",
    "print mape(Y1, Y1_pred, slot1, dist1)"
   ]
  },
  {
   "cell_type": "code",
   "execution_count": 5,
   "metadata": {
    "collapsed": false
   },
   "outputs": [
    {
     "data": {
      "text/plain": [
       "2.0844655127184564"
      ]
     },
     "execution_count": 5,
     "metadata": {},
     "output_type": "execute_result"
    }
   ],
   "source": [
    "Y_pred = rf.predict(X)\n",
    "Y_pred[Y_pred<0]=0\n",
    "mape(Y, Y_pred, slot_train, dist_train)"
   ]
  },
  {
   "cell_type": "code",
   "execution_count": 20,
   "metadata": {
    "collapsed": false
   },
   "outputs": [
    {
     "name": "stdout",
     "output_type": "stream",
     "text": [
      "0.472960543559\n"
     ]
    }
   ],
   "source": [
    "Y1_pred = (lr.predict(X1)+rf.predict(X1))/2\n",
    "Y2_pred = (lr.predict(X2)+rf.predict(X2))/2\n",
    "Y1_pred[Y1_pred<0]=0\n",
    "Y2_pred[Y2_pred<0]=0\n",
    "print (mape(Y1, Y1_pred, slot1, dist1)+mape(Y2, Y2_pred, slot2, dist2))/2"
   ]
  },
  {
   "cell_type": "markdown",
   "metadata": {},
   "source": [
    "| Method description | Training set | Validation set |\n",
    "|---|---|---|\n",
    "| Rigle, alpha=50, weighted. 144slot+24h+weekday+district+pre7dstatus+weather | 0.5123620179427425 | 0.517201372498 |\n",
    "| Rigle, alpha=50, weighted. 144slot+24h+weekday+district+pre7dstatus+pre1slotstatus+weather | 0.46628984499361303 | 0.486138200681 |\n",
    "| RF, tree=50, min_samples_leaf=16, weighted. 144slot+24h+weekday+district+pre7dstatus+pre1slotstatus+weather | 0.44512307730615425 | 0.483293242609 |\n",
    "| RF, tree=50, min_samples_leaf=20, weighted. 144slot+24h+weekday+district+pre7dstatus+pre1slotstatus+1storderstatus | 0.45543519259309279 | 0.48353572376 |\n",
    "| Rigle, alpha=40, weighted. 144slot+24h+weekday+district+pre7dstatus+pre1slotstatus | 0.46387521799056297 | 0.480073979685 |\n",
    "| Rigle, alpha=30, weighted. 144slot+24h+weekday+district+pre7dstatus+pre1slotstatus+combinedpre2slotstatus | 0.44594466350408518 | 0.47709077919 |\n",
    "| Rigle, alpha=30, weighted. 24h+weekday+district+pre7dstatus+pre1slotstatus+combinedpre2slotstatus | 0.45392775229804522 | 0.465871624974 |"
   ]
  },
  {
   "cell_type": "code",
   "execution_count": 34,
   "metadata": {
    "collapsed": false
   },
   "outputs": [],
   "source": [
    "from evaluation import *\n",
    "\n",
    "X, Y, slot_train, dist_train = getdata('training_data_total', None)"
   ]
  },
  {
   "cell_type": "code",
   "execution_count": 2,
   "metadata": {
    "collapsed": false
   },
   "outputs": [],
   "source": [
    "X1, Y1, slot1, dist1 = getdata(\"validation_data\")"
   ]
  },
  {
   "cell_type": "code",
   "execution_count": 3,
   "metadata": {
    "collapsed": false
   },
   "outputs": [],
   "source": [
    "import xgboost as xgb\n",
    "\n",
    "dtrain = xgb.DMatrix(X, label=Y, weight=weight)\n",
    "dvalid = xgb.DMatrix(X1)"
   ]
  },
  {
   "cell_type": "code",
   "execution_count": 53,
   "metadata": {
    "collapsed": false
   },
   "outputs": [],
   "source": [
    "gbdr = xgb.train({\"max_depth\":60,\"objective\":\"reg:linear\", \"eval_metric\":\"mae\", \n",
    "                  \"min_child_weight\":5, 'alpha':10, 'lambda':1,'gamma':1, 'subsample':0.9}, dtrain, num_boost_round=3)"
   ]
  },
  {
   "cell_type": "code",
   "execution_count": 54,
   "metadata": {
    "collapsed": false
   },
   "outputs": [
    {
     "name": "stdout",
     "output_type": "stream",
     "text": [
      "0.389710510719\n",
      "0.402617373827\n"
     ]
    }
   ],
   "source": [
    "Y1_pred = gbdr.predict(dvalid)\n",
    "Y1_pred[Y1_pred<0]=0\n",
    "print mape(Y1, Y1_pred, slot1, dist1)\n",
    "print mapesp(Y1, Y1_pred, slot1, dist1)"
   ]
  },
  {
   "cell_type": "code",
   "execution_count": 55,
   "metadata": {
    "collapsed": false
   },
   "outputs": [
    {
     "data": {
      "text/plain": [
       "0.36212591356868901"
      ]
     },
     "execution_count": 55,
     "metadata": {},
     "output_type": "execute_result"
    }
   ],
   "source": [
    "Y_pred = gbdr.predict(dtrain)\n",
    "Y_pred[Y_pred<0]=0\n",
    "mape(Y, Y_pred, slot_train, dist_train)"
   ]
  },
  {
   "cell_type": "code",
   "execution_count": 50,
   "metadata": {
    "collapsed": false
   },
   "outputs": [],
   "source": [
    "lr = xgb.train({\"booster\":\"gblinear\",'alpha':15, 'lambda':5}, dtrain, num_boost_round=10)"
   ]
  },
  {
   "cell_type": "code",
   "execution_count": 51,
   "metadata": {
    "collapsed": false
   },
   "outputs": [
    {
     "name": "stdout",
     "output_type": "stream",
     "text": [
      "0.463605433711\n"
     ]
    }
   ],
   "source": [
    "Y1_pred = lr.predict(dvalid)\n",
    "Y1_pred[Y1_pred<0]=0\n",
    "print mape(Y1, Y1_pred, slot1, dist1)"
   ]
  },
  {
   "cell_type": "code",
   "execution_count": 52,
   "metadata": {
    "collapsed": false
   },
   "outputs": [
    {
     "data": {
      "text/plain": [
       "0.45351344292540796"
      ]
     },
     "execution_count": 52,
     "metadata": {},
     "output_type": "execute_result"
    }
   ],
   "source": [
    "Y_pred = lr.predict(dtrain)\n",
    "Y_pred[Y_pred<0]=0\n",
    "mape(Y, Y_pred, slot_train, dist_train)"
   ]
  },
  {
   "cell_type": "code",
   "execution_count": 31,
   "metadata": {
    "collapsed": false
   },
   "outputs": [
    {
     "data": {
      "text/plain": [
       "array([ 1.90201676,  1.80177689,  1.50608754, ...,  1.22106409,\n",
       "        1.10895848,  1.20932913], dtype=float32)"
      ]
     },
     "execution_count": 31,
     "metadata": {},
     "output_type": "execute_result"
    }
   ],
   "source": [
    "Y1_pred"
   ]
  },
  {
   "cell_type": "markdown",
   "metadata": {},
   "source": [
    "| Method description | Training set | Validation set |\n",
    "|---|---|---|\n",
    "| xgb.gbrt, depth=50, min_child_weight=16, alpha=5, num_boost_round=3, 24h+weekday+66dist+pre7daystatus+pre1slotstatus+combinedpre2slotsstatus, all cross | 0.38299178471263517 | 0.393472164499 |\n",
    "| xgb.gbrt, depth=50, min_child_weight=1, gamma=12, alpha=5, num_boost_round=3, 24h+weekday+66dist+pre7daystatus+pre1slotstatus+combinedpre2slotsstatus+lrpred, partial cross| 0.37248708570001299 | 0.389232255639 |\n",
    "| xgb.gbrt, depth=5, min_child_weight=5, gamma=10, alpha=5, subsample=0.8, num_boost_round=3,  24h+weekday+66dist+pre7daystatus+pre1slotstatus+combinedpre2slotsstatus+lrpred, partial cross| 0.36640954123432606 | 0.38390488155 |\n",
    "| xgb.gbrt, depth=6, min_child_weight=3, gamma=0, alpha=5, lambda=1, subsample=0.85, num_boost_round=3,  24h+weekday+66dist+pre7daystatus+pre1slotstatus+combinedpre2slotsstatus+pre3avg+pre3std+lrpred, partial cross| 0.36800288199349773 | 0.381476277441 |"
   ]
  },
  {
   "cell_type": "code",
   "execution_count": 31,
   "metadata": {
    "collapsed": false
   },
   "outputs": [
    {
     "data": {
      "text/plain": [
       "array([ 1.82834542,  1.9660418 ,  2.42859507, ...,  1.13123298,\n",
       "        1.01101041,  1.00637913], dtype=float32)"
      ]
     },
     "execution_count": 31,
     "metadata": {},
     "output_type": "execute_result"
    }
   ],
   "source": [
    "Y1_pred"
   ]
  },
  {
   "cell_type": "code",
   "execution_count": 43,
   "metadata": {
    "collapsed": true
   },
   "outputs": [],
   "source": [
    "with open(\"lr_test_rst\", \"w\") as fw:\n",
    "    for y in Y_test:\n",
    "        fw.write(\"{0}\\n\".format(y))"
   ]
  },
  {
   "cell_type": "code",
   "execution_count": 54,
   "metadata": {
    "collapsed": true
   },
   "outputs": [],
   "source": [
    "with open(\"lr_valid_rst\", \"w\") as fw:\n",
    "    for y in Y1_pred:\n",
    "        fw.write(\"{0}\\n\".format(y))"
   ]
  },
  {
   "cell_type": "code",
   "execution_count": 42,
   "metadata": {
    "collapsed": false
   },
   "outputs": [],
   "source": [
    "Xt, recs = gettestdata(\"test_data\", \"season_1/test_set_2/read_me_2.txt\", None)\n",
    "dtest = xgb.DMatrix(Xt)\n",
    "\n",
    "Y_test = lr.predict(dtest)"
   ]
  },
  {
   "cell_type": "code",
   "execution_count": 47,
   "metadata": {
    "collapsed": false
   },
   "outputs": [
    {
     "data": {
      "text/plain": [
       "(2838,)"
      ]
     },
     "execution_count": 47,
     "metadata": {},
     "output_type": "execute_result"
    }
   ],
   "source": [
    "Y_test.shape"
   ]
  },
  {
   "cell_type": "code",
   "execution_count": 3,
   "metadata": {
    "collapsed": false
   },
   "outputs": [],
   "source": [
    "from evaluation import *\n",
    "\n",
    "X, Y, slot_train, dist_train = getdata('training_data', None, extent2d=False)\n",
    "X1, Y1, slot1, dist1 = getdata(\"validation_data\", None, extent2d=False)"
   ]
  },
  {
   "cell_type": "code",
   "execution_count": 4,
   "metadata": {
    "collapsed": false
   },
   "outputs": [],
   "source": [
    "x = np.asarray(X.todense()[:, 184])"
   ]
  },
  {
   "cell_type": "code",
   "execution_count": null,
   "metadata": {
    "collapsed": true
   },
   "outputs": [],
   "source": []
  }
 ],
 "metadata": {
  "kernelspec": {
   "display_name": "Python 2",
   "language": "python",
   "name": "python2"
  },
  "language_info": {
   "codemirror_mode": {
    "name": "ipython",
    "version": 2
   },
   "file_extension": ".py",
   "mimetype": "text/x-python",
   "name": "python",
   "nbconvert_exporter": "python",
   "pygments_lexer": "ipython2",
   "version": "2.7.11"
  }
 },
 "nbformat": 4,
 "nbformat_minor": 0
}
